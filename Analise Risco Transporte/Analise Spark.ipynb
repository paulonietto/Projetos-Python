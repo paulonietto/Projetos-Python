{
 "cells": [
  {
   "cell_type": "code",
   "execution_count": 46,
   "metadata": {
    "collapsed": true,
    "ExecuteTime": {
     "end_time": "2023-07-07T21:00:17.494037300Z",
     "start_time": "2023-07-07T21:00:17.474554100Z"
    }
   },
   "outputs": [],
   "source": [
    "# Imports\n",
    "import pyspark\n",
    "from pyspark import SparkContext\n",
    "from pyspark.sql import SparkSession\n",
    "from pyspark.sql import Window\n",
    "from pyspark.sql.functions import col,row_number,lead,min, max,split, concat_ws,sum\n",
    "from pyspark.sql.types import *\n",
    "import findspark\n",
    "from pyspark.sql.functions import col, isnan, when, count, date_format, mean\n",
    "import pandas as pd\n"
   ]
  },
  {
   "cell_type": "code",
   "execution_count": 2,
   "outputs": [],
   "source": [
    "# Inicializa o spark\n",
    "findspark.init()"
   ],
   "metadata": {
    "collapsed": false,
    "ExecuteTime": {
     "end_time": "2023-07-07T20:25:56.539910400Z",
     "start_time": "2023-07-07T20:25:56.461533500Z"
    }
   }
  },
  {
   "cell_type": "code",
   "execution_count": 3,
   "outputs": [],
   "source": [
    "# Criando o Spark Context\n",
    "sc = SparkContext(appName=\"Projeto_Transporte\")"
   ],
   "metadata": {
    "collapsed": false,
    "ExecuteTime": {
     "end_time": "2023-07-07T20:26:08.750767900Z",
     "start_time": "2023-07-07T20:25:56.477408800Z"
    }
   }
  },
  {
   "cell_type": "code",
   "execution_count": 4,
   "outputs": [],
   "source": [
    "# Cria a sessão\n",
    "spark = SparkSession.builder.getOrCreate()"
   ],
   "metadata": {
    "collapsed": false,
    "ExecuteTime": {
     "end_time": "2023-07-07T20:26:08.907035200Z",
     "start_time": "2023-07-07T20:26:08.750767900Z"
    }
   }
  },
  {
   "cell_type": "code",
   "execution_count": 5,
   "outputs": [
    {
     "name": "stdout",
     "output_type": "stream",
     "text": [
      "<class 'pandas.core.frame.DataFrame'>\n",
      "RangeIndex: 23158 entries, 0 to 23157\n",
      "Data columns (total 12 columns):\n",
      " #   Column                     Non-Null Count  Dtype         \n",
      "---  ------                     --------------  -----         \n",
      " 0   Year                       23158 non-null  int64         \n",
      " 1   Date Of Incident           23158 non-null  datetime64[ns]\n",
      " 2   Route                      23158 non-null  object        \n",
      " 3   Operator                   23158 non-null  object        \n",
      " 4   Group Name                 23158 non-null  object        \n",
      " 5   Bus Garage                 23158 non-null  object        \n",
      " 6   Borough                    23158 non-null  object        \n",
      " 7   Injury Result Description  23158 non-null  object        \n",
      " 8   Incident Event Type        23158 non-null  object        \n",
      " 9   Victim Category            23158 non-null  object        \n",
      " 10  Victims Sex                23158 non-null  object        \n",
      " 11  Victims Age                23158 non-null  object        \n",
      "dtypes: datetime64[ns](1), int64(1), object(10)\n",
      "memory usage: 2.1+ MB\n"
     ]
    }
   ],
   "source": [
    "# Carrega como dataframe do Spark\n",
    "df = pd.read_excel(\"./dados/TFL Bus Safety.xlsx\")\n",
    "df.info()"
   ],
   "metadata": {
    "collapsed": false,
    "ExecuteTime": {
     "end_time": "2023-07-07T20:26:12.730160300Z",
     "start_time": "2023-07-07T20:26:08.907035200Z"
    }
   }
  },
  {
   "cell_type": "code",
   "execution_count": 6,
   "outputs": [
    {
     "data": {
      "text/plain": "Empty DataFrame\nColumns: [Year, Date Of Incident, Route, Operator, Group Name, Bus Garage, Borough, Injury Result Description, Incident Event Type, Victim Category, Victims Sex, Victims Age]\nIndex: []",
      "text/html": "<div>\n<style scoped>\n    .dataframe tbody tr th:only-of-type {\n        vertical-align: middle;\n    }\n\n    .dataframe tbody tr th {\n        vertical-align: top;\n    }\n\n    .dataframe thead th {\n        text-align: right;\n    }\n</style>\n<table border=\"1\" class=\"dataframe\">\n  <thead>\n    <tr style=\"text-align: right;\">\n      <th></th>\n      <th>Year</th>\n      <th>Date Of Incident</th>\n      <th>Route</th>\n      <th>Operator</th>\n      <th>Group Name</th>\n      <th>Bus Garage</th>\n      <th>Borough</th>\n      <th>Injury Result Description</th>\n      <th>Incident Event Type</th>\n      <th>Victim Category</th>\n      <th>Victims Sex</th>\n      <th>Victims Age</th>\n    </tr>\n  </thead>\n  <tbody>\n  </tbody>\n</table>\n</div>"
     },
     "execution_count": 6,
     "metadata": {},
     "output_type": "execute_result"
    }
   ],
   "source": [
    "df[df.Borough == 'None']"
   ],
   "metadata": {
    "collapsed": false,
    "ExecuteTime": {
     "end_time": "2023-07-07T20:26:12.777179900Z",
     "start_time": "2023-07-07T20:26:12.730160300Z"
    }
   }
  },
  {
   "cell_type": "code",
   "execution_count": 7,
   "outputs": [],
   "source": [
    "df.columns = ['Year', 'Date_Incident', 'Route', 'Operator', 'Group_Name',\n",
    "              'Bus_Garage', 'Borough', 'Injury_Result_Description',\n",
    "              'Incident_Event_Type', 'Victim_Category', 'Victims_Sex', 'Victims_Age']"
   ],
   "metadata": {
    "collapsed": false,
    "ExecuteTime": {
     "end_time": "2023-07-07T20:26:12.777179900Z",
     "start_time": "2023-07-07T20:26:12.777179900Z"
    }
   }
  },
  {
   "cell_type": "code",
   "execution_count": 8,
   "outputs": [],
   "source": [
    "#cria o esquema dos metadados\n",
    "df_schema = StructType([StructField(\"Year\", IntegerType(), True), StructField(\"Date_Incident\", TimestampType(), True),\n",
    "                        StructField(\"Route\", StringType(), True), StructField(\"Operator\", StringType(), True),\n",
    "                        StructField(\"Group_Name\", StringType(), True), StructField(\"Bus_Garage\", StringType(), True),\n",
    "                        StructField(\"Borough\", StringType(), True),\n",
    "                        StructField(\"Injury_Result_Description\", StringType(), True),\n",
    "                        StructField(\"Incident_Event_Type\", StringType(), True),\n",
    "                        StructField(\"Victim_Category\", StringType(), True),\n",
    "                        StructField(\"Victims_Sex\", StringType(), True), StructField(\"Victims_Age\", StringType(), True)])"
   ],
   "metadata": {
    "collapsed": false,
    "ExecuteTime": {
     "end_time": "2023-07-07T20:26:12.792537400Z",
     "start_time": "2023-07-07T20:26:12.777179900Z"
    }
   }
  },
  {
   "cell_type": "code",
   "execution_count": 9,
   "outputs": [],
   "source": [
    "df_spark = spark.createDataFrame(df, schema=df_schema)"
   ],
   "metadata": {
    "collapsed": false,
    "ExecuteTime": {
     "end_time": "2023-07-07T20:26:19.060744300Z",
     "start_time": "2023-07-07T20:26:12.792537400Z"
    }
   }
  },
  {
   "cell_type": "code",
   "execution_count": 10,
   "outputs": [
    {
     "data": {
      "text/plain": "pyspark.sql.dataframe.DataFrame"
     },
     "execution_count": 10,
     "metadata": {},
     "output_type": "execute_result"
    }
   ],
   "source": [
    "# Tipo do objeto\n",
    "type(df_spark)"
   ],
   "metadata": {
    "collapsed": false,
    "ExecuteTime": {
     "end_time": "2023-07-07T20:26:19.076432200Z",
     "start_time": "2023-07-07T20:26:19.060744300Z"
    }
   }
  },
  {
   "cell_type": "code",
   "execution_count": 11,
   "outputs": [
    {
     "name": "stdout",
     "output_type": "stream",
     "text": [
      "+----+-------------------+-----+--------------+-------------+--------------------+--------------------+-------------------------+-------------------+---------------+-----------+-----------+\n",
      "|Year|      Date_Incident|Route|      Operator|   Group_Name|          Bus_Garage|             Borough|Injury_Result_Description|Incident_Event_Type|Victim_Category|Victims_Sex|Victims_Age|\n",
      "+----+-------------------+-----+--------------+-------------+--------------------+--------------------+-------------------------+-------------------+---------------+-----------+-----------+\n",
      "|2015|2015-01-01 00:00:00|    1|London General|     Go-Ahead|Garage Not Available|           Southwark|     Injuries treated ...|   Onboard Injuries|      Passenger|       Male|      Child|\n",
      "|2015|2015-01-01 00:00:00|    4|     Metroline|    Metroline|Garage Not Available|           Islington|     Injuries treated ...|   Onboard Injuries|      Passenger|       Male|    Unknown|\n",
      "|2015|2015-01-01 00:00:00|    5|   East London|   Stagecoach|Garage Not Available|            Havering|     Taken to Hospital...|   Onboard Injuries|      Passenger|       Male|    Elderly|\n",
      "|2015|2015-01-01 00:00:00|    5|   East London|   Stagecoach|Garage Not Available| None London Borough|     Taken to Hospital...|   Onboard Injuries|      Passenger|       Male|    Elderly|\n",
      "|2015|2015-01-01 00:00:00|    6|     Metroline|    Metroline|Garage Not Available|         Westminster|     Reported Minor In...|   Onboard Injuries|     Pedestrian|     Female|    Elderly|\n",
      "|2015|2015-01-01 00:00:00|    6|     Metroline|    Metroline|Garage Not Available|         Westminster|     Taken to Hospital...|   Onboard Injuries|      Passenger|     Female|    Elderly|\n",
      "|2015|2015-01-01 00:00:00|    8|       Selkent|   Stagecoach|Garage Not Available|      City of London|     Injuries treated ...|   Onboard Injuries|      Passenger|       Male|      Adult|\n",
      "|2015|2015-01-01 00:00:00|    9| London United|London United|Garage Not Available|Hammersmith & Fulham|     Injuries treated ...|   Onboard Injuries|      Conductor|    Unknown|    Unknown|\n",
      "|2015|2015-01-01 00:00:00|   10| London United|London United|Garage Not Available|         Westminster|     Injuries treated ...|   Onboard Injuries|      Passenger|     Female|    Elderly|\n",
      "|2015|2015-01-01 00:00:00|   11|London General|     Go-Ahead|Garage Not Available|      City of London|     Taken to Hospital...|   Onboard Injuries|      Passenger|     Female|      Adult|\n",
      "|2015|2015-01-01 00:00:00|   11|London General|     Go-Ahead|Garage Not Available|         Westminster|     Injuries treated ...|   Onboard Injuries|      Passenger|     Female|      Adult|\n",
      "|2015|2015-01-01 00:00:00|   11|London General|     Go-Ahead|Garage Not Available|         Westminster|     Injuries treated ...|   Onboard Injuries|      Passenger|     Female|      Adult|\n",
      "|2015|2015-01-01 00:00:00|   12|London Central|     Go-Ahead|Garage Not Available|           Southwark|     Injuries treated ...|   Onboard Injuries|      Passenger|     Female|      Adult|\n",
      "|2015|2015-01-01 00:00:00|   12|London Central|     Go-Ahead|Garage Not Available|           Southwark|     Reported Minor In...|   Onboard Injuries|      Passenger|       Male|      Child|\n",
      "|2015|2015-01-01 00:00:00|   12|London Central|     Go-Ahead|Garage Not Available|           Southwark|     Taken to Hospital...|   Onboard Injuries|      Passenger|       Male|    Elderly|\n",
      "|2015|2015-01-01 00:00:00|   12|London Central|     Go-Ahead|Garage Not Available|         Westminster|     Taken to Hospital...|   Onboard Injuries|      Passenger|     Female|    Unknown|\n",
      "|2015|2015-01-01 00:00:00|   14|London General|     Go-Ahead|Garage Not Available|Kensington & Chelsea|     Injuries treated ...|   Onboard Injuries|      Passenger|    Unknown|    Unknown|\n",
      "|2015|2015-01-01 00:00:00|   14|London General|     Go-Ahead|Garage Not Available|         Westminster|     Reported Minor In...| Collision Incident|     Pedestrian|    Unknown|    Unknown|\n",
      "|2015|2015-01-01 00:00:00|   16|     Metroline|    Metroline|Garage Not Available|               Brent|     Taken to Hospital...|   Onboard Injuries|      Passenger|    Unknown|      Adult|\n",
      "|2015|2015-01-01 00:00:00|   17|     Metroline|    Metroline|Garage Not Available|           Southwark|     Reported Minor In...|   Onboard Injuries|     Pedestrian|       Male|    Unknown|\n",
      "+----+-------------------+-----+--------------+-------------+--------------------+--------------------+-------------------------+-------------------+---------------+-----------+-----------+\n",
      "only showing top 20 rows\n",
      "\n"
     ]
    }
   ],
   "source": [
    "# Visualiza os dados\n",
    "df_spark.show()"
   ],
   "metadata": {
    "collapsed": false,
    "ExecuteTime": {
     "end_time": "2023-07-07T20:26:21.480482600Z",
     "start_time": "2023-07-07T20:26:19.076432200Z"
    }
   }
  },
  {
   "cell_type": "code",
   "execution_count": 12,
   "outputs": [
    {
     "name": "stdout",
     "output_type": "stream",
     "text": [
      "root\n",
      " |-- Year: integer (nullable = true)\n",
      " |-- Date_Incident: timestamp (nullable = true)\n",
      " |-- Route: string (nullable = true)\n",
      " |-- Operator: string (nullable = true)\n",
      " |-- Group_Name: string (nullable = true)\n",
      " |-- Bus_Garage: string (nullable = true)\n",
      " |-- Borough: string (nullable = true)\n",
      " |-- Injury_Result_Description: string (nullable = true)\n",
      " |-- Incident_Event_Type: string (nullable = true)\n",
      " |-- Victim_Category: string (nullable = true)\n",
      " |-- Victims_Sex: string (nullable = true)\n",
      " |-- Victims_Age: string (nullable = true)\n",
      "\n"
     ]
    }
   ],
   "source": [
    "# Visualiza os metadados (schema)\n",
    "df_spark.printSchema()"
   ],
   "metadata": {
    "collapsed": false,
    "ExecuteTime": {
     "end_time": "2023-07-07T20:26:21.496107600Z",
     "start_time": "2023-07-07T20:26:21.480482600Z"
    }
   }
  },
  {
   "cell_type": "code",
   "execution_count": 13,
   "outputs": [
    {
     "data": {
      "text/plain": "23158"
     },
     "execution_count": 13,
     "metadata": {},
     "output_type": "execute_result"
    }
   ],
   "source": [
    "# Verifica o número de linhas\n",
    "df_spark.count()"
   ],
   "metadata": {
    "collapsed": false,
    "ExecuteTime": {
     "end_time": "2023-07-07T20:26:28.833594100Z",
     "start_time": "2023-07-07T20:26:21.496107600Z"
    }
   }
  },
  {
   "cell_type": "code",
   "execution_count": 14,
   "outputs": [
    {
     "data": {
      "text/plain": "DataFrame[summary: string, Year: string, Route: string, Operator: string, Group_Name: string, Bus_Garage: string, Borough: string, Injury_Result_Description: string, Incident_Event_Type: string, Victim_Category: string, Victims_Sex: string, Victims_Age: string]"
     },
     "execution_count": 14,
     "metadata": {},
     "output_type": "execute_result"
    }
   ],
   "source": [
    "df_spark.describe()"
   ],
   "metadata": {
    "collapsed": false,
    "ExecuteTime": {
     "end_time": "2023-07-07T20:26:37.529564Z",
     "start_time": "2023-07-07T20:26:28.833594100Z"
    }
   }
  },
  {
   "cell_type": "code",
   "execution_count": 15,
   "outputs": [
    {
     "data": {
      "text/plain": "'Date_Incident'"
     },
     "execution_count": 15,
     "metadata": {},
     "output_type": "execute_result"
    }
   ],
   "source": [
    "#Remove o datetime para verificar valores ausente. O datetime dá erro\n",
    "columns = df_spark.columns\n",
    "columns.pop(1)"
   ],
   "metadata": {
    "collapsed": false,
    "ExecuteTime": {
     "end_time": "2023-07-07T20:26:37.592065200Z",
     "start_time": "2023-07-07T20:26:37.529564Z"
    }
   }
  },
  {
   "cell_type": "code",
   "execution_count": 16,
   "outputs": [
    {
     "name": "stdout",
     "output_type": "stream",
     "text": [
      "+----+-----+--------+----------+----------+-------+-------------------------+-------------------+---------------+-----------+-----------+\n",
      "|Year|Route|Operator|Group_Name|Bus_Garage|Borough|Injury_Result_Description|Incident_Event_Type|Victim_Category|Victims_Sex|Victims_Age|\n",
      "+----+-----+--------+----------+----------+-------+-------------------------+-------------------+---------------+-----------+-----------+\n",
      "|   0|    0|       0|         0|         0|    561|                        0|                  0|              0|          0|          0|\n",
      "+----+-----+--------+----------+----------+-------+-------------------------+-------------------+---------------+-----------+-----------+\n",
      "\n"
     ]
    }
   ],
   "source": [
    "df_spark.select([count(when(col(c).contains('None') | col(c).contains('NULL') | \\\n",
    "                            (col(c) == '') | col(c).isNull() | isnan(c), c\n",
    "                            )).alias(c) for c in columns]).show()"
   ],
   "metadata": {
    "collapsed": false,
    "ExecuteTime": {
     "end_time": "2023-07-07T20:26:44.885385400Z",
     "start_time": "2023-07-07T20:26:37.545191Z"
    }
   }
  },
  {
   "cell_type": "code",
   "execution_count": 17,
   "outputs": [
    {
     "name": "stdout",
     "output_type": "stream",
     "text": [
      "+-------------------+\n",
      "|            Borough|\n",
      "+-------------------+\n",
      "|None London Borough|\n",
      "|None London Borough|\n",
      "|None London Borough|\n",
      "|None London Borough|\n",
      "|None London Borough|\n",
      "|None London Borough|\n",
      "|None London Borough|\n",
      "|None London Borough|\n",
      "|None London Borough|\n",
      "|None London Borough|\n",
      "|None London Borough|\n",
      "|None London Borough|\n",
      "|None London Borough|\n",
      "|None London Borough|\n",
      "|None London Borough|\n",
      "|None London Borough|\n",
      "|None London Borough|\n",
      "|None London Borough|\n",
      "|None London Borough|\n",
      "|None London Borough|\n",
      "+-------------------+\n",
      "only showing top 20 rows\n",
      "\n"
     ]
    }
   ],
   "source": [
    "#Imprimir os valores None identificados pelo Spark\n",
    "df_borough= df_spark.filter(col(\"Borough\").contains('None'))\n",
    "df_borough.select(\"Borough\").show()"
   ],
   "metadata": {
    "collapsed": false,
    "ExecuteTime": {
     "end_time": "2023-07-07T20:26:45.917644800Z",
     "start_time": "2023-07-07T20:26:44.885385400Z"
    }
   }
  },
  {
   "cell_type": "code",
   "execution_count": 18,
   "outputs": [
    {
     "name": "stdout",
     "output_type": "stream",
     "text": [
      "+--------------------+\n",
      "|             Borough|\n",
      "+--------------------+\n",
      "|          Wandsworth|\n",
      "|             Croydon|\n",
      "|              Bexley|\n",
      "|             Lambeth|\n",
      "|              Camden|\n",
      "|Hammersmith & Fulham|\n",
      "|           Greenwich|\n",
      "|              Newham|\n",
      "|       Tower Hamlets|\n",
      "|  Barking & Dagenham|\n",
      "|            Hounslow|\n",
      "|              Barnet|\n",
      "|              Harrow|\n",
      "|           Islington|\n",
      "|               Brent|\n",
      "|            Haringey|\n",
      "|             Bromley|\n",
      "|              Merton|\n",
      "|         Westminster|\n",
      "|           Southwark|\n",
      "|             Hackney|\n",
      "| None London Borough|\n",
      "|Richmond Upon Thames|\n",
      "|             Enfield|\n",
      "|              Ealing|\n",
      "|              Sutton|\n",
      "|       Not specified|\n",
      "|Kingston upon Thames|\n",
      "|Kensington & Chelsea|\n",
      "|            Havering|\n",
      "|          Hillingdon|\n",
      "|      Waltham Forest|\n",
      "|           Redbridge|\n",
      "|      City of London|\n",
      "|            Lewisham|\n",
      "+--------------------+\n",
      "\n"
     ]
    }
   ],
   "source": [
    "#Visualizar valores unicos da coluna Borough\n",
    "df_spark.select('Borough').distinct().show(35)"
   ],
   "metadata": {
    "collapsed": false,
    "ExecuteTime": {
     "end_time": "2023-07-07T20:26:53.074135200Z",
     "start_time": "2023-07-07T20:26:45.917644800Z"
    }
   }
  },
  {
   "cell_type": "code",
   "execution_count": 19,
   "outputs": [],
   "source": [
    "# Remove valores NA\n",
    "df_spark = df_spark.dropna('any')"
   ],
   "metadata": {
    "collapsed": false,
    "ExecuteTime": {
     "end_time": "2023-07-07T20:26:53.136634300Z",
     "start_time": "2023-07-07T20:26:53.074135200Z"
    }
   }
  },
  {
   "cell_type": "code",
   "execution_count": 20,
   "outputs": [
    {
     "data": {
      "text/plain": "23158"
     },
     "execution_count": 20,
     "metadata": {},
     "output_type": "execute_result"
    }
   ],
   "source": [
    "df_spark.count()"
   ],
   "metadata": {
    "collapsed": false,
    "ExecuteTime": {
     "end_time": "2023-07-07T20:26:59.975228800Z",
     "start_time": "2023-07-07T20:26:53.105382700Z"
    }
   }
  },
  {
   "cell_type": "code",
   "execution_count": 20,
   "outputs": [],
   "source": [],
   "metadata": {
    "collapsed": false,
    "ExecuteTime": {
     "end_time": "2023-07-07T20:27:00.037724500Z",
     "start_time": "2023-07-07T20:26:59.975228800Z"
    }
   }
  },
  {
   "cell_type": "code",
   "execution_count": 21,
   "outputs": [],
   "source": [
    "#Vamos extrair a coluna Mês\n",
    "df_spark = df_spark.withColumn(\"Month\", split(col(\"Date_Incident\"),\"-\").getItem(1))"
   ],
   "metadata": {
    "collapsed": false,
    "ExecuteTime": {
     "end_time": "2023-07-07T20:27:00.053348400Z",
     "start_time": "2023-07-07T20:26:59.990886100Z"
    }
   }
  },
  {
   "cell_type": "code",
   "execution_count": 22,
   "outputs": [],
   "source": [
    "df_spark=df_spark.withColumn(\"Month\",col(\"Month\").cast(\"integer\"))"
   ],
   "metadata": {
    "collapsed": false,
    "ExecuteTime": {
     "end_time": "2023-07-07T20:27:00.068973Z",
     "start_time": "2023-07-07T20:27:00.037724500Z"
    }
   }
  },
  {
   "cell_type": "code",
   "execution_count": 23,
   "outputs": [
    {
     "name": "stdout",
     "output_type": "stream",
     "text": [
      "root\n",
      " |-- Year: integer (nullable = true)\n",
      " |-- Date_Incident: timestamp (nullable = true)\n",
      " |-- Route: string (nullable = true)\n",
      " |-- Operator: string (nullable = true)\n",
      " |-- Group_Name: string (nullable = true)\n",
      " |-- Bus_Garage: string (nullable = true)\n",
      " |-- Borough: string (nullable = true)\n",
      " |-- Injury_Result_Description: string (nullable = true)\n",
      " |-- Incident_Event_Type: string (nullable = true)\n",
      " |-- Victim_Category: string (nullable = true)\n",
      " |-- Victims_Sex: string (nullable = true)\n",
      " |-- Victims_Age: string (nullable = true)\n",
      " |-- Month: integer (nullable = true)\n",
      "\n"
     ]
    }
   ],
   "source": [
    "df_spark.printSchema()"
   ],
   "metadata": {
    "collapsed": false,
    "ExecuteTime": {
     "end_time": "2023-07-07T20:27:00.084604100Z",
     "start_time": "2023-07-07T20:27:00.068973Z"
    }
   }
  },
  {
   "cell_type": "code",
   "execution_count": 24,
   "outputs": [],
   "source": [
    "df_spark=df_spark.withColumn(\"Month_Year\",date_format(\"Date_Incident\",'MM-yyyy'))"
   ],
   "metadata": {
    "collapsed": false,
    "ExecuteTime": {
     "end_time": "2023-07-07T20:27:00.147096900Z",
     "start_time": "2023-07-07T20:27:00.084604100Z"
    }
   }
  },
  {
   "cell_type": "code",
   "execution_count": 25,
   "outputs": [
    {
     "name": "stdout",
     "output_type": "stream",
     "text": [
      "root\n",
      " |-- Year: integer (nullable = true)\n",
      " |-- Date_Incident: timestamp (nullable = true)\n",
      " |-- Route: string (nullable = true)\n",
      " |-- Operator: string (nullable = true)\n",
      " |-- Group_Name: string (nullable = true)\n",
      " |-- Bus_Garage: string (nullable = true)\n",
      " |-- Borough: string (nullable = true)\n",
      " |-- Injury_Result_Description: string (nullable = true)\n",
      " |-- Incident_Event_Type: string (nullable = true)\n",
      " |-- Victim_Category: string (nullable = true)\n",
      " |-- Victims_Sex: string (nullable = true)\n",
      " |-- Victims_Age: string (nullable = true)\n",
      " |-- Month: integer (nullable = true)\n",
      " |-- Month_Year: string (nullable = true)\n",
      "\n"
     ]
    }
   ],
   "source": [
    "df_spark.printSchema()"
   ],
   "metadata": {
    "collapsed": false,
    "ExecuteTime": {
     "end_time": "2023-07-07T20:27:00.147096900Z",
     "start_time": "2023-07-07T20:27:00.115848800Z"
    }
   }
  },
  {
   "cell_type": "code",
   "execution_count": 26,
   "outputs": [
    {
     "name": "stdout",
     "output_type": "stream",
     "text": [
      "+----------+\n",
      "|Month_Year|\n",
      "+----------+\n",
      "|   01-2015|\n",
      "|   04-2015|\n",
      "|   05-2015|\n",
      "|   06-2015|\n",
      "|   02-2015|\n",
      "|   09-2015|\n",
      "|   08-2015|\n",
      "|   03-2015|\n",
      "|   11-2015|\n",
      "|   10-2015|\n",
      "|   07-2015|\n",
      "|   12-2015|\n",
      "|   04-2016|\n",
      "|   10-2016|\n",
      "|   12-2016|\n",
      "|   11-2016|\n",
      "|   01-2016|\n",
      "|   05-2016|\n",
      "|   08-2016|\n",
      "|   06-2016|\n",
      "+----------+\n",
      "only showing top 20 rows\n",
      "\n"
     ]
    }
   ],
   "source": [
    "df_spark.select(\"Month_Year\").distinct().show()"
   ],
   "metadata": {
    "collapsed": false,
    "ExecuteTime": {
     "end_time": "2023-07-07T20:27:07.147944200Z",
     "start_time": "2023-07-07T20:27:00.147096900Z"
    }
   }
  },
  {
   "cell_type": "markdown",
   "source": [
    "### Pergunta 1 - Qual a quantidade de incidentes por gênero?"
   ],
   "metadata": {
    "collapsed": false
   }
  },
  {
   "cell_type": "code",
   "execution_count": 27,
   "outputs": [
    {
     "name": "stdout",
     "output_type": "stream",
     "text": [
      "+-----------+-----+\n",
      "|Victims_Sex|Total|\n",
      "+-----------+-----+\n",
      "|     Female|11847|\n",
      "|    Unknown| 3602|\n",
      "|       Male| 7709|\n",
      "+-----------+-----+\n",
      "\n"
     ]
    }
   ],
   "source": [
    "df_spark.groupby('Victims_Sex').agg(count(col(\"Victims_Sex\")).alias('Total')).show()"
   ],
   "metadata": {
    "collapsed": false,
    "ExecuteTime": {
     "end_time": "2023-07-07T20:27:14.207989700Z",
     "start_time": "2023-07-07T20:27:07.148505500Z"
    }
   }
  },
  {
   "cell_type": "markdown",
   "source": [
    "### Pergunta 2 - Qual faixa etária esteve mais envolvida nos incidentes?"
   ],
   "metadata": {
    "collapsed": false
   }
  },
  {
   "cell_type": "code",
   "execution_count": 28,
   "outputs": [
    {
     "name": "stdout",
     "output_type": "stream",
     "text": [
      "+-----------+-----+\n",
      "|Victims_Age|Total|\n",
      "+-----------+-----+\n",
      "|      Adult|10754|\n",
      "+-----------+-----+\n",
      "only showing top 1 row\n",
      "\n"
     ]
    }
   ],
   "source": [
    "df_spark.groupby('Victims_Age').agg(count(col(\"Victims_Age\")).alias('Total')).orderBy('Total', ascending = False).show(1)"
   ],
   "metadata": {
    "collapsed": false,
    "ExecuteTime": {
     "end_time": "2023-07-07T20:27:21.407758Z",
     "start_time": "2023-07-07T20:27:14.207989700Z"
    }
   }
  },
  {
   "cell_type": "markdown",
   "source": [
    "### Pergunta 3 - Qual o percentual de incidentes por tipo de evento (Incident Event Type)?"
   ],
   "metadata": {
    "collapsed": false
   }
  },
  {
   "cell_type": "code",
   "execution_count": 29,
   "outputs": [
    {
     "name": "stdout",
     "output_type": "stream",
     "text": [
      "+--------------------+-----+--------------------+\n",
      "| Incident_Event_Type|Total|          Percentual|\n",
      "+--------------------+-----+--------------------+\n",
      "|Vandalism Hooliga...|   73|   0.315225839882546|\n",
      "|             Assault|  590|   2.547715692201399|\n",
      "|    Onboard Injuries| 6563|  28.340098454097934|\n",
      "|  Collision Incident| 4166|   17.98946368425598|\n",
      "|Safety Critical F...|   66| 0.28499870455134296|\n",
      "|     Personal Injury| 4596|   19.84627342602988|\n",
      "|Activity Incident...|  114|  0.4922704896795924|\n",
      "|                Fire|    6|0.025908973141031175|\n",
      "|      Slip Trip Fall| 6981|  30.145090249589774|\n",
      "|             Robbery|    3|0.012954486570515587|\n",
      "+--------------------+-----+--------------------+\n",
      "\n"
     ]
    }
   ],
   "source": [
    "df_spark_perc = df_spark.groupby('Incident_Event_Type').agg(count(col(\"Incident_Event_Type\")).alias('Total'))\n",
    "df_spark_perc = df_spark_perc.withColumn(\"Percentual\",(df_spark_perc['Total']/df_spark.count())*100)\n",
    "df_spark_perc.show()"
   ],
   "metadata": {
    "collapsed": false,
    "ExecuteTime": {
     "end_time": "2023-07-07T20:27:35.375207500Z",
     "start_time": "2023-07-07T20:27:21.407758Z"
    }
   }
  },
  {
   "cell_type": "markdown",
   "source": [
    "### Pergunta 4 - Como foi a evolução de incidentes por mês ao longo do tempo?"
   ],
   "metadata": {
    "collapsed": false
   }
  },
  {
   "cell_type": "code",
   "execution_count": 35,
   "outputs": [
    {
     "name": "stdout",
     "output_type": "stream",
     "text": [
      "+----+-----+-----+\n",
      "|Year|Month|Total|\n",
      "+----+-----+-----+\n",
      "|2015|    2|  371|\n",
      "|2015|    4|  470|\n",
      "|2015|    6|  564|\n",
      "|2015|    1|  399|\n",
      "|2015|    5|  472|\n",
      "|2015|    8|  446|\n",
      "|2015|   11|  495|\n",
      "|2015|    9|  487|\n",
      "|2015|   10|  470|\n",
      "|2015|    3|  460|\n",
      "|2015|    7|  558|\n",
      "|2015|   12|  523|\n",
      "|2016|   11|  612|\n",
      "|2016|   10|  551|\n",
      "|2016|   12|  471|\n",
      "|2016|    1|  466|\n",
      "|2016|    4|  504|\n",
      "|2016|    7|  507|\n",
      "|2016|    5|  494|\n",
      "|2016|    2|  484|\n",
      "+----+-----+-----+\n",
      "only showing top 20 rows\n",
      "\n"
     ]
    }
   ],
   "source": [
    "df_spark_evo_incidente =  df_spark.groupby('Year','Month').agg(count(col(\"Incident_Event_Type\")).alias('Total'))\n",
    "df_spark_evo_incidente.show()"
   ],
   "metadata": {
    "collapsed": false,
    "ExecuteTime": {
     "end_time": "2023-07-07T20:42:24.561124700Z",
     "start_time": "2023-07-07T20:42:17.530377200Z"
    }
   }
  },
  {
   "cell_type": "markdown",
   "source": [
    "### Pergunta 5 - Quando o incidente foi “Collision Incident” em qual mês houve o maior número de incidentes envolvendo pessoas do sexo feminino?"
   ],
   "metadata": {
    "collapsed": false
   }
  },
  {
   "cell_type": "code",
   "execution_count": 39,
   "outputs": [
    {
     "name": "stdout",
     "output_type": "stream",
     "text": [
      "+-----+-----+\n",
      "|Month|Total|\n",
      "+-----+-----+\n",
      "|    9|  158|\n",
      "+-----+-----+\n",
      "only showing top 1 row\n",
      "\n"
     ]
    }
   ],
   "source": [
    "df_spark.filter((col('Incident_Event_Type') == 'Collision Incident') & (col('Victims_Sex') == 'Female')).groupby('Month').agg(count(col(\"Victims_Sex\")).alias('Total')).orderBy('Total', ascending = False).show(1)"
   ],
   "metadata": {
    "collapsed": false,
    "ExecuteTime": {
     "end_time": "2023-07-07T20:49:14.733758100Z",
     "start_time": "2023-07-07T20:49:07.724200700Z"
    }
   }
  },
  {
   "cell_type": "markdown",
   "source": [
    "### Pergunta 6 -Qual foi a média de incidentes por mês envolvendo crianças (Child)?"
   ],
   "metadata": {
    "collapsed": false
   }
  },
  {
   "cell_type": "code",
   "execution_count": 49,
   "outputs": [
    {
     "name": "stdout",
     "output_type": "stream",
     "text": [
      "+-----+------------------+\n",
      "|Month|        avg(Total)|\n",
      "+-----+------------------+\n",
      "|   12|35.666666666666664|\n",
      "|    1|              31.5|\n",
      "|    6|             61.25|\n",
      "|    3|              47.5|\n",
      "|    5|              51.5|\n",
      "|    9|             56.25|\n",
      "|    4|              56.5|\n",
      "|    8|              52.0|\n",
      "|    7|              58.0|\n",
      "|   10|              50.0|\n",
      "|   11|              40.0|\n",
      "|    2|              36.5|\n",
      "+-----+------------------+\n",
      "\n"
     ]
    }
   ],
   "source": [
    "df_spark.filter(col('Victims_Age') == 'Child').groupby('Year', 'Month').agg(count('Victims_Age').alias('Total')).groupby('Month').agg(\n",
    "    {'Total':'mean'}).show()"
   ],
   "metadata": {
    "collapsed": false,
    "ExecuteTime": {
     "end_time": "2023-07-07T21:04:33.596326500Z",
     "start_time": "2023-07-07T21:04:26.573337400Z"
    }
   }
  },
  {
   "cell_type": "markdown",
   "source": [
    "### Pergunta 7 - Considerando a descrição de incidente como “Injuries treated on scene”, qual o total de incidentes de pessoas do sexo masculino e sexo feminino?"
   ],
   "metadata": {
    "collapsed": false
   }
  },
  {
   "cell_type": "code",
   "execution_count": 52,
   "outputs": [
    {
     "data": {
      "text/plain": "14448"
     },
     "execution_count": 52,
     "metadata": {},
     "output_type": "execute_result"
    }
   ],
   "source": [
    "df_spark.filter((col('Injury_Result_Description')=='Injuries treated on scene')&(col('Victims_Sex') != 'Unknown')).count()"
   ],
   "metadata": {
    "collapsed": false,
    "ExecuteTime": {
     "end_time": "2023-07-07T21:10:59.184086900Z",
     "start_time": "2023-07-07T21:10:52.369029100Z"
    }
   }
  },
  {
   "cell_type": "markdown",
   "source": [
    "### Pergunta 8 - No ano de 2017 em qual mês houve mais incidentes com idosos (Elderly)?"
   ],
   "metadata": {
    "collapsed": false
   }
  },
  {
   "cell_type": "code",
   "execution_count": 53,
   "outputs": [
    {
     "name": "stdout",
     "output_type": "stream",
     "text": [
      "+-----+-----+\n",
      "|Month|Total|\n",
      "+-----+-----+\n",
      "|    7|   81|\n",
      "+-----+-----+\n",
      "only showing top 1 row\n",
      "\n"
     ]
    }
   ],
   "source": [
    "df_spark.filter((col('Year') == 2017)&(col('Victims_Age') == 'Elderly')).groupby('Month').agg(count('Victims_Age').alias('Total')).orderBy('Total', ascending = False).show(1)"
   ],
   "metadata": {
    "collapsed": false,
    "ExecuteTime": {
     "end_time": "2023-07-07T21:17:52.523993400Z",
     "start_time": "2023-07-07T21:17:45.424527500Z"
    }
   }
  },
  {
   "cell_type": "markdown",
   "source": [
    "### Pergunta 9 - Considerando o Operador qual a distribuição de incidentes ao longo do tempo?"
   ],
   "metadata": {
    "collapsed": false
   }
  },
  {
   "cell_type": "code",
   "execution_count": 60,
   "outputs": [
    {
     "name": "stdout",
     "output_type": "stream",
     "text": [
      "+----+-----+--------------------+-----+\n",
      "|Year|Month|            Operator|Total|\n",
      "+----+-----+--------------------+-----+\n",
      "|2015|    4|      London Central|   30|\n",
      "|2015|    5|            Metrobus|   13|\n",
      "|2015|    1|      Metroline West|   25|\n",
      "|2015|    1|             Selkent|   27|\n",
      "|2015|    1|       Tower Transit|    7|\n",
      "|2015|    2|         East London|   29|\n",
      "|2015|    6|      London General|   32|\n",
      "|2015|    5| Arriva London North|   64|\n",
      "|2015|    5|    London Sovereign|    6|\n",
      "|2015|    6| Arriva London South|   49|\n",
      "|2015|    4| Blue Triangle Buses|    2|\n",
      "|2015|    1|         East London|    4|\n",
      "|2015|    6|        Abellio West|    2|\n",
      "|2015|    1|Arriva Kent Thame...|   14|\n",
      "|2015|    4|            C T Plus|    3|\n",
      "|2015|    1| Arriva London North|   57|\n",
      "|2015|    6|    London Sovereign|    6|\n",
      "|2015|    5|        Abellio West|    3|\n",
      "|2015|    6|      Metroline West|   29|\n",
      "|2015|    6|         East London|  101|\n",
      "+----+-----+--------------------+-----+\n",
      "only showing top 20 rows\n",
      "\n"
     ]
    }
   ],
   "source": [
    "df_spark.select('Operator', 'Year','Month').groupby( 'Year','Month', 'Operator').agg(count('Operator').alias('Total')).show()"
   ],
   "metadata": {
    "collapsed": false,
    "ExecuteTime": {
     "end_time": "2023-07-07T21:24:54.864242500Z",
     "start_time": "2023-07-07T21:24:47.494831900Z"
    }
   }
  },
  {
   "cell_type": "markdown",
   "source": [
    "### Pergunta 10 - Qual o tipo de incidente mais comum com ciclistas?"
   ],
   "metadata": {
    "collapsed": false
   }
  },
  {
   "cell_type": "code",
   "execution_count": 61,
   "outputs": [
    {
     "name": "stdout",
     "output_type": "stream",
     "text": [
      "+-------------------+-----+\n",
      "|Incident_Event_Type|Total|\n",
      "+-------------------+-----+\n",
      "| Collision Incident|  256|\n",
      "+-------------------+-----+\n",
      "only showing top 1 row\n",
      "\n"
     ]
    }
   ],
   "source": [
    "df_spark.filter(col('Victim_Category')== 'Cyclist').groupby('Incident_Event_Type').agg(count('Victim_Category').alias('Total')).orderBy('Total', ascending=False).show(1)"
   ],
   "metadata": {
    "collapsed": false,
    "ExecuteTime": {
     "end_time": "2023-07-07T21:29:44.287781500Z",
     "start_time": "2023-07-07T21:29:37.038521800Z"
    }
   }
  },
  {
   "cell_type": "code",
   "execution_count": null,
   "outputs": [],
   "source": [],
   "metadata": {
    "collapsed": false
   }
  }
 ],
 "metadata": {
  "kernelspec": {
   "display_name": "Python 3",
   "language": "python",
   "name": "python3"
  },
  "language_info": {
   "codemirror_mode": {
    "name": "ipython",
    "version": 2
   },
   "file_extension": ".py",
   "mimetype": "text/x-python",
   "name": "python",
   "nbconvert_exporter": "python",
   "pygments_lexer": "ipython2",
   "version": "2.7.6"
  }
 },
 "nbformat": 4,
 "nbformat_minor": 0
}
