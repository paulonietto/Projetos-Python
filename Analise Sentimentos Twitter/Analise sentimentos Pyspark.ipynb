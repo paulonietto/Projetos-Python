{
 "cells": [
  {
   "cell_type": "code",
   "execution_count": 1,
   "outputs": [],
   "source": [
    "#https://www.kaggle.com/datasets/tariqsays/chatgpt-twitter-dataset?resource=download"
   ],
   "metadata": {
    "collapsed": false
   }
  },
  {
   "cell_type": "code",
   "execution_count": 42,
   "metadata": {
    "collapsed": true,
    "ExecuteTime": {
     "end_time": "2023-07-11T01:09:45.788049300Z",
     "start_time": "2023-07-11T01:09:45.756797Z"
    }
   },
   "outputs": [],
   "source": [
    "# Imports\n",
    "import pyspark\n",
    "from pyspark import SparkContext\n",
    "from pyspark.sql import SparkSession\n",
    "from pyspark.ml import Pipeline\n",
    "from pyspark.ml.feature import IDF, HashingTF, Tokenizer\n",
    "from pyspark.sql.functions import col,udf,count\n",
    "from pyspark.sql.types import FloatType\n",
    "from nltk.sentiment.vader import SentimentIntensityAnalyzer\n",
    "import nltk\n",
    "from pyspark.ml.classification import NaiveBayes, LogisticRegression,DecisionTreeClassifier\n",
    "from pyspark.ml.evaluation import MulticlassClassificationEvaluator\n",
    "from pyspark.ml.feature import *\n",
    "import matplotlib.pyplot as plt\n",
    "import seaborn as sns\n",
    "import numpy as np\n",
    "import findspark"
   ]
  },
  {
   "cell_type": "code",
   "execution_count": 3,
   "outputs": [],
   "source": [
    "findspark.init()"
   ],
   "metadata": {
    "collapsed": false
   }
  },
  {
   "cell_type": "markdown",
   "source": [
    "### Carregando dados"
   ],
   "metadata": {
    "collapsed": false
   }
  },
  {
   "cell_type": "code",
   "execution_count": 4,
   "outputs": [],
   "source": [
    "# Criando o Spark Context\n",
    "sc = SparkContext(appName = \"Twitter\")"
   ],
   "metadata": {
    "collapsed": false
   }
  },
  {
   "cell_type": "code",
   "execution_count": 5,
   "outputs": [],
   "source": [
    "# Spark Session - usada quando se trabalha com Dataframes no Spark\n",
    "spark = SparkSession.builder.master(\"local\").getOrCreate()\n"
   ],
   "metadata": {
    "collapsed": false
   }
  },
  {
   "cell_type": "code",
   "execution_count": 6,
   "outputs": [],
   "source": [
    "df_twitter =  spark.read.csv('chatgpt1.csv', header = True)"
   ],
   "metadata": {
    "collapsed": false
   }
  },
  {
   "cell_type": "code",
   "execution_count": 7,
   "outputs": [
    {
     "data": {
      "text/plain": "pyspark.sql.dataframe.DataFrame"
     },
     "execution_count": 7,
     "metadata": {},
     "output_type": "execute_result"
    }
   ],
   "source": [
    "type(df_twitter)"
   ],
   "metadata": {
    "collapsed": false
   }
  },
  {
   "cell_type": "code",
   "execution_count": 8,
   "outputs": [
    {
     "name": "stdout",
     "output_type": "stream",
     "text": [
      "+----------------------------------------+-------------------+---------------------------+--------+---------+----+--------+----------+----------+------------+---------+----------+--------------+--------+------+-----+-----------+--------------+-------+-------------+\n",
      "|                                Datetime|           Tweet Id|                       Text|Username|Permalink|User|Outlinks|CountLinks|ReplyCount|RetweetCount|LikeCount|QuoteCount|ConversationId|Language|Source|Media|QuotedTweet|MentionedUsers|hashtag|hastag_counts|\n",
      "+----------------------------------------+-------------------+---------------------------+--------+---------+----+--------+----------+----------+------------+---------+----------+--------------+--------+------+-----+-----------+--------------+-------+-------------+\n",
      "|                    2023-01-22 13:44:...|1617156270871699456|ChatGPTで遊ぶの忘れてた！！|    null|     null|null|    null|      null|      null|        null|     null|      null|          null|    null|  null| null|       null|          null|   null|         null|\n",
      "|    書類作るコード書いてみてほしいのと、|               null|                       null|    null|     null|null|    null|      null|      null|        null|     null|      null|          null|    null|  null| null|       null|          null|   null|         null|\n",
      "|どこまで思考整理付き合ってくれるのかと、|               null|                       null|    null|     null|null|    null|      null|      null|        null|     null|      null|          null|    null|  null| null|       null|          null|   null|         null|\n",
      "|          ウミガメのスープやってみたい。|               null|                       null|    null|     null|null|    null|      null|      null|        null|     null|      null|          null|    null|  null| null|       null|          null|   null|         null|\n",
      "|                  あとは調べ物してくれ。|               null|                       null|    null|     null|null|    null|      null|      null|        null|     null|      null|          null|    null|  null| null|       null|          null|   null|         null|\n",
      "+----------------------------------------+-------------------+---------------------------+--------+---------+----+--------+----------+----------+------------+---------+----------+--------------+--------+------+-----+-----------+--------------+-------+-------------+\n",
      "only showing top 5 rows\n",
      "\n"
     ]
    }
   ],
   "source": [
    "df_twitter.show(5)"
   ],
   "metadata": {
    "collapsed": false
   }
  },
  {
   "cell_type": "markdown",
   "source": [
    "### Tratando os dados"
   ],
   "metadata": {
    "collapsed": false
   }
  },
  {
   "cell_type": "code",
   "execution_count": 9,
   "outputs": [
    {
     "data": {
      "text/plain": "['Datetime',\n 'Tweet Id',\n 'Text',\n 'Username',\n 'Permalink',\n 'User',\n 'Outlinks',\n 'CountLinks',\n 'ReplyCount',\n 'RetweetCount',\n 'LikeCount',\n 'QuoteCount',\n 'ConversationId',\n 'Language',\n 'Source',\n 'Media',\n 'QuotedTweet',\n 'MentionedUsers',\n 'hashtag',\n 'hastag_counts']"
     },
     "execution_count": 9,
     "metadata": {},
     "output_type": "execute_result"
    }
   ],
   "source": [
    "df_twitter.columns"
   ],
   "metadata": {
    "collapsed": false
   }
  },
  {
   "cell_type": "code",
   "execution_count": 10,
   "outputs": [],
   "source": [
    "#Selecionando somente as colunas para realização da análise de sentimento\n",
    "df_twitter = df_twitter.select('Text', 'Language')"
   ],
   "metadata": {
    "collapsed": false
   }
  },
  {
   "cell_type": "code",
   "execution_count": 11,
   "outputs": [
    {
     "name": "stdout",
     "output_type": "stream",
     "text": [
      "+---------------------------+--------------------+\n",
      "|                       Text|            Language|\n",
      "+---------------------------+--------------------+\n",
      "|ChatGPTで遊ぶの忘れてた！！|                null|\n",
      "|                       null|                null|\n",
      "|                       null|                null|\n",
      "|                       null|                null|\n",
      "|                       null|                null|\n",
      "|       https://twitter.c...|                null|\n",
      "|       @AlexandrovnaIng ...|                  en|\n",
      "|       Schaut Euch an, w...|                null|\n",
      "|                       null|                null|\n",
      "|       https://twitter.c...|[Photo(previewUrl...|\n",
      "|       Bow down to chatG...|                  en|\n",
      "|       Profilinde vatan,...|                  tr|\n",
      "|       ChatGPT’nin bilin...|                null|\n",
      "|                       null|                null|\n",
      "|       https://twitter.c...|                null|\n",
      "|       ChatGPT runs 10K ...|                  en|\n",
      "|       @SWENGDAD There i...|                  en|\n",
      "|       I created a ficti...|                null|\n",
      "|                       null|                null|\n",
      "|       https://twitter.c...|[Photo(previewUrl...|\n",
      "+---------------------------+--------------------+\n",
      "only showing top 20 rows\n",
      "\n"
     ]
    }
   ],
   "source": [
    "df_twitter.show()"
   ],
   "metadata": {
    "collapsed": false
   }
  },
  {
   "cell_type": "code",
   "execution_count": 12,
   "outputs": [
    {
     "data": {
      "text/plain": "82129"
     },
     "execution_count": 12,
     "metadata": {},
     "output_type": "execute_result"
    }
   ],
   "source": [
    "df_twitter.count()"
   ],
   "metadata": {
    "collapsed": false
   }
  },
  {
   "cell_type": "code",
   "execution_count": 13,
   "outputs": [],
   "source": [
    "#Remover colunas sem twittes\n",
    "df_twitter = df_twitter.dropna(subset= ['Text','Language'])"
   ],
   "metadata": {
    "collapsed": false
   }
  },
  {
   "cell_type": "code",
   "execution_count": 14,
   "outputs": [
    {
     "data": {
      "text/plain": "39216"
     },
     "execution_count": 14,
     "metadata": {},
     "output_type": "execute_result"
    }
   ],
   "source": [
    "df_twitter.count()"
   ],
   "metadata": {
    "collapsed": false
   }
  },
  {
   "cell_type": "code",
   "execution_count": 15,
   "outputs": [
    {
     "name": "stdout",
     "output_type": "stream",
     "text": [
      "+--------------------+--------------------+\n",
      "|                Text|            Language|\n",
      "+--------------------+--------------------+\n",
      "|@AlexandrovnaIng ...|                  en|\n",
      "|https://twitter.c...|[Photo(previewUrl...|\n",
      "|Bow down to chatG...|                  en|\n",
      "|Profilinde vatan,...|                  tr|\n",
      "|ChatGPT runs 10K ...|                  en|\n",
      "|@SWENGDAD There i...|                  en|\n",
      "|https://twitter.c...|[Photo(previewUrl...|\n",
      "|It will look simi...|                  en|\n",
      "|https://twitter.c...|[Photo(previewUrl...|\n",
      "|     PetrosTovmasyan|\"<a href=\"\"http:/...|\n",
      "|J'ai juste demand...|                  fr|\n",
      "|Google Presenta S...|                  es|\n",
      "|@Slipcatch @nickh...|                  en|\n",
      "|@paulgp Leverage ...|                  en|\n",
      "|@FrankDeya The an...|                  en|\n",
      "|esse chatGPT é bo...|                  pt|\n",
      "|          chatgpt ☺️|                  en|\n",
      "|ແຕ່ກີ້ຄົນຫາເງິນໄດ...|                  lo|\n",
      "|#Tech: Google is ...|                  en|\n",
      "|Problems of Pakis...|                  en|\n",
      "+--------------------+--------------------+\n",
      "only showing top 20 rows\n",
      "\n"
     ]
    }
   ],
   "source": [
    "df_twitter.show()"
   ],
   "metadata": {
    "collapsed": false
   }
  },
  {
   "cell_type": "code",
   "execution_count": 16,
   "outputs": [],
   "source": [
    "#Manter somente twittes em inglês\n",
    "df_twitter= df_twitter.filter((col('Language')=='en'))"
   ],
   "metadata": {
    "collapsed": false
   }
  },
  {
   "cell_type": "code",
   "execution_count": 17,
   "outputs": [
    {
     "data": {
      "text/plain": "21677"
     },
     "execution_count": 17,
     "metadata": {},
     "output_type": "execute_result"
    }
   ],
   "source": [
    "df_twitter.count()"
   ],
   "metadata": {
    "collapsed": false
   }
  },
  {
   "cell_type": "code",
   "execution_count": 18,
   "outputs": [
    {
     "name": "stdout",
     "output_type": "stream",
     "text": [
      "+--------------------+\n",
      "|                Text|\n",
      "+--------------------+\n",
      "|@AlexandrovnaIng ...|\n",
      "|Bow down to chatG...|\n",
      "|ChatGPT runs 10K ...|\n",
      "|@SWENGDAD There i...|\n",
      "|It will look simi...|\n",
      "|@Slipcatch @nickh...|\n",
      "|@paulgp Leverage ...|\n",
      "|@FrankDeya The an...|\n",
      "|          chatgpt ☺️|\n",
      "|#Tech: Google is ...|\n",
      "|Problems of Pakis...|\n",
      "|\"The question is ...|\n",
      "| in search of an ...|\n",
      "|\"@SamsungIndia I ...|\n",
      "|@paulg Already mo...|\n",
      "|@RVCJ_FB Blame it...|\n",
      "|ChatGPT will chan...|\n",
      "|@AlanLevinovitz T...|\n",
      "|Learn ChatGPT now...|\n",
      "|@ShiLLin_ViLLian ...|\n",
      "+--------------------+\n",
      "only showing top 20 rows\n",
      "\n"
     ]
    }
   ],
   "source": [
    "df_twitter = df_twitter.select('Text')\n",
    "df_twitter.show()"
   ],
   "metadata": {
    "collapsed": false
   }
  },
  {
   "cell_type": "markdown",
   "source": [
    "### Criar a coluna para o sentimento positivo, negativo ou neutro"
   ],
   "metadata": {
    "collapsed": false
   }
  },
  {
   "cell_type": "code",
   "execution_count": 19,
   "outputs": [
    {
     "name": "stderr",
     "output_type": "stream",
     "text": [
      "[nltk_data] Downloading package vader_lexicon to\n",
      "[nltk_data]     C:\\Users\\pniet\\AppData\\Roaming\\nltk_data...\n",
      "[nltk_data]   Package vader_lexicon is already up-to-date!\n"
     ]
    }
   ],
   "source": [
    "#Initializa o sentiment analyzer\n",
    "nltk.downloader.download('vader_lexicon')\n",
    "sia = SentimentIntensityAnalyzer()"
   ],
   "metadata": {
    "collapsed": false
   }
  },
  {
   "cell_type": "code",
   "execution_count": 20,
   "outputs": [
    {
     "name": "stdout",
     "output_type": "stream",
     "text": [
      "+------------------------------------------------------------------------------------------------------------------------------------------------------------------------------------------------------------------------------------------------------------------------------------------+\n",
      "|Text                                                                                                                                                                                                                                                                                      |\n",
      "+------------------------------------------------------------------------------------------------------------------------------------------------------------------------------------------------------------------------------------------------------------------------------------------+\n",
      "|@AlexandrovnaIng Prohibition of ChatGPT has been added to the honor code of my daughter’s school                                                                                                                                                                                          |\n",
      "|Bow down to chatGPT 🫡..... https://t.co/ENTSzi2AQ9                                                                                                                                                                                                                                       |\n",
      "|ChatGPT runs 10K Nvidia training GPUs with potential for thousands more https://t.co/Uhq62t0Uw4                                                                                                                                                                                           |\n",
      "|@SWENGDAD There is repetitive work in every job, there are lots of small tasks that can leverage chatgpt or copilot and keep you working at a higher level of abstraction.                                                                                                                |\n",
      "|It will look similar to irobot. The company will install a mini fridge size computer, you will be able to make a phone call, hands free no phone visible. You and the conversation will move room to room... SmartHome #ChatGPT https://t.co/2VBVDNEjpL                                   |\n",
      "|@Slipcatch @nickhedley #ChatGPT ain’t got no time for agendas 😅                                                                                                                                                                                                                          |\n",
      "|@paulgp Leverage ChatGPT…you will be surprised with the outputs.                                                                                                                                                                                                                          |\n",
      "|@FrankDeya The anxiety I get when I want to use chatGPT and afraid I will find it at capacity😩 take my money.                                                                                                                                                                            |\n",
      "|chatgpt ☺️                                                                                                                                                                                                                                                                                |\n",
      "|#Tech: Google is freaking out about ChatGPT                                                                                                                                                                                                                                               |\n",
      "|Problems of Pakistan these days according to ChatGPT https://t.co/KPthKy1Poz                                                                                                                                                                                                              |\n",
      "|\"The question is how long can google endure the losses because of its \"\"slow and steady\"\" approach towards A.I release to masses. Lamda is ahead of chatGPT according to engineers at tech giant but how long can they wait?\"                                                             |\n",
      "| in search of an easy sensation to fill the void in their existence. #ChatGPT\"                                                                                                                                                                                                            |\n",
      "|\"@SamsungIndia I asked Chatgpt to write a cool response. It wrote \"\"Be as creative as your Samsung is.\"\" #lovesamsung #AmpYourAwesome #Samsungforever #Notjustaphone @SamsungIndia\"                                                                                                       |\n",
      "|@paulg Already most blog are there for SEO optimisation rather than genuine help to the reader. Now there will be even more of such noise. Still, there is some gap between highest quality human writing and Chatbots. But  after using #ChatGPT, I think that gap will be filled sooner.|\n",
      "|@RVCJ_FB Blame it on ChatGPT. 😪                                                                                                                                                                                                                                                          |\n",
      "|ChatGPT will change the face of content writing and so many other professions market need where AI will better perform. Now i think more on human emotions/touch jobs will require where robots cant replace.                                                                             |\n",
      "|@AlanLevinovitz To be fair, ChatGPT could easily generate the same quality of headlines as is currently written by NYT - no sacrifice in angry clickbait views, and for a fraction of the cost!                                                                                           |\n",
      "|Learn ChatGPT now or get fucked later choice is yours 🫡                                                                                                                                                                                                                                  |\n",
      "|@ShiLLin_ViLLian ChatGPT is crazy been messing around with it a little 👀                                                                                                                                                                                                                 |\n",
      "+------------------------------------------------------------------------------------------------------------------------------------------------------------------------------------------------------------------------------------------------------------------------------------------+\n",
      "only showing top 20 rows\n",
      "\n"
     ]
    }
   ],
   "source": [
    "df_twitter.show(truncate=False)"
   ],
   "metadata": {
    "collapsed": false
   }
  },
  {
   "cell_type": "code",
   "execution_count": 21,
   "outputs": [],
   "source": [
    "# Cria a função UDF para aplicar a analise de sentimento nos rótulos\n",
    "#2 positivo, 1 neutro, 0 negativo\n",
    "def analyze_sentiment(text):\n",
    "    sentiment_scores = sia.polarity_scores(text)\n",
    "    compound_score = sentiment_scores['compound']\n",
    "    if compound_score >= 0.05:\n",
    "        sentimento = 2.0\n",
    "    elif compound_score <= -0.05:\n",
    "        sentimento =0.0\n",
    "    else:\n",
    "        sentimento = 1.0\n",
    "    return sentimento"
   ],
   "metadata": {
    "collapsed": false
   }
  },
  {
   "cell_type": "code",
   "execution_count": 22,
   "outputs": [],
   "source": [
    "# Utiliza a função\n",
    "analyze_sentiment_udf = udf(analyze_sentiment, FloatType())\n",
    "# Aplica a analise de sentimentos UDF para criar a nova coluna\n",
    "df_twitter = df_twitter.withColumn(\"label\", analyze_sentiment_udf(\"Text\"))"
   ],
   "metadata": {
    "collapsed": false
   }
  },
  {
   "cell_type": "code",
   "execution_count": 23,
   "outputs": [
    {
     "name": "stdout",
     "output_type": "stream",
     "text": [
      "+--------------------+-----+\n",
      "|                Text|label|\n",
      "+--------------------+-----+\n",
      "|@AlexandrovnaIng ...|  2.0|\n",
      "|Bow down to chatG...|  1.0|\n",
      "|ChatGPT runs 10K ...|  1.0|\n",
      "|@SWENGDAD There i...|  0.0|\n",
      "|It will look simi...|  2.0|\n",
      "|@Slipcatch @nickh...|  0.0|\n",
      "|@paulgp Leverage ...|  2.0|\n",
      "|@FrankDeya The an...|  0.0|\n",
      "|          chatgpt ☺️|  1.0|\n",
      "|#Tech: Google is ...|  0.0|\n",
      "|Problems of Pakis...|  0.0|\n",
      "|\"The question is ...|  0.0|\n",
      "| in search of an ...|  2.0|\n",
      "|\"@SamsungIndia I ...|  2.0|\n",
      "|@paulg Already mo...|  2.0|\n",
      "|@RVCJ_FB Blame it...|  0.0|\n",
      "|ChatGPT will chan...|  2.0|\n",
      "|@AlanLevinovitz T...|  0.0|\n",
      "|Learn ChatGPT now...|  0.0|\n",
      "|@ShiLLin_ViLLian ...|  0.0|\n",
      "+--------------------+-----+\n",
      "only showing top 20 rows\n",
      "\n"
     ]
    }
   ],
   "source": [
    "df_twitter.show()"
   ],
   "metadata": {
    "collapsed": false
   }
  },
  {
   "cell_type": "markdown",
   "source": [
    "### Visualizar a distribuição do label"
   ],
   "metadata": {
    "collapsed": false
   }
  },
  {
   "cell_type": "code",
   "execution_count": 24,
   "outputs": [],
   "source": [
    "df_visulaiza = df_twitter.toPandas()\n",
    "df_visulaiza['label'] = np.where(df_visulaiza['label'] ==2, 'Positivo',  np.where(df_visulaiza['label'] ==0,\"Negativo\",\"Neutro\"))"
   ],
   "metadata": {
    "collapsed": false
   }
  },
  {
   "cell_type": "code",
   "execution_count": 25,
   "outputs": [
    {
     "data": {
      "text/plain": "<Figure size 1500x1000 with 1 Axes>",
      "image/png": "[encoded data removed]"
     },
     "metadata": {},
     "output_type": "display_data"
    }
   ],
   "source": [
    "# Tamanho da figura\n",
    "plt.figure(figsize=(15, 10))\n",
    "\n",
    "# Chart\n",
    "chart = sns.countplot(x='label',\n",
    "                    data=df_visulaiza,\n",
    "                      palette=['green', 'yellow', 'red'])\n",
    "chart.set_title(\"Distribuição das labels\", fontsize=25)\n",
    "\n",
    "\n",
    "# Estilo e labels\n",
    "sns.set(font_scale=1.5)\n",
    "sns.set_style('whitegrid')\n",
    "sns.set_palette('prism')\n"
   ],
   "metadata": {
    "collapsed": false
   }
  },
  {
   "cell_type": "code",
   "execution_count": 43,
   "outputs": [
    {
     "name": "stdout",
     "output_type": "stream",
     "text": [
      "+-----+-----+\n",
      "|label|Total|\n",
      "+-----+-----+\n",
      "|  2.0| 9112|\n",
      "|  1.0| 8770|\n",
      "|  0.0| 3795|\n",
      "+-----+-----+\n",
      "\n"
     ]
    }
   ],
   "source": [
    "#listagem dos sentimentos por quantidade\n",
    "df_twitter.groupby('label').agg(count(col(\"label\")).alias('Total')).show()\n"
   ],
   "metadata": {
    "collapsed": false,
    "ExecuteTime": {
     "end_time": "2023-07-11T01:10:05.599207700Z",
     "start_time": "2023-07-11T01:09:53.811882700Z"
    }
   }
  },
  {
   "cell_type": "markdown",
   "source": [
    "### Processamento de Linguagem Natural"
   ],
   "metadata": {
    "collapsed": false
   }
  },
  {
   "cell_type": "code",
   "execution_count": 26,
   "outputs": [
    {
     "data": {
      "text/plain": "pyspark.ml.feature.Tokenizer"
     },
     "execution_count": 26,
     "metadata": {},
     "output_type": "execute_result"
    }
   ],
   "source": [
    "# Cria o Tokenizador\n",
    "tokenizador = Tokenizer(inputCol='Text', outputCol='words')\n",
    "type(tokenizador)"
   ],
   "metadata": {
    "collapsed": false
   }
  },
  {
   "cell_type": "code",
   "execution_count": 27,
   "outputs": [
    {
     "data": {
      "text/plain": "pyspark.ml.feature.StopWordsRemover"
     },
     "execution_count": 27,
     "metadata": {},
     "output_type": "execute_result"
    }
   ],
   "source": [
    "# Remove as stopwords\n",
    "stopword_remover = StopWordsRemover(inputCol=tokenizador.getOutputCol(), outputCol='clean_words')\n",
    "type(stopword_remover)"
   ],
   "metadata": {
    "collapsed": false
   }
  },
  {
   "cell_type": "code",
   "execution_count": 28,
   "outputs": [
    {
     "data": {
      "text/plain": "pyspark.ml.feature.HashingTF"
     },
     "execution_count": 28,
     "metadata": {},
     "output_type": "execute_result"
    }
   ],
   "source": [
    "# Aplica o TF (Term Frequency) para extrair a frequência de cada termo nas linhas de texto\n",
    "term_frequency = HashingTF(inputCol = stopword_remover.getOutputCol(), outputCol = \"tempfeatures\")\n",
    "type(term_frequency)"
   ],
   "metadata": {
    "collapsed": false
   }
  },
  {
   "cell_type": "code",
   "execution_count": 29,
   "outputs": [
    {
     "data": {
      "text/plain": "pyspark.ml.feature.IDF"
     },
     "execution_count": 29,
     "metadata": {},
     "output_type": "execute_result"
    }
   ],
   "source": [
    "# Aplica o IDF (Inverse Document Frequency) para calcula a frequência inversa dos documentos\n",
    "inverse_tf = IDF(inputCol = term_frequency.getOutputCol(), outputCol = \"features\")\n",
    "type(inverse_tf)"
   ],
   "metadata": {
    "collapsed": false
   }
  },
  {
   "cell_type": "markdown",
   "source": [
    "### Machine Learning"
   ],
   "metadata": {
    "collapsed": false
   }
  },
  {
   "cell_type": "code",
   "execution_count": 30,
   "outputs": [],
   "source": [
    "# Dados de Treino e de Teste\n",
    "(dados_treino, dados_teste) = df_twitter.randomSplit([0.8, 0.2])"
   ],
   "metadata": {
    "collapsed": false
   }
  },
  {
   "cell_type": "code",
   "execution_count": 31,
   "outputs": [
    {
     "data": {
      "text/plain": "17292"
     },
     "execution_count": 31,
     "metadata": {},
     "output_type": "execute_result"
    }
   ],
   "source": [
    "dados_treino.count()"
   ],
   "metadata": {
    "collapsed": false
   }
  },
  {
   "cell_type": "code",
   "execution_count": 32,
   "outputs": [
    {
     "data": {
      "text/plain": "4385"
     },
     "execution_count": 32,
     "metadata": {},
     "output_type": "execute_result"
    }
   ],
   "source": [
    "dados_teste.count()"
   ],
   "metadata": {
    "collapsed": false
   }
  },
  {
   "cell_type": "code",
   "execution_count": 33,
   "outputs": [],
   "source": [
    "# Criação do modelo\n",
    "nbClassifier = NaiveBayes()\n",
    "logisticClassifier = LogisticRegression()"
   ],
   "metadata": {
    "collapsed": false
   }
  },
  {
   "cell_type": "code",
   "execution_count": 34,
   "outputs": [],
   "source": [
    "# Criação do Pipeline\n",
    "pipeline = Pipeline(stages = [tokenizador,stopword_remover, term_frequency, inverse_tf,logisticClassifier])"
   ],
   "metadata": {
    "collapsed": false
   }
  },
  {
   "cell_type": "code",
   "execution_count": 35,
   "outputs": [],
   "source": [
    "# Treinamento do modelo com o Pipeline\n",
    "modelo = pipeline.fit(dados_treino)"
   ],
   "metadata": {
    "collapsed": false
   }
  },
  {
   "cell_type": "code",
   "execution_count": 36,
   "outputs": [
    {
     "data": {
      "text/plain": "pyspark.ml.pipeline.PipelineModel"
     },
     "execution_count": 36,
     "metadata": {},
     "output_type": "execute_result"
    }
   ],
   "source": [
    "type(modelo)"
   ],
   "metadata": {
    "collapsed": false
   }
  },
  {
   "cell_type": "code",
   "execution_count": 37,
   "outputs": [],
   "source": [
    "# Previsões nos dados de teste\n",
    "previsoes = modelo.transform(dados_teste)"
   ],
   "metadata": {
    "collapsed": false
   }
  },
  {
   "cell_type": "code",
   "execution_count": 38,
   "outputs": [
    {
     "name": "stdout",
     "output_type": "stream",
     "text": [
      "+-----+----------+--------------------+\n",
      "|label|prediction|         probability|\n",
      "+-----+----------+--------------------+\n",
      "|  0.0|       2.0|[2.52488912854667...|\n",
      "|  1.0|       1.0|[1.66143328282945...|\n",
      "|  2.0|       0.0|[0.99785595600720...|\n",
      "|  0.0|       1.0|[3.45361901932806...|\n",
      "|  2.0|       0.0|[0.99999999999998...|\n",
      "|  1.0|       1.0|[7.75576407229759...|\n",
      "|  2.0|       2.0|[4.03171568670636...|\n",
      "|  1.0|       1.0|[7.83262856627095...|\n",
      "|  1.0|       1.0|[2.19218246125119...|\n",
      "|  2.0|       1.0|[8.56354447672870...|\n",
      "|  2.0|       2.0|[1.29667613382355...|\n",
      "|  1.0|       1.0|[1.13232961482373...|\n",
      "|  2.0|       2.0|[5.31606368579341...|\n",
      "|  1.0|       1.0|[4.36704855648838...|\n",
      "|  1.0|       1.0|[4.36704855648838...|\n",
      "|  1.0|       0.0|[0.88351099975281...|\n",
      "|  2.0|       2.0|[3.37577790922530...|\n",
      "|  1.0|       1.0|[1.89315880568239...|\n",
      "|  0.0|       0.0|[1.0,1.5426730663...|\n",
      "|  1.0|       1.0|[3.19948250286617...|\n",
      "+-----+----------+--------------------+\n",
      "only showing top 20 rows\n",
      "\n"
     ]
    }
   ],
   "source": [
    "previsoes.select(\"label\", \"prediction\", \"probability\").show()"
   ],
   "metadata": {
    "collapsed": false
   }
  },
  {
   "cell_type": "code",
   "execution_count": 39,
   "outputs": [],
   "source": [
    "# Avaliando a acurácia\n",
    "avaliador = MulticlassClassificationEvaluator(predictionCol = \"prediction\",\n",
    "                                              labelCol = \"label\",\n",
    "                                              metricName = \"accuracy\")"
   ],
   "metadata": {
    "collapsed": false
   }
  },
  {
   "cell_type": "code",
   "execution_count": 40,
   "outputs": [
    {
     "data": {
      "text/plain": "0.7122006841505131"
     },
     "execution_count": 40,
     "metadata": {},
     "output_type": "execute_result"
    }
   ],
   "source": [
    "avaliador.evaluate(previsoes)"
   ],
   "metadata": {
    "collapsed": false
   }
  },
  {
   "cell_type": "code",
   "execution_count": 41,
   "outputs": [
    {
     "name": "stdout",
     "output_type": "stream",
     "text": [
      "+-----+----------+-----+\n",
      "|label|prediction|count|\n",
      "+-----+----------+-----+\n",
      "|  0.0|       2.0|  160|\n",
      "|  2.0|       1.0|  383|\n",
      "|  1.0|       2.0|  202|\n",
      "|  1.0|       0.0|  123|\n",
      "|  0.0|       0.0|  397|\n",
      "|  1.0|       1.0| 1457|\n",
      "|  2.0|       0.0|  196|\n",
      "|  2.0|       2.0| 1269|\n",
      "|  0.0|       1.0|  198|\n",
      "+-----+----------+-----+\n",
      "\n"
     ]
    }
   ],
   "source": [
    "# Resumindo as previsões - Confusion Matrix\n",
    "previsoes.groupBy(\"label\",\"prediction\").count().show()"
   ],
   "metadata": {
    "collapsed": false
   }
  },
  {
   "cell_type": "code",
   "execution_count": 41,
   "outputs": [],
   "source": [],
   "metadata": {
    "collapsed": false
   }
  }
 ],
 "metadata": {
  "kernelspec": {
   "display_name": "Python 3",
   "language": "python",
   "name": "python3"
  },
  "language_info": {
   "codemirror_mode": {
    "name": "ipython",
    "version": 2
   },
   "file_extension": ".py",
   "mimetype": "text/x-python",
   "name": "python",
   "nbconvert_exporter": "python",
   "pygments_lexer": "ipython2",
   "version": "2.7.6"
  }
 },
 "nbformat": 4,
 "nbformat_minor": 0
}
