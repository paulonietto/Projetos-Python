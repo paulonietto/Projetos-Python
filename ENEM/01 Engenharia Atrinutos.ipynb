{
 "cells": [
  {
   "cell_type": "markdown",
   "source": [
    "# Prevendo dempenho de alunos no ENEM uitlizando modelos de Regressao Linear"
   ],
   "metadata": {
    "collapsed": false
   },
   "id": "16bd2b97180a82c5"
  },
  {
   "cell_type": "markdown",
   "source": [
    "### Carregando as bibliotecas necessarias"
   ],
   "metadata": {
    "collapsed": false
   },
   "id": "a62d681a692c1ac4"
  },
  {
   "cell_type": "code",
   "execution_count": 1,
   "outputs": [],
   "source": [
    "import pandas as pd\n",
    "import numpy as np"
   ],
   "metadata": {
    "collapsed": false,
    "ExecuteTime": {
     "end_time": "2023-08-16T00:16:09.845936664Z",
     "start_time": "2023-08-16T00:16:09.833673845Z"
    }
   },
   "id": "8d85cd617ed2ee97"
  },
  {
   "cell_type": "markdown",
   "source": [
    "### Carregando os dados"
   ],
   "metadata": {
    "collapsed": false
   },
   "id": "efe63c26b658e489"
  },
  {
   "cell_type": "code",
   "execution_count": 2,
   "outputs": [],
   "source": [
    "df_enem = pd.read_csv(\"./DADOS/dado_mg.csv\",sep=\";\")"
   ],
   "metadata": {
    "collapsed": false,
    "ExecuteTime": {
     "end_time": "2023-08-16T00:16:29.340698060Z",
     "start_time": "2023-08-16T00:16:13.462712924Z"
    }
   },
   "id": "ff078af4acecff8f"
  },
  {
   "cell_type": "code",
   "execution_count": 3,
   "outputs": [
    {
     "data": {
      "text/plain": "   NU_INSCRICAO  NU_ANO  CO_MUNICIPIO_RESIDENCIA NO_MUNICIPIO_RESIDENCIA  \\\n0  190001237802    2019                  3118601                Contagem   \n1  190001237803    2019                  3170206              Uberlândia   \n2  190001237804    2019                  3124104              Esmeraldas   \n3  190001237805    2019                  3118304    Conselheiro Lafaiete   \n4  190001237806    2019                  3162922    São Joaquim de Bicas   \n\n   CO_UF_RESIDENCIA SG_UF_RESIDENCIA  NU_IDADE TP_SEXO  TP_ESTADO_CIVIL  \\\n0                31               MG      22.0       F                1   \n1                31               MG      30.0       F                1   \n2                31               MG      27.0       M                1   \n3                31               MG      22.0       F                1   \n4                31               MG      23.0       F                1   \n\n   TP_COR_RACA  ...  Q016  Q017 Q018  Q019 Q020  Q021  Q022  Q023  Q024  Q025  \n0            1  ...     B     A    A     B    A     A     C     B     B     B  \n1            2  ...     A     A    A     B    A     A     B     A     A     A  \n2            3  ...     A     A    A     B    A     B     C     A     A     A  \n3            1  ...     B     A    B     C    B     A     E     A     B     B  \n4            4  ...     B     A    A     B    B     A     C     A     B     B  \n\n[5 rows x 136 columns]",
      "text/html": "<div>\n<style scoped>\n    .dataframe tbody tr th:only-of-type {\n        vertical-align: middle;\n    }\n\n    .dataframe tbody tr th {\n        vertical-align: top;\n    }\n\n    .dataframe thead th {\n        text-align: right;\n    }\n</style>\n<table border=\"1\" class=\"dataframe\">\n  <thead>\n    <tr style=\"text-align: right;\">\n      <th></th>\n      <th>NU_INSCRICAO</th>\n      <th>NU_ANO</th>\n      <th>CO_MUNICIPIO_RESIDENCIA</th>\n      <th>NO_MUNICIPIO_RESIDENCIA</th>\n      <th>CO_UF_RESIDENCIA</th>\n      <th>SG_UF_RESIDENCIA</th>\n      <th>NU_IDADE</th>\n      <th>TP_SEXO</th>\n      <th>TP_ESTADO_CIVIL</th>\n      <th>TP_COR_RACA</th>\n      <th>...</th>\n      <th>Q016</th>\n      <th>Q017</th>\n      <th>Q018</th>\n      <th>Q019</th>\n      <th>Q020</th>\n      <th>Q021</th>\n      <th>Q022</th>\n      <th>Q023</th>\n      <th>Q024</th>\n      <th>Q025</th>\n    </tr>\n  </thead>\n  <tbody>\n    <tr>\n      <th>0</th>\n      <td>190001237802</td>\n      <td>2019</td>\n      <td>3118601</td>\n      <td>Contagem</td>\n      <td>31</td>\n      <td>MG</td>\n      <td>22.0</td>\n      <td>F</td>\n      <td>1</td>\n      <td>1</td>\n      <td>...</td>\n      <td>B</td>\n      <td>A</td>\n      <td>A</td>\n      <td>B</td>\n      <td>A</td>\n      <td>A</td>\n      <td>C</td>\n      <td>B</td>\n      <td>B</td>\n      <td>B</td>\n    </tr>\n    <tr>\n      <th>1</th>\n      <td>190001237803</td>\n      <td>2019</td>\n      <td>3170206</td>\n      <td>Uberlândia</td>\n      <td>31</td>\n      <td>MG</td>\n      <td>30.0</td>\n      <td>F</td>\n      <td>1</td>\n      <td>2</td>\n      <td>...</td>\n      <td>A</td>\n      <td>A</td>\n      <td>A</td>\n      <td>B</td>\n      <td>A</td>\n      <td>A</td>\n      <td>B</td>\n      <td>A</td>\n      <td>A</td>\n      <td>A</td>\n    </tr>\n    <tr>\n      <th>2</th>\n      <td>190001237804</td>\n      <td>2019</td>\n      <td>3124104</td>\n      <td>Esmeraldas</td>\n      <td>31</td>\n      <td>MG</td>\n      <td>27.0</td>\n      <td>M</td>\n      <td>1</td>\n      <td>3</td>\n      <td>...</td>\n      <td>A</td>\n      <td>A</td>\n      <td>A</td>\n      <td>B</td>\n      <td>A</td>\n      <td>B</td>\n      <td>C</td>\n      <td>A</td>\n      <td>A</td>\n      <td>A</td>\n    </tr>\n    <tr>\n      <th>3</th>\n      <td>190001237805</td>\n      <td>2019</td>\n      <td>3118304</td>\n      <td>Conselheiro Lafaiete</td>\n      <td>31</td>\n      <td>MG</td>\n      <td>22.0</td>\n      <td>F</td>\n      <td>1</td>\n      <td>1</td>\n      <td>...</td>\n      <td>B</td>\n      <td>A</td>\n      <td>B</td>\n      <td>C</td>\n      <td>B</td>\n      <td>A</td>\n      <td>E</td>\n      <td>A</td>\n      <td>B</td>\n      <td>B</td>\n    </tr>\n    <tr>\n      <th>4</th>\n      <td>190001237806</td>\n      <td>2019</td>\n      <td>3162922</td>\n      <td>São Joaquim de Bicas</td>\n      <td>31</td>\n      <td>MG</td>\n      <td>23.0</td>\n      <td>F</td>\n      <td>1</td>\n      <td>4</td>\n      <td>...</td>\n      <td>B</td>\n      <td>A</td>\n      <td>A</td>\n      <td>B</td>\n      <td>B</td>\n      <td>A</td>\n      <td>C</td>\n      <td>A</td>\n      <td>B</td>\n      <td>B</td>\n    </tr>\n  </tbody>\n</table>\n<p>5 rows × 136 columns</p>\n</div>"
     },
     "execution_count": 3,
     "metadata": {},
     "output_type": "execute_result"
    }
   ],
   "source": [
    "df_enem.head()"
   ],
   "metadata": {
    "collapsed": false,
    "ExecuteTime": {
     "end_time": "2023-08-16T00:16:33.392986392Z",
     "start_time": "2023-08-16T00:16:33.137210941Z"
    }
   },
   "id": "5d20b83bc4960a22"
  },
  {
   "cell_type": "code",
   "execution_count": 4,
   "outputs": [
    {
     "data": {
      "text/plain": "       NU_INSCRICAO    NU_ANO  CO_MUNICIPIO_RESIDENCIA  CO_UF_RESIDENCIA  \\\ncount  5.346270e+05  534627.0             5.346270e+05     534627.000000   \nmean   1.900035e+11    2019.0             3.136478e+06         31.021774   \nstd    1.506475e+06       0.0             6.714492e+04          0.639170   \nmin    1.900010e+11    2019.0             1.100015e+06         11.000000   \n25%    1.900022e+11    2019.0             3.111200e+06         31.000000   \n50%    1.900035e+11    2019.0             3.135100e+06         31.000000   \n75%    1.900050e+11    2019.0             3.152808e+06         31.000000   \nmax    1.900061e+11    2019.0             5.300108e+06         53.000000   \n\n            NU_IDADE  TP_ESTADO_CIVIL    TP_COR_RACA  TP_NACIONALIDADE  \\\ncount  534620.000000    534627.000000  534627.000000     534627.000000   \nmean       22.038278         1.087407       2.072013          1.031239   \nstd         7.470671         0.428752       1.006661          0.210197   \nmin        10.000000         0.000000       0.000000          0.000000   \n25%        18.000000         1.000000       1.000000          1.000000   \n50%        19.000000         1.000000       2.000000          1.000000   \n75%        23.000000         1.000000       3.000000          1.000000   \nmax        91.000000         4.000000       5.000000          4.000000   \n\n       CO_MUNICIPIO_NASCIMENTO  CO_UF_NASCIMENTO  ...     NU_NOTA_MT  \\\ncount             5.186420e+05     518642.000000  ...  390855.000000   \nmean              3.152459e+06         31.205816  ...     546.987343   \nstd               2.505415e+05          2.503854  ...     115.132503   \nmin               1.100015e+06         11.000000  ...       0.000000   \n25%               3.106705e+06         31.000000  ...     451.900000   \n50%               3.134202e+06         31.000000  ...     531.600000   \n75%               3.154002e+06         31.000000  ...     630.100000   \nmax               5.300108e+06         53.000000  ...     985.500000   \n\n           TP_LINGUA  TP_STATUS_REDACAO  NU_NOTA_COMP1  NU_NOTA_COMP2  \\\ncount  534627.000000      411175.000000  411175.000000  411175.000000   \nmean        0.424584           1.104877     124.688758     127.733933   \nstd         0.494280           0.677591      32.364600      43.910908   \nmin         0.000000           1.000000       0.000000       0.000000   \n25%         0.000000           1.000000     120.000000     120.000000   \n50%         0.000000           1.000000     120.000000     120.000000   \n75%         1.000000           1.000000     140.000000     160.000000   \nmax         1.000000           9.000000     200.000000     200.000000   \n\n       NU_NOTA_COMP3  NU_NOTA_COMP4  NU_NOTA_COMP5  NU_NOTA_REDACAO  \\\ncount  411175.000000  411175.000000  411175.000000    411175.000000   \nmean      119.337508     126.207868      99.245869       597.213936   \nstd        40.954206      38.796806      60.659416       192.931916   \nmin         0.000000       0.000000       0.000000         0.000000   \n25%       100.000000     100.000000      60.000000       500.000000   \n50%       120.000000     120.000000     100.000000       600.000000   \n75%       140.000000     140.000000     140.000000       720.000000   \nmax       200.000000     200.000000     200.000000      1000.000000   \n\n                Q005  \ncount  534627.000000  \nmean        3.749148  \nstd         1.354948  \nmin         1.000000  \n25%         3.000000  \n50%         4.000000  \n75%         4.000000  \nmax        20.000000  \n\n[8 rows x 95 columns]",
      "text/html": "<div>\n<style scoped>\n    .dataframe tbody tr th:only-of-type {\n        vertical-align: middle;\n    }\n\n    .dataframe tbody tr th {\n        vertical-align: top;\n    }\n\n    .dataframe thead th {\n        text-align: right;\n    }\n</style>\n<table border=\"1\" class=\"dataframe\">\n  <thead>\n    <tr style=\"text-align: right;\">\n      <th></th>\n      <th>NU_INSCRICAO</th>\n      <th>NU_ANO</th>\n      <th>CO_MUNICIPIO_RESIDENCIA</th>\n      <th>CO_UF_RESIDENCIA</th>\n      <th>NU_IDADE</th>\n      <th>TP_ESTADO_CIVIL</th>\n      <th>TP_COR_RACA</th>\n      <th>TP_NACIONALIDADE</th>\n      <th>CO_MUNICIPIO_NASCIMENTO</th>\n      <th>CO_UF_NASCIMENTO</th>\n      <th>...</th>\n      <th>NU_NOTA_MT</th>\n      <th>TP_LINGUA</th>\n      <th>TP_STATUS_REDACAO</th>\n      <th>NU_NOTA_COMP1</th>\n      <th>NU_NOTA_COMP2</th>\n      <th>NU_NOTA_COMP3</th>\n      <th>NU_NOTA_COMP4</th>\n      <th>NU_NOTA_COMP5</th>\n      <th>NU_NOTA_REDACAO</th>\n      <th>Q005</th>\n    </tr>\n  </thead>\n  <tbody>\n    <tr>\n      <th>count</th>\n      <td>5.346270e+05</td>\n      <td>534627.0</td>\n      <td>5.346270e+05</td>\n      <td>534627.000000</td>\n      <td>534620.000000</td>\n      <td>534627.000000</td>\n      <td>534627.000000</td>\n      <td>534627.000000</td>\n      <td>5.186420e+05</td>\n      <td>518642.000000</td>\n      <td>...</td>\n      <td>390855.000000</td>\n      <td>534627.000000</td>\n      <td>411175.000000</td>\n      <td>411175.000000</td>\n      <td>411175.000000</td>\n      <td>411175.000000</td>\n      <td>411175.000000</td>\n      <td>411175.000000</td>\n      <td>411175.000000</td>\n      <td>534627.000000</td>\n    </tr>\n    <tr>\n      <th>mean</th>\n      <td>1.900035e+11</td>\n      <td>2019.0</td>\n      <td>3.136478e+06</td>\n      <td>31.021774</td>\n      <td>22.038278</td>\n      <td>1.087407</td>\n      <td>2.072013</td>\n      <td>1.031239</td>\n      <td>3.152459e+06</td>\n      <td>31.205816</td>\n      <td>...</td>\n      <td>546.987343</td>\n      <td>0.424584</td>\n      <td>1.104877</td>\n      <td>124.688758</td>\n      <td>127.733933</td>\n      <td>119.337508</td>\n      <td>126.207868</td>\n      <td>99.245869</td>\n      <td>597.213936</td>\n      <td>3.749148</td>\n    </tr>\n    <tr>\n      <th>std</th>\n      <td>1.506475e+06</td>\n      <td>0.0</td>\n      <td>6.714492e+04</td>\n      <td>0.639170</td>\n      <td>7.470671</td>\n      <td>0.428752</td>\n      <td>1.006661</td>\n      <td>0.210197</td>\n      <td>2.505415e+05</td>\n      <td>2.503854</td>\n      <td>...</td>\n      <td>115.132503</td>\n      <td>0.494280</td>\n      <td>0.677591</td>\n      <td>32.364600</td>\n      <td>43.910908</td>\n      <td>40.954206</td>\n      <td>38.796806</td>\n      <td>60.659416</td>\n      <td>192.931916</td>\n      <td>1.354948</td>\n    </tr>\n    <tr>\n      <th>min</th>\n      <td>1.900010e+11</td>\n      <td>2019.0</td>\n      <td>1.100015e+06</td>\n      <td>11.000000</td>\n      <td>10.000000</td>\n      <td>0.000000</td>\n      <td>0.000000</td>\n      <td>0.000000</td>\n      <td>1.100015e+06</td>\n      <td>11.000000</td>\n      <td>...</td>\n      <td>0.000000</td>\n      <td>0.000000</td>\n      <td>1.000000</td>\n      <td>0.000000</td>\n      <td>0.000000</td>\n      <td>0.000000</td>\n      <td>0.000000</td>\n      <td>0.000000</td>\n      <td>0.000000</td>\n      <td>1.000000</td>\n    </tr>\n    <tr>\n      <th>25%</th>\n      <td>1.900022e+11</td>\n      <td>2019.0</td>\n      <td>3.111200e+06</td>\n      <td>31.000000</td>\n      <td>18.000000</td>\n      <td>1.000000</td>\n      <td>1.000000</td>\n      <td>1.000000</td>\n      <td>3.106705e+06</td>\n      <td>31.000000</td>\n      <td>...</td>\n      <td>451.900000</td>\n      <td>0.000000</td>\n      <td>1.000000</td>\n      <td>120.000000</td>\n      <td>120.000000</td>\n      <td>100.000000</td>\n      <td>100.000000</td>\n      <td>60.000000</td>\n      <td>500.000000</td>\n      <td>3.000000</td>\n    </tr>\n    <tr>\n      <th>50%</th>\n      <td>1.900035e+11</td>\n      <td>2019.0</td>\n      <td>3.135100e+06</td>\n      <td>31.000000</td>\n      <td>19.000000</td>\n      <td>1.000000</td>\n      <td>2.000000</td>\n      <td>1.000000</td>\n      <td>3.134202e+06</td>\n      <td>31.000000</td>\n      <td>...</td>\n      <td>531.600000</td>\n      <td>0.000000</td>\n      <td>1.000000</td>\n      <td>120.000000</td>\n      <td>120.000000</td>\n      <td>120.000000</td>\n      <td>120.000000</td>\n      <td>100.000000</td>\n      <td>600.000000</td>\n      <td>4.000000</td>\n    </tr>\n    <tr>\n      <th>75%</th>\n      <td>1.900050e+11</td>\n      <td>2019.0</td>\n      <td>3.152808e+06</td>\n      <td>31.000000</td>\n      <td>23.000000</td>\n      <td>1.000000</td>\n      <td>3.000000</td>\n      <td>1.000000</td>\n      <td>3.154002e+06</td>\n      <td>31.000000</td>\n      <td>...</td>\n      <td>630.100000</td>\n      <td>1.000000</td>\n      <td>1.000000</td>\n      <td>140.000000</td>\n      <td>160.000000</td>\n      <td>140.000000</td>\n      <td>140.000000</td>\n      <td>140.000000</td>\n      <td>720.000000</td>\n      <td>4.000000</td>\n    </tr>\n    <tr>\n      <th>max</th>\n      <td>1.900061e+11</td>\n      <td>2019.0</td>\n      <td>5.300108e+06</td>\n      <td>53.000000</td>\n      <td>91.000000</td>\n      <td>4.000000</td>\n      <td>5.000000</td>\n      <td>4.000000</td>\n      <td>5.300108e+06</td>\n      <td>53.000000</td>\n      <td>...</td>\n      <td>985.500000</td>\n      <td>1.000000</td>\n      <td>9.000000</td>\n      <td>200.000000</td>\n      <td>200.000000</td>\n      <td>200.000000</td>\n      <td>200.000000</td>\n      <td>200.000000</td>\n      <td>1000.000000</td>\n      <td>20.000000</td>\n    </tr>\n  </tbody>\n</table>\n<p>8 rows × 95 columns</p>\n</div>"
     },
     "execution_count": 4,
     "metadata": {},
     "output_type": "execute_result"
    }
   ],
   "source": [
    "df_enem.describe()"
   ],
   "metadata": {
    "collapsed": false,
    "ExecuteTime": {
     "end_time": "2023-08-16T00:16:35.947129282Z",
     "start_time": "2023-08-16T00:16:34.276656392Z"
    }
   },
   "id": "2723cdc9c0092abb"
  },
  {
   "cell_type": "code",
   "execution_count": 5,
   "outputs": [
    {
     "data": {
      "text/plain": "(534627, 136)"
     },
     "execution_count": 5,
     "metadata": {},
     "output_type": "execute_result"
    }
   ],
   "source": [
    "df_enem.shape"
   ],
   "metadata": {
    "collapsed": false,
    "ExecuteTime": {
     "end_time": "2023-08-16T00:16:38.556025544Z",
     "start_time": "2023-08-16T00:16:38.317878643Z"
    }
   },
   "id": "e81063d1a8921e79"
  },
  {
   "cell_type": "markdown",
   "source": [
    "### Engenharia de atributos"
   ],
   "metadata": {
    "collapsed": false
   },
   "id": "e211449b21b20a65"
  },
  {
   "cell_type": "code",
   "execution_count": 6,
   "outputs": [],
   "source": [
    "#Removendo colunas com informacoes duplicadas ou que nao utilizaremos\n",
    "#NU_ANO - todos os registros sao desse ano\n",
    "\n",
    "#As demais colunas possuem informacoes em outras colunas utilizando sigla\n",
    "# CO_MUNICIPIO_RESIDENCIA\n",
    "# CO_UF_RESIDENCIA\n",
    "# CO_MUNICIPIO_NASCIMENTO\n",
    "# CO_MUNICIPIO_ESC\n",
    "# CO_UF_ESC\n",
    "# CO_MUNICIPIO_PROVA\n",
    "# CO_UF_PROVA\n",
    "# CO_UF_NASCIMENTO"
   ],
   "metadata": {
    "collapsed": false,
    "ExecuteTime": {
     "end_time": "2023-08-16T00:16:41.146112537Z",
     "start_time": "2023-08-16T00:16:41.002655319Z"
    }
   },
   "id": "422e23c67700dca6"
  },
  {
   "cell_type": "code",
   "execution_count": 7,
   "outputs": [],
   "source": [
    "colunas = ['NU_ANO',\"CO_MUNICIPIO_RESIDENCIA\",\n",
    "\"CO_UF_RESIDENCIA\", \"CO_MUNICIPIO_NASCIMENTO\",\"CO_MUNICIPIO_ESC\",\n",
    "\"CO_UF_ESC\",\"CO_MUNICIPIO_PROVA\",\"CO_UF_PROVA\",'CO_UF_NASCIMENTO']"
   ],
   "metadata": {
    "collapsed": false,
    "ExecuteTime": {
     "end_time": "2023-08-16T00:16:41.853886024Z",
     "start_time": "2023-08-16T00:16:41.755190597Z"
    }
   },
   "id": "fea60b9a87c0f64a"
  },
  {
   "cell_type": "code",
   "execution_count": 8,
   "outputs": [],
   "source": [
    "df_enem.drop(columns=colunas, inplace=True)"
   ],
   "metadata": {
    "collapsed": false,
    "ExecuteTime": {
     "end_time": "2023-08-16T00:16:45.323347985Z",
     "start_time": "2023-08-16T00:16:45.036040871Z"
    }
   },
   "id": "b9c1b172e7e2c5e2"
  },
  {
   "cell_type": "code",
   "execution_count": 9,
   "outputs": [
    {
     "data": {
      "text/plain": "   NU_INSCRICAO NO_MUNICIPIO_RESIDENCIA SG_UF_RESIDENCIA  NU_IDADE TP_SEXO  \\\n0  190001237802                Contagem               MG      22.0       F   \n1  190001237803              Uberlândia               MG      30.0       F   \n2  190001237804              Esmeraldas               MG      27.0       M   \n3  190001237805    Conselheiro Lafaiete               MG      22.0       F   \n4  190001237806    São Joaquim de Bicas               MG      23.0       F   \n\n   TP_ESTADO_CIVIL  TP_COR_RACA  TP_NACIONALIDADE NO_MUNICIPIO_NASCIMENTO  \\\n0                1            1                 1                Contagem   \n1                1            2                 1              Uberlândia   \n2                1            3                 2                     NaN   \n3                1            1                 1    Conselheiro Lafaiete   \n4                1            4                 1                Contagem   \n\n  SG_UF_NASCIMENTO  ...  Q016  Q017  Q018  Q019  Q020  Q021 Q022 Q023  Q024  \\\n0               MG  ...     B     A     A     B     A     A    C    B     B   \n1               MG  ...     A     A     A     B     A     A    B    A     A   \n2              NaN  ...     A     A     A     B     A     B    C    A     A   \n3               MG  ...     B     A     B     C     B     A    E    A     B   \n4               MG  ...     B     A     A     B     B     A    C    A     B   \n\n   Q025  \n0     B  \n1     A  \n2     A  \n3     B  \n4     B  \n\n[5 rows x 127 columns]",
      "text/html": "<div>\n<style scoped>\n    .dataframe tbody tr th:only-of-type {\n        vertical-align: middle;\n    }\n\n    .dataframe tbody tr th {\n        vertical-align: top;\n    }\n\n    .dataframe thead th {\n        text-align: right;\n    }\n</style>\n<table border=\"1\" class=\"dataframe\">\n  <thead>\n    <tr style=\"text-align: right;\">\n      <th></th>\n      <th>NU_INSCRICAO</th>\n      <th>NO_MUNICIPIO_RESIDENCIA</th>\n      <th>SG_UF_RESIDENCIA</th>\n      <th>NU_IDADE</th>\n      <th>TP_SEXO</th>\n      <th>TP_ESTADO_CIVIL</th>\n      <th>TP_COR_RACA</th>\n      <th>TP_NACIONALIDADE</th>\n      <th>NO_MUNICIPIO_NASCIMENTO</th>\n      <th>SG_UF_NASCIMENTO</th>\n      <th>...</th>\n      <th>Q016</th>\n      <th>Q017</th>\n      <th>Q018</th>\n      <th>Q019</th>\n      <th>Q020</th>\n      <th>Q021</th>\n      <th>Q022</th>\n      <th>Q023</th>\n      <th>Q024</th>\n      <th>Q025</th>\n    </tr>\n  </thead>\n  <tbody>\n    <tr>\n      <th>0</th>\n      <td>190001237802</td>\n      <td>Contagem</td>\n      <td>MG</td>\n      <td>22.0</td>\n      <td>F</td>\n      <td>1</td>\n      <td>1</td>\n      <td>1</td>\n      <td>Contagem</td>\n      <td>MG</td>\n      <td>...</td>\n      <td>B</td>\n      <td>A</td>\n      <td>A</td>\n      <td>B</td>\n      <td>A</td>\n      <td>A</td>\n      <td>C</td>\n      <td>B</td>\n      <td>B</td>\n      <td>B</td>\n    </tr>\n    <tr>\n      <th>1</th>\n      <td>190001237803</td>\n      <td>Uberlândia</td>\n      <td>MG</td>\n      <td>30.0</td>\n      <td>F</td>\n      <td>1</td>\n      <td>2</td>\n      <td>1</td>\n      <td>Uberlândia</td>\n      <td>MG</td>\n      <td>...</td>\n      <td>A</td>\n      <td>A</td>\n      <td>A</td>\n      <td>B</td>\n      <td>A</td>\n      <td>A</td>\n      <td>B</td>\n      <td>A</td>\n      <td>A</td>\n      <td>A</td>\n    </tr>\n    <tr>\n      <th>2</th>\n      <td>190001237804</td>\n      <td>Esmeraldas</td>\n      <td>MG</td>\n      <td>27.0</td>\n      <td>M</td>\n      <td>1</td>\n      <td>3</td>\n      <td>2</td>\n      <td>NaN</td>\n      <td>NaN</td>\n      <td>...</td>\n      <td>A</td>\n      <td>A</td>\n      <td>A</td>\n      <td>B</td>\n      <td>A</td>\n      <td>B</td>\n      <td>C</td>\n      <td>A</td>\n      <td>A</td>\n      <td>A</td>\n    </tr>\n    <tr>\n      <th>3</th>\n      <td>190001237805</td>\n      <td>Conselheiro Lafaiete</td>\n      <td>MG</td>\n      <td>22.0</td>\n      <td>F</td>\n      <td>1</td>\n      <td>1</td>\n      <td>1</td>\n      <td>Conselheiro Lafaiete</td>\n      <td>MG</td>\n      <td>...</td>\n      <td>B</td>\n      <td>A</td>\n      <td>B</td>\n      <td>C</td>\n      <td>B</td>\n      <td>A</td>\n      <td>E</td>\n      <td>A</td>\n      <td>B</td>\n      <td>B</td>\n    </tr>\n    <tr>\n      <th>4</th>\n      <td>190001237806</td>\n      <td>São Joaquim de Bicas</td>\n      <td>MG</td>\n      <td>23.0</td>\n      <td>F</td>\n      <td>1</td>\n      <td>4</td>\n      <td>1</td>\n      <td>Contagem</td>\n      <td>MG</td>\n      <td>...</td>\n      <td>B</td>\n      <td>A</td>\n      <td>A</td>\n      <td>B</td>\n      <td>B</td>\n      <td>A</td>\n      <td>C</td>\n      <td>A</td>\n      <td>B</td>\n      <td>B</td>\n    </tr>\n  </tbody>\n</table>\n<p>5 rows × 127 columns</p>\n</div>"
     },
     "execution_count": 9,
     "metadata": {},
     "output_type": "execute_result"
    }
   ],
   "source": [
    "df_enem.head()"
   ],
   "metadata": {
    "collapsed": false,
    "ExecuteTime": {
     "end_time": "2023-08-16T00:16:46.358470110Z",
     "start_time": "2023-08-16T00:16:46.240286182Z"
    }
   },
   "id": "2b646a0df1fd8488"
  },
  {
   "cell_type": "code",
   "execution_count": 10,
   "outputs": [
    {
     "data": {
      "text/plain": "MG    531549\nSP      1235\nRJ       684\nBA       326\nGO       262\nES       211\nDF        55\nPA        47\nMA        31\nPR        29\nCE        23\nMT        20\nRS        18\nMS        18\nPI        18\nPE        13\nSC        12\nAL        11\nRN        11\nTO        10\nAM        10\nRO        10\nSE         9\nPB         8\nAC         5\nRR         2\nName: SG_UF_RESIDENCIA, dtype: int64"
     },
     "execution_count": 10,
     "metadata": {},
     "output_type": "execute_result"
    }
   ],
   "source": [
    "#Verificar a quantidade de registros por estado\n",
    "df_enem['SG_UF_RESIDENCIA'].value_counts()"
   ],
   "metadata": {
    "collapsed": false,
    "ExecuteTime": {
     "end_time": "2023-08-16T00:16:47.925388488Z",
     "start_time": "2023-08-16T00:16:47.435907108Z"
    }
   },
   "id": "8f267dc7ca9f114a"
  },
  {
   "cell_type": "code",
   "execution_count": 11,
   "outputs": [],
   "source": [
    "# Nao usaremos essa coluna e a de cidade pois 95% dos registros sao de minas gerais. Utilizaremos somente a coluna de naturalidade e municipio da prova para possiveis analises regionais\n",
    "df_enem.drop(columns=['SG_UF_RESIDENCIA','NO_MUNICIPIO_RESIDENCIA','NO_MUNICIPIO_NASCIMENTO','SG_UF_NASCIMENTO','NO_MUNICIPIO_ESC','SG_UF_ESC','SG_UF_PROVA'], inplace=True)"
   ],
   "metadata": {
    "collapsed": false,
    "ExecuteTime": {
     "end_time": "2023-08-16T00:16:50.025684164Z",
     "start_time": "2023-08-16T00:16:49.676877671Z"
    }
   },
   "id": "9efc7e870d68f7c1"
  },
  {
   "cell_type": "code",
   "execution_count": 12,
   "outputs": [
    {
     "data": {
      "text/plain": "   NU_INSCRICAO  NU_IDADE TP_SEXO  TP_ESTADO_CIVIL  TP_COR_RACA  \\\n0  190001237802      22.0       F                1            1   \n1  190001237803      30.0       F                1            2   \n2  190001237804      27.0       M                1            3   \n3  190001237805      22.0       F                1            1   \n4  190001237806      23.0       F                1            4   \n\n   TP_NACIONALIDADE  TP_ST_CONCLUSAO  TP_ANO_CONCLUIU  TP_ESCOLA  TP_ENSINO  \\\n0                 1                1                4          1        1.0   \n1                 1                2                0          2        2.0   \n2                 2                1                2          1        NaN   \n3                 1                1                5          1        1.0   \n4                 1                1                5          1        1.0   \n\n   ...  Q016  Q017  Q018  Q019  Q020  Q021  Q022  Q023  Q024  Q025  \n0  ...     B     A     A     B     A     A     C     B     B     B  \n1  ...     A     A     A     B     A     A     B     A     A     A  \n2  ...     A     A     A     B     A     B     C     A     A     A  \n3  ...     B     A     B     C     B     A     E     A     B     B  \n4  ...     B     A     A     B     B     A     C     A     B     B  \n\n[5 rows x 120 columns]",
      "text/html": "<div>\n<style scoped>\n    .dataframe tbody tr th:only-of-type {\n        vertical-align: middle;\n    }\n\n    .dataframe tbody tr th {\n        vertical-align: top;\n    }\n\n    .dataframe thead th {\n        text-align: right;\n    }\n</style>\n<table border=\"1\" class=\"dataframe\">\n  <thead>\n    <tr style=\"text-align: right;\">\n      <th></th>\n      <th>NU_INSCRICAO</th>\n      <th>NU_IDADE</th>\n      <th>TP_SEXO</th>\n      <th>TP_ESTADO_CIVIL</th>\n      <th>TP_COR_RACA</th>\n      <th>TP_NACIONALIDADE</th>\n      <th>TP_ST_CONCLUSAO</th>\n      <th>TP_ANO_CONCLUIU</th>\n      <th>TP_ESCOLA</th>\n      <th>TP_ENSINO</th>\n      <th>...</th>\n      <th>Q016</th>\n      <th>Q017</th>\n      <th>Q018</th>\n      <th>Q019</th>\n      <th>Q020</th>\n      <th>Q021</th>\n      <th>Q022</th>\n      <th>Q023</th>\n      <th>Q024</th>\n      <th>Q025</th>\n    </tr>\n  </thead>\n  <tbody>\n    <tr>\n      <th>0</th>\n      <td>190001237802</td>\n      <td>22.0</td>\n      <td>F</td>\n      <td>1</td>\n      <td>1</td>\n      <td>1</td>\n      <td>1</td>\n      <td>4</td>\n      <td>1</td>\n      <td>1.0</td>\n      <td>...</td>\n      <td>B</td>\n      <td>A</td>\n      <td>A</td>\n      <td>B</td>\n      <td>A</td>\n      <td>A</td>\n      <td>C</td>\n      <td>B</td>\n      <td>B</td>\n      <td>B</td>\n    </tr>\n    <tr>\n      <th>1</th>\n      <td>190001237803</td>\n      <td>30.0</td>\n      <td>F</td>\n      <td>1</td>\n      <td>2</td>\n      <td>1</td>\n      <td>2</td>\n      <td>0</td>\n      <td>2</td>\n      <td>2.0</td>\n      <td>...</td>\n      <td>A</td>\n      <td>A</td>\n      <td>A</td>\n      <td>B</td>\n      <td>A</td>\n      <td>A</td>\n      <td>B</td>\n      <td>A</td>\n      <td>A</td>\n      <td>A</td>\n    </tr>\n    <tr>\n      <th>2</th>\n      <td>190001237804</td>\n      <td>27.0</td>\n      <td>M</td>\n      <td>1</td>\n      <td>3</td>\n      <td>2</td>\n      <td>1</td>\n      <td>2</td>\n      <td>1</td>\n      <td>NaN</td>\n      <td>...</td>\n      <td>A</td>\n      <td>A</td>\n      <td>A</td>\n      <td>B</td>\n      <td>A</td>\n      <td>B</td>\n      <td>C</td>\n      <td>A</td>\n      <td>A</td>\n      <td>A</td>\n    </tr>\n    <tr>\n      <th>3</th>\n      <td>190001237805</td>\n      <td>22.0</td>\n      <td>F</td>\n      <td>1</td>\n      <td>1</td>\n      <td>1</td>\n      <td>1</td>\n      <td>5</td>\n      <td>1</td>\n      <td>1.0</td>\n      <td>...</td>\n      <td>B</td>\n      <td>A</td>\n      <td>B</td>\n      <td>C</td>\n      <td>B</td>\n      <td>A</td>\n      <td>E</td>\n      <td>A</td>\n      <td>B</td>\n      <td>B</td>\n    </tr>\n    <tr>\n      <th>4</th>\n      <td>190001237806</td>\n      <td>23.0</td>\n      <td>F</td>\n      <td>1</td>\n      <td>4</td>\n      <td>1</td>\n      <td>1</td>\n      <td>5</td>\n      <td>1</td>\n      <td>1.0</td>\n      <td>...</td>\n      <td>B</td>\n      <td>A</td>\n      <td>A</td>\n      <td>B</td>\n      <td>B</td>\n      <td>A</td>\n      <td>C</td>\n      <td>A</td>\n      <td>B</td>\n      <td>B</td>\n    </tr>\n  </tbody>\n</table>\n<p>5 rows × 120 columns</p>\n</div>"
     },
     "execution_count": 12,
     "metadata": {},
     "output_type": "execute_result"
    }
   ],
   "source": [
    "df_enem.head()"
   ],
   "metadata": {
    "collapsed": false,
    "ExecuteTime": {
     "end_time": "2023-08-16T00:16:51.323636302Z",
     "start_time": "2023-08-16T00:16:51.199509838Z"
    }
   },
   "id": "561865da1f35e2c0"
  },
  {
   "cell_type": "code",
   "execution_count": 13,
   "outputs": [],
   "source": [
    "# Transformando colunas em categoricas:\n",
    "# TP_ESTADO_CIVIL\n",
    "# TP_COR_RACA\n",
    "# TP_NACIONALIDADE\n",
    "# TP_ESCOLA"
   ],
   "metadata": {
    "collapsed": false,
    "ExecuteTime": {
     "end_time": "2023-08-16T00:16:52.761448554Z",
     "start_time": "2023-08-16T00:16:52.368340212Z"
    }
   },
   "id": "82fb3e2a0ac96b70"
  },
  {
   "cell_type": "code",
   "execution_count": 14,
   "outputs": [
    {
     "data": {
      "text/plain": "1    466801\n2     41415\n0     16070\n3      9638\n4       703\nName: TP_ESTADO_CIVIL, dtype: int64"
     },
     "execution_count": 14,
     "metadata": {},
     "output_type": "execute_result"
    }
   ],
   "source": [
    "df_enem['TP_ESTADO_CIVIL'].value_counts()"
   ],
   "metadata": {
    "collapsed": false,
    "ExecuteTime": {
     "end_time": "2023-08-16T00:16:55.368669013Z",
     "start_time": "2023-08-16T00:16:55.247001291Z"
    }
   },
   "id": "32ae50ddf06b6e18"
  },
  {
   "cell_type": "code",
   "execution_count": 15,
   "outputs": [],
   "source": [
    "df_enem['TP_ESTADO_CIVIL'] = np.where(df_enem['TP_ESTADO_CIVIL']==0, \"?\",np.where(df_enem['TP_ESTADO_CIVIL']==1, \"Solteiro\",np.where(df_enem['TP_ESTADO_CIVIL']==2,\"Casado\", np.where(df_enem['TP_ESTADO_CIVIL']==3,\"Divorciado\",\"Viuvo\"))))"
   ],
   "metadata": {
    "collapsed": false,
    "ExecuteTime": {
     "end_time": "2023-08-16T00:16:56.590115425Z",
     "start_time": "2023-08-16T00:16:56.273368871Z"
    }
   },
   "id": "416c4f7b6067140"
  },
  {
   "cell_type": "code",
   "execution_count": 16,
   "outputs": [
    {
     "data": {
      "text/plain": "Solteiro      466801\nCasado         41415\n?              16070\nDivorciado      9638\nViuvo            703\nName: TP_ESTADO_CIVIL, dtype: int64"
     },
     "execution_count": 16,
     "metadata": {},
     "output_type": "execute_result"
    }
   ],
   "source": [
    "df_enem['TP_ESTADO_CIVIL'].value_counts()"
   ],
   "metadata": {
    "collapsed": false,
    "ExecuteTime": {
     "end_time": "2023-08-16T00:16:57.635974208Z",
     "start_time": "2023-08-16T00:16:57.452562099Z"
    }
   },
   "id": "2d542055f29c5029"
  },
  {
   "cell_type": "code",
   "execution_count": 17,
   "outputs": [
    {
     "data": {
      "text/plain": "3    232461\n1    202228\n2     75148\n4     11788\n0     10863\n5      2139\nName: TP_COR_RACA, dtype: int64"
     },
     "execution_count": 17,
     "metadata": {},
     "output_type": "execute_result"
    }
   ],
   "source": [
    "df_enem['TP_COR_RACA'].value_counts()"
   ],
   "metadata": {
    "collapsed": false,
    "ExecuteTime": {
     "end_time": "2023-08-16T00:16:59.078977463Z",
     "start_time": "2023-08-16T00:16:58.999251199Z"
    }
   },
   "id": "6c136f127a8aa11d"
  },
  {
   "cell_type": "code",
   "execution_count": 18,
   "outputs": [],
   "source": [
    "df_enem['TP_COR_RACA'] = np.where(df_enem['TP_COR_RACA']==0, \"?\",np.where(df_enem['TP_COR_RACA']==1, \"Branca\",np.where(df_enem['TP_COR_RACA']==2,\"Preta\", np.where(df_enem['TP_COR_RACA']==3,\"Parda\",np.where(df_enem['TP_COR_RACA']==4,\"Amarela\", \"Indigena\")))))"
   ],
   "metadata": {
    "collapsed": false,
    "ExecuteTime": {
     "end_time": "2023-08-16T00:17:00.537515172Z",
     "start_time": "2023-08-16T00:17:00.248141005Z"
    }
   },
   "id": "43120829e807e80e"
  },
  {
   "cell_type": "code",
   "execution_count": 19,
   "outputs": [
    {
     "data": {
      "text/plain": "Parda       232461\nBranca      202228\nPreta        75148\nAmarela      11788\n?            10863\nIndigena      2139\nName: TP_COR_RACA, dtype: int64"
     },
     "execution_count": 19,
     "metadata": {},
     "output_type": "execute_result"
    }
   ],
   "source": [
    "df_enem['TP_COR_RACA'].value_counts()"
   ],
   "metadata": {
    "collapsed": false,
    "ExecuteTime": {
     "end_time": "2023-08-16T00:17:01.578751Z",
     "start_time": "2023-08-16T00:17:01.315853250Z"
    }
   },
   "id": "a4455fb77debf255"
  },
  {
   "cell_type": "code",
   "execution_count": 20,
   "outputs": [
    {
     "data": {
      "text/plain": "1    518642\n2     14026\n4       881\n0       708\n3       370\nName: TP_NACIONALIDADE, dtype: int64"
     },
     "execution_count": 20,
     "metadata": {},
     "output_type": "execute_result"
    }
   ],
   "source": [
    "df_enem['TP_NACIONALIDADE'].value_counts()"
   ],
   "metadata": {
    "collapsed": false,
    "ExecuteTime": {
     "end_time": "2023-08-16T00:17:03.040796829Z",
     "start_time": "2023-08-16T00:17:02.849715432Z"
    }
   },
   "id": "92302a28e6918d63"
  },
  {
   "cell_type": "code",
   "execution_count": 21,
   "outputs": [],
   "source": [
    "df_enem['TP_NACIONALIDADE'] = np.where(df_enem['TP_NACIONALIDADE']==0, \"?\",np.where(df_enem['TP_NACIONALIDADE']==1, \"Brasileira\",np.where(df_enem['TP_NACIONALIDADE']==2,\"Naturalizado\", np.where(df_enem['TP_NACIONALIDADE']==3,\"Estrangeira\",\"Nascido_exterior\"))))"
   ],
   "metadata": {
    "collapsed": false,
    "ExecuteTime": {
     "end_time": "2023-08-16T00:17:04.596138814Z",
     "start_time": "2023-08-16T00:17:04.321683846Z"
    }
   },
   "id": "3904dcdba22b1761"
  },
  {
   "cell_type": "code",
   "execution_count": 22,
   "outputs": [
    {
     "data": {
      "text/plain": "Brasileira          518642\nNaturalizado         14026\nNascido_exterior       881\n?                      708\nEstrangeira            370\nName: TP_NACIONALIDADE, dtype: int64"
     },
     "execution_count": 22,
     "metadata": {},
     "output_type": "execute_result"
    }
   ],
   "source": [
    "df_enem['TP_NACIONALIDADE'].value_counts()"
   ],
   "metadata": {
    "collapsed": false,
    "ExecuteTime": {
     "end_time": "2023-08-16T00:17:05.817895522Z",
     "start_time": "2023-08-16T00:17:05.722128760Z"
    }
   },
   "id": "23c51a21d9a25a39"
  },
  {
   "cell_type": "code",
   "execution_count": 23,
   "outputs": [
    {
     "data": {
      "text/plain": "1    392867\n2    124911\n3     16849\nName: TP_ESCOLA, dtype: int64"
     },
     "execution_count": 23,
     "metadata": {},
     "output_type": "execute_result"
    }
   ],
   "source": [
    "df_enem['TP_ESCOLA'].value_counts()"
   ],
   "metadata": {
    "collapsed": false,
    "ExecuteTime": {
     "end_time": "2023-08-16T00:17:06.869606129Z",
     "start_time": "2023-08-16T00:17:06.747228399Z"
    }
   },
   "id": "1589e808ac544aff"
  },
  {
   "cell_type": "code",
   "execution_count": 24,
   "outputs": [],
   "source": [
    "df_enem['TP_ESCOLA'] = np.where(df_enem['TP_ESCOLA']==1, \"?\",np.where(df_enem['TP_ESCOLA']==2, \"Publica\",np.where(df_enem['TP_ESCOLA']==3, \"Privada\",\"Exterior\")))"
   ],
   "metadata": {
    "collapsed": false,
    "ExecuteTime": {
     "end_time": "2023-08-16T00:17:07.852872669Z",
     "start_time": "2023-08-16T00:17:07.569830669Z"
    }
   },
   "id": "7d0117607a4e8ab6"
  },
  {
   "cell_type": "code",
   "execution_count": 25,
   "outputs": [
    {
     "data": {
      "text/plain": "?          392867\nPublica    124911\nPrivada     16849\nName: TP_ESCOLA, dtype: int64"
     },
     "execution_count": 25,
     "metadata": {},
     "output_type": "execute_result"
    }
   ],
   "source": [
    "df_enem['TP_ESCOLA'].value_counts()"
   ],
   "metadata": {
    "collapsed": false,
    "ExecuteTime": {
     "end_time": "2023-08-16T00:17:08.390648458Z",
     "start_time": "2023-08-16T00:17:08.323151896Z"
    }
   },
   "id": "a67473ee6dc5ab8"
  },
  {
   "cell_type": "code",
   "execution_count": 26,
   "outputs": [],
   "source": [
    "# Simplificar atendimentos especializados\n",
    "df_enem['ATENDIMENTOS_ESPECIALIZADOS'] = np.where((df_enem['IN_BAIXA_VISAO']+df_enem['IN_CEGUEIRA']+df_enem['IN_SURDEZ']+df_enem['IN_DEFICIENCIA_AUDITIVA']+df_enem['IN_SURDO_CEGUEIRA']+df_enem['IN_DEFICIENCIA_FISICA']+df_enem['IN_DEFICIENCIA_MENTAL']+df_enem['IN_DEFICIT_ATENCAO']+df_enem['IN_DISLEXIA']+df_enem['IN_DISCALCULIA']+df_enem['IN_AUTISMO']+df_enem['IN_VISAO_MONOCULAR']+df_enem['IN_OUTRA_DEF'])==0, \"Nao\",\"Sim\")"
   ],
   "metadata": {
    "collapsed": false,
    "ExecuteTime": {
     "end_time": "2023-08-16T00:17:09.487538191Z",
     "start_time": "2023-08-16T00:17:09.224294326Z"
    }
   },
   "id": "8be6c4509d6c0b9"
  },
  {
   "cell_type": "code",
   "execution_count": 27,
   "outputs": [
    {
     "data": {
      "text/plain": "   NU_INSCRICAO  NU_IDADE TP_SEXO TP_ESTADO_CIVIL TP_COR_RACA  \\\n0  190001237802      22.0       F        Solteiro      Branca   \n1  190001237803      30.0       F        Solteiro       Preta   \n2  190001237804      27.0       M        Solteiro       Parda   \n3  190001237805      22.0       F        Solteiro      Branca   \n4  190001237806      23.0       F        Solteiro     Amarela   \n\n  TP_NACIONALIDADE  TP_ST_CONCLUSAO  TP_ANO_CONCLUIU TP_ESCOLA  TP_ENSINO  \\\n0       Brasileira                1                4         ?        1.0   \n1       Brasileira                2                0   Publica        2.0   \n2     Naturalizado                1                2         ?        NaN   \n3       Brasileira                1                5         ?        1.0   \n4       Brasileira                1                5         ?        1.0   \n\n   ...  Q017  Q018  Q019  Q020  Q021  Q022  Q023  Q024  Q025  \\\n0  ...     A     A     B     A     A     C     B     B     B   \n1  ...     A     A     B     A     A     B     A     A     A   \n2  ...     A     A     B     A     B     C     A     A     A   \n3  ...     A     B     C     B     A     E     A     B     B   \n4  ...     A     A     B     B     A     C     A     B     B   \n\n   ATENDIMENTOS_ESPECIALIZADOS  \n0                          Nao  \n1                          Nao  \n2                          Nao  \n3                          Nao  \n4                          Nao  \n\n[5 rows x 108 columns]",
      "text/html": "<div>\n<style scoped>\n    .dataframe tbody tr th:only-of-type {\n        vertical-align: middle;\n    }\n\n    .dataframe tbody tr th {\n        vertical-align: top;\n    }\n\n    .dataframe thead th {\n        text-align: right;\n    }\n</style>\n<table border=\"1\" class=\"dataframe\">\n  <thead>\n    <tr style=\"text-align: right;\">\n      <th></th>\n      <th>NU_INSCRICAO</th>\n      <th>NU_IDADE</th>\n      <th>TP_SEXO</th>\n      <th>TP_ESTADO_CIVIL</th>\n      <th>TP_COR_RACA</th>\n      <th>TP_NACIONALIDADE</th>\n      <th>TP_ST_CONCLUSAO</th>\n      <th>TP_ANO_CONCLUIU</th>\n      <th>TP_ESCOLA</th>\n      <th>TP_ENSINO</th>\n      <th>...</th>\n      <th>Q017</th>\n      <th>Q018</th>\n      <th>Q019</th>\n      <th>Q020</th>\n      <th>Q021</th>\n      <th>Q022</th>\n      <th>Q023</th>\n      <th>Q024</th>\n      <th>Q025</th>\n      <th>ATENDIMENTOS_ESPECIALIZADOS</th>\n    </tr>\n  </thead>\n  <tbody>\n    <tr>\n      <th>0</th>\n      <td>190001237802</td>\n      <td>22.0</td>\n      <td>F</td>\n      <td>Solteiro</td>\n      <td>Branca</td>\n      <td>Brasileira</td>\n      <td>1</td>\n      <td>4</td>\n      <td>?</td>\n      <td>1.0</td>\n      <td>...</td>\n      <td>A</td>\n      <td>A</td>\n      <td>B</td>\n      <td>A</td>\n      <td>A</td>\n      <td>C</td>\n      <td>B</td>\n      <td>B</td>\n      <td>B</td>\n      <td>Nao</td>\n    </tr>\n    <tr>\n      <th>1</th>\n      <td>190001237803</td>\n      <td>30.0</td>\n      <td>F</td>\n      <td>Solteiro</td>\n      <td>Preta</td>\n      <td>Brasileira</td>\n      <td>2</td>\n      <td>0</td>\n      <td>Publica</td>\n      <td>2.0</td>\n      <td>...</td>\n      <td>A</td>\n      <td>A</td>\n      <td>B</td>\n      <td>A</td>\n      <td>A</td>\n      <td>B</td>\n      <td>A</td>\n      <td>A</td>\n      <td>A</td>\n      <td>Nao</td>\n    </tr>\n    <tr>\n      <th>2</th>\n      <td>190001237804</td>\n      <td>27.0</td>\n      <td>M</td>\n      <td>Solteiro</td>\n      <td>Parda</td>\n      <td>Naturalizado</td>\n      <td>1</td>\n      <td>2</td>\n      <td>?</td>\n      <td>NaN</td>\n      <td>...</td>\n      <td>A</td>\n      <td>A</td>\n      <td>B</td>\n      <td>A</td>\n      <td>B</td>\n      <td>C</td>\n      <td>A</td>\n      <td>A</td>\n      <td>A</td>\n      <td>Nao</td>\n    </tr>\n    <tr>\n      <th>3</th>\n      <td>190001237805</td>\n      <td>22.0</td>\n      <td>F</td>\n      <td>Solteiro</td>\n      <td>Branca</td>\n      <td>Brasileira</td>\n      <td>1</td>\n      <td>5</td>\n      <td>?</td>\n      <td>1.0</td>\n      <td>...</td>\n      <td>A</td>\n      <td>B</td>\n      <td>C</td>\n      <td>B</td>\n      <td>A</td>\n      <td>E</td>\n      <td>A</td>\n      <td>B</td>\n      <td>B</td>\n      <td>Nao</td>\n    </tr>\n    <tr>\n      <th>4</th>\n      <td>190001237806</td>\n      <td>23.0</td>\n      <td>F</td>\n      <td>Solteiro</td>\n      <td>Amarela</td>\n      <td>Brasileira</td>\n      <td>1</td>\n      <td>5</td>\n      <td>?</td>\n      <td>1.0</td>\n      <td>...</td>\n      <td>A</td>\n      <td>A</td>\n      <td>B</td>\n      <td>B</td>\n      <td>A</td>\n      <td>C</td>\n      <td>A</td>\n      <td>B</td>\n      <td>B</td>\n      <td>Nao</td>\n    </tr>\n  </tbody>\n</table>\n<p>5 rows × 108 columns</p>\n</div>"
     },
     "execution_count": 27,
     "metadata": {},
     "output_type": "execute_result"
    }
   ],
   "source": [
    "# Remover as colunas simplificadas\n",
    "colunas=['IN_BAIXA_VISAO','IN_CEGUEIRA','IN_SURDEZ','IN_DEFICIENCIA_AUDITIVA','IN_SURDO_CEGUEIRA','IN_DEFICIENCIA_FISICA','IN_DEFICIENCIA_MENTAL','IN_DEFICIT_ATENCAO','IN_DISLEXIA','IN_DISCALCULIA','IN_AUTISMO','IN_VISAO_MONOCULAR','IN_OUTRA_DEF']\n",
    "df_enem.drop(columns=colunas, inplace=True)\n",
    "df_enem.head()"
   ],
   "metadata": {
    "collapsed": false,
    "ExecuteTime": {
     "end_time": "2023-08-16T00:17:10.220017562Z",
     "start_time": "2023-08-16T00:17:10.002733245Z"
    }
   },
   "id": "c02c57a885b167b9"
  },
  {
   "cell_type": "code",
   "execution_count": 28,
   "outputs": [
    {
     "name": "stdout",
     "output_type": "stream",
     "text": [
      "Recursos: 0    533976\n",
      "1       651\n",
      "Name: IN_SEM_RECURSO, dtype: int64\n",
      "Total solicitacoes quando IN_SEM_RECURSO = 1: 0\n"
     ]
    }
   ],
   "source": [
    "#Simplificar as colunas de solicitacao de recurso. Verificar primeiro a coluna de solicitacao\n",
    "df_enem_rec = df_enem[df_enem['IN_SEM_RECURSO']==1]\n",
    "total_solicitacoes = df_enem_rec['IN_BRAILLE'].sum() + df_enem_rec['IN_AMPLIADA_24'].sum() + df_enem_rec['IN_AMPLIADA_18'].sum() + df_enem_rec['IN_LEDOR'].sum() + df_enem_rec['IN_ACESSO'].sum() + df_enem_rec['IN_TRANSCRICAO'].sum() + df_enem_rec['IN_LIBRAS'].sum() + df_enem_rec['IN_TEMPO_ADICIONAL'].sum() + df_enem_rec['IN_LEITURA_LABIAL'].sum() + df_enem_rec['IN_MESA_CADEIRA_RODAS'].sum() + df_enem_rec['IN_MESA_CADEIRA_SEPARADA'].sum() + df_enem_rec['IN_APOIO_PERNA'].sum() + df_enem_rec['IN_GUIA_INTERPRETE'].sum() + df_enem_rec['IN_COMPUTADOR'].sum() + df_enem_rec['IN_CADEIRA_ESPECIAL'].sum() + df_enem_rec['IN_CADEIRA_CANHOTO'].sum() + df_enem_rec['IN_CADEIRA_ACOLCHOADA'].sum() + df_enem_rec['IN_PROVA_DEITADO'].sum() + df_enem_rec['IN_MOBILIARIO_OBESO'].sum() + df_enem_rec['IN_LAMINA_OVERLAY'].sum() + df_enem_rec['IN_PROTETOR_AURICULAR'].sum() + df_enem_rec['IN_MEDIDOR_GLICOSE'].sum() + df_enem_rec['IN_MAQUINA_BRAILE'].sum() + df_enem_rec['IN_SOROBAN'].sum() + df_enem_rec['IN_MARCA_PASSO'].sum() + df_enem_rec['IN_SONDA'].sum() + df_enem_rec['IN_MEDICAMENTOS'].sum() + df_enem_rec['IN_SALA_INDIVIDUAL'].sum() + df_enem_rec['IN_SALA_ESPECIAL'].sum() + df_enem_rec['IN_SALA_ACOMPANHANTE'].sum() + df_enem_rec['IN_MOBILIARIO_ESPECIFICO'].sum() + df_enem_rec['IN_MATERIAL_ESPECIFICO'].sum() + df_enem_rec['IN_NOME_SOCIAL'].sum()\n",
    "print(\"Recursos:\",df_enem['IN_SEM_RECURSO'].value_counts())\n",
    "print(\"Total solicitacoes quando IN_SEM_RECURSO = 1:\",total_solicitacoes)\n",
    "\n"
   ],
   "metadata": {
    "collapsed": false,
    "ExecuteTime": {
     "end_time": "2023-08-16T00:17:12.056536339Z",
     "start_time": "2023-08-16T00:17:11.473900208Z"
    }
   },
   "id": "78aa87862382ea75"
  },
  {
   "cell_type": "code",
   "execution_count": 29,
   "outputs": [
    {
     "name": "stdout",
     "output_type": "stream",
     "text": [
      "Recursos: 0    533976\n",
      "1       651\n",
      "Name: IN_SEM_RECURSO, dtype: int64\n",
      "Total solicitacoes quando IN_SEM_RECURSO = 0 (solicitou recurso): 6431\n"
     ]
    }
   ],
   "source": [
    "df_enem_rec = df_enem[df_enem['IN_SEM_RECURSO']==0]\n",
    "total_solicitacoes = df_enem_rec['IN_BRAILLE'].sum() + df_enem_rec['IN_AMPLIADA_24'].sum() + df_enem_rec['IN_AMPLIADA_18'].sum() + df_enem_rec['IN_LEDOR'].sum() + df_enem_rec['IN_ACESSO'].sum() + df_enem_rec['IN_TRANSCRICAO'].sum() + df_enem_rec['IN_LIBRAS'].sum() + df_enem_rec['IN_TEMPO_ADICIONAL'].sum() + df_enem_rec['IN_LEITURA_LABIAL'].sum() + df_enem_rec['IN_MESA_CADEIRA_RODAS'].sum() + df_enem_rec['IN_MESA_CADEIRA_SEPARADA'].sum() + df_enem_rec['IN_APOIO_PERNA'].sum() + df_enem_rec['IN_GUIA_INTERPRETE'].sum() + df_enem_rec['IN_COMPUTADOR'].sum() + df_enem_rec['IN_CADEIRA_ESPECIAL'].sum() + df_enem_rec['IN_CADEIRA_CANHOTO'].sum() + df_enem_rec['IN_CADEIRA_ACOLCHOADA'].sum() + df_enem_rec['IN_PROVA_DEITADO'].sum() + df_enem_rec['IN_MOBILIARIO_OBESO'].sum() + df_enem_rec['IN_LAMINA_OVERLAY'].sum() + df_enem_rec['IN_PROTETOR_AURICULAR'].sum() + df_enem_rec['IN_MEDIDOR_GLICOSE'].sum() + df_enem_rec['IN_MAQUINA_BRAILE'].sum() + df_enem_rec['IN_SOROBAN'].sum() + df_enem_rec['IN_MARCA_PASSO'].sum() + df_enem_rec['IN_SONDA'].sum() + df_enem_rec['IN_MEDICAMENTOS'].sum() + df_enem_rec['IN_SALA_INDIVIDUAL'].sum() + df_enem_rec['IN_SALA_ESPECIAL'].sum() + df_enem_rec['IN_SALA_ACOMPANHANTE'].sum() + df_enem_rec['IN_MOBILIARIO_ESPECIFICO'].sum() + df_enem_rec['IN_MATERIAL_ESPECIFICO'].sum() + df_enem_rec['IN_NOME_SOCIAL'].sum()\n",
    "print(\"Recursos:\",df_enem['IN_SEM_RECURSO'].value_counts())\n",
    "print(\"Total solicitacoes quando IN_SEM_RECURSO = 0 (solicitou recurso):\",total_solicitacoes)"
   ],
   "metadata": {
    "collapsed": false,
    "ExecuteTime": {
     "end_time": "2023-08-16T00:17:13.227534106Z",
     "start_time": "2023-08-16T00:17:12.802149426Z"
    }
   },
   "id": "2c4044758549186e"
  },
  {
   "cell_type": "code",
   "execution_count": 30,
   "outputs": [
    {
     "data": {
      "text/plain": "0    530408\n1      2904\n2       724\n3       392\n4       127\n5        46\n6        18\n7         7\n8         1\nName: QTD_RECURSOS, dtype: int64"
     },
     "execution_count": 30,
     "metadata": {},
     "output_type": "execute_result"
    }
   ],
   "source": [
    "# Foi possivel observar que as colunas de recurso correspondem a coluna IN_SEM_RECURSO, entretanto, para quem solicitou recursos pode ter feito mais de uma solicitacao, por isso iremos criar uma coluna QTD_RECURSOS e manter a IN_SEM_RECURSO, as demais serao apagadas\n",
    "df_enem['QTD_RECURSOS']= df_enem['IN_BRAILLE'] + df_enem['IN_AMPLIADA_24'] + df_enem['IN_AMPLIADA_18'] + df_enem['IN_LEDOR'] + df_enem['IN_ACESSO'] + df_enem['IN_TRANSCRICAO'] + df_enem['IN_LIBRAS'] + df_enem['IN_TEMPO_ADICIONAL'] + df_enem['IN_LEITURA_LABIAL'] + df_enem['IN_MESA_CADEIRA_RODAS'] + df_enem['IN_MESA_CADEIRA_SEPARADA'] + df_enem['IN_APOIO_PERNA'] + df_enem['IN_GUIA_INTERPRETE'] + df_enem['IN_COMPUTADOR'] + df_enem['IN_CADEIRA_ESPECIAL'] + df_enem['IN_CADEIRA_CANHOTO'] + df_enem['IN_CADEIRA_ACOLCHOADA'] + df_enem['IN_PROVA_DEITADO'] + df_enem['IN_MOBILIARIO_OBESO'] + df_enem['IN_LAMINA_OVERLAY'] + df_enem['IN_PROTETOR_AURICULAR'] + df_enem['IN_MEDIDOR_GLICOSE'] + df_enem['IN_MAQUINA_BRAILE'] + df_enem['IN_SOROBAN'] + df_enem['IN_MARCA_PASSO'] + df_enem['IN_SONDA'] + df_enem['IN_MEDICAMENTOS'] + df_enem['IN_SALA_INDIVIDUAL'] + df_enem['IN_SALA_ESPECIAL'] + df_enem['IN_SALA_ACOMPANHANTE'] + df_enem['IN_MOBILIARIO_ESPECIFICO'] + df_enem['IN_MATERIAL_ESPECIFICO'] + df_enem['IN_NOME_SOCIAL']\n",
    "df_enem['QTD_RECURSOS'].value_counts()"
   ],
   "metadata": {
    "collapsed": false,
    "ExecuteTime": {
     "end_time": "2023-08-16T00:17:15.115855998Z",
     "start_time": "2023-08-16T00:17:14.955744887Z"
    }
   },
   "id": "14d1e755a5060c4a"
  },
  {
   "cell_type": "code",
   "execution_count": 31,
   "outputs": [
    {
     "data": {
      "text/plain": "   NU_INSCRICAO  NU_IDADE TP_SEXO TP_ESTADO_CIVIL TP_COR_RACA  \\\n0  190001237802      22.0       F        Solteiro      Branca   \n1  190001237803      30.0       F        Solteiro       Preta   \n2  190001237804      27.0       M        Solteiro       Parda   \n3  190001237805      22.0       F        Solteiro      Branca   \n4  190001237806      23.0       F        Solteiro     Amarela   \n\n  TP_NACIONALIDADE  TP_ST_CONCLUSAO  TP_ANO_CONCLUIU TP_ESCOLA  TP_ENSINO  \\\n0       Brasileira                1                4         ?        1.0   \n1       Brasileira                2                0   Publica        2.0   \n2     Naturalizado                1                2         ?        NaN   \n3       Brasileira                1                5         ?        1.0   \n4       Brasileira                1                5         ?        1.0   \n\n   ...  Q018  Q019  Q020  Q021  Q022  Q023  Q024  Q025  \\\n0  ...     A     B     A     A     C     B     B     B   \n1  ...     A     B     A     A     B     A     A     A   \n2  ...     A     B     A     B     C     A     A     A   \n3  ...     B     C     B     A     E     A     B     B   \n4  ...     A     B     B     A     C     A     B     B   \n\n   ATENDIMENTOS_ESPECIALIZADOS  QTD_RECURSOS  \n0                          Nao             0  \n1                          Nao             0  \n2                          Nao             0  \n3                          Nao             0  \n4                          Nao             0  \n\n[5 rows x 76 columns]",
      "text/html": "<div>\n<style scoped>\n    .dataframe tbody tr th:only-of-type {\n        vertical-align: middle;\n    }\n\n    .dataframe tbody tr th {\n        vertical-align: top;\n    }\n\n    .dataframe thead th {\n        text-align: right;\n    }\n</style>\n<table border=\"1\" class=\"dataframe\">\n  <thead>\n    <tr style=\"text-align: right;\">\n      <th></th>\n      <th>NU_INSCRICAO</th>\n      <th>NU_IDADE</th>\n      <th>TP_SEXO</th>\n      <th>TP_ESTADO_CIVIL</th>\n      <th>TP_COR_RACA</th>\n      <th>TP_NACIONALIDADE</th>\n      <th>TP_ST_CONCLUSAO</th>\n      <th>TP_ANO_CONCLUIU</th>\n      <th>TP_ESCOLA</th>\n      <th>TP_ENSINO</th>\n      <th>...</th>\n      <th>Q018</th>\n      <th>Q019</th>\n      <th>Q020</th>\n      <th>Q021</th>\n      <th>Q022</th>\n      <th>Q023</th>\n      <th>Q024</th>\n      <th>Q025</th>\n      <th>ATENDIMENTOS_ESPECIALIZADOS</th>\n      <th>QTD_RECURSOS</th>\n    </tr>\n  </thead>\n  <tbody>\n    <tr>\n      <th>0</th>\n      <td>190001237802</td>\n      <td>22.0</td>\n      <td>F</td>\n      <td>Solteiro</td>\n      <td>Branca</td>\n      <td>Brasileira</td>\n      <td>1</td>\n      <td>4</td>\n      <td>?</td>\n      <td>1.0</td>\n      <td>...</td>\n      <td>A</td>\n      <td>B</td>\n      <td>A</td>\n      <td>A</td>\n      <td>C</td>\n      <td>B</td>\n      <td>B</td>\n      <td>B</td>\n      <td>Nao</td>\n      <td>0</td>\n    </tr>\n    <tr>\n      <th>1</th>\n      <td>190001237803</td>\n      <td>30.0</td>\n      <td>F</td>\n      <td>Solteiro</td>\n      <td>Preta</td>\n      <td>Brasileira</td>\n      <td>2</td>\n      <td>0</td>\n      <td>Publica</td>\n      <td>2.0</td>\n      <td>...</td>\n      <td>A</td>\n      <td>B</td>\n      <td>A</td>\n      <td>A</td>\n      <td>B</td>\n      <td>A</td>\n      <td>A</td>\n      <td>A</td>\n      <td>Nao</td>\n      <td>0</td>\n    </tr>\n    <tr>\n      <th>2</th>\n      <td>190001237804</td>\n      <td>27.0</td>\n      <td>M</td>\n      <td>Solteiro</td>\n      <td>Parda</td>\n      <td>Naturalizado</td>\n      <td>1</td>\n      <td>2</td>\n      <td>?</td>\n      <td>NaN</td>\n      <td>...</td>\n      <td>A</td>\n      <td>B</td>\n      <td>A</td>\n      <td>B</td>\n      <td>C</td>\n      <td>A</td>\n      <td>A</td>\n      <td>A</td>\n      <td>Nao</td>\n      <td>0</td>\n    </tr>\n    <tr>\n      <th>3</th>\n      <td>190001237805</td>\n      <td>22.0</td>\n      <td>F</td>\n      <td>Solteiro</td>\n      <td>Branca</td>\n      <td>Brasileira</td>\n      <td>1</td>\n      <td>5</td>\n      <td>?</td>\n      <td>1.0</td>\n      <td>...</td>\n      <td>B</td>\n      <td>C</td>\n      <td>B</td>\n      <td>A</td>\n      <td>E</td>\n      <td>A</td>\n      <td>B</td>\n      <td>B</td>\n      <td>Nao</td>\n      <td>0</td>\n    </tr>\n    <tr>\n      <th>4</th>\n      <td>190001237806</td>\n      <td>23.0</td>\n      <td>F</td>\n      <td>Solteiro</td>\n      <td>Amarela</td>\n      <td>Brasileira</td>\n      <td>1</td>\n      <td>5</td>\n      <td>?</td>\n      <td>1.0</td>\n      <td>...</td>\n      <td>A</td>\n      <td>B</td>\n      <td>B</td>\n      <td>A</td>\n      <td>C</td>\n      <td>A</td>\n      <td>B</td>\n      <td>B</td>\n      <td>Nao</td>\n      <td>0</td>\n    </tr>\n  </tbody>\n</table>\n<p>5 rows × 76 columns</p>\n</div>"
     },
     "execution_count": 31,
     "metadata": {},
     "output_type": "execute_result"
    }
   ],
   "source": [
    "#Remover as colunas de solicitacao\n",
    "colunas = ['IN_BRAILLE','IN_AMPLIADA_24','IN_AMPLIADA_18','IN_LEDOR','IN_ACESSO','IN_TRANSCRICAO','IN_LIBRAS','IN_TEMPO_ADICIONAL','IN_LEITURA_LABIAL','IN_MESA_CADEIRA_RODAS','IN_MESA_CADEIRA_SEPARADA','IN_APOIO_PERNA','IN_GUIA_INTERPRETE','IN_COMPUTADOR','IN_CADEIRA_ESPECIAL','IN_CADEIRA_CANHOTO','IN_CADEIRA_ACOLCHOADA','IN_PROVA_DEITADO','IN_MOBILIARIO_OBESO','IN_LAMINA_OVERLAY','IN_PROTETOR_AURICULAR','IN_MEDIDOR_GLICOSE','IN_MAQUINA_BRAILE','IN_SOROBAN','IN_MARCA_PASSO','IN_SONDA','IN_MEDICAMENTOS','IN_SALA_INDIVIDUAL','IN_SALA_ESPECIAL','IN_SALA_ACOMPANHANTE','IN_MOBILIARIO_ESPECIFICO','IN_MATERIAL_ESPECIFICO','IN_NOME_SOCIAL']\n",
    "df_enem.drop(columns=colunas, inplace=True)\n",
    "df_enem.head()"
   ],
   "metadata": {
    "collapsed": false,
    "ExecuteTime": {
     "end_time": "2023-08-16T00:17:16.607702264Z",
     "start_time": "2023-08-16T00:17:16.141703116Z"
    }
   },
   "id": "e87f1839514ffeaa"
  },
  {
   "cell_type": "code",
   "execution_count": 32,
   "outputs": [
    {
     "data": {
      "text/plain": "   NU_INSCRICAO  NU_IDADE TP_SEXO TP_ESTADO_CIVIL TP_COR_RACA  \\\n0  190001237802      22.0       F        Solteiro      Branca   \n1  190001237803      30.0       F        Solteiro       Preta   \n2  190001237804      27.0       M        Solteiro       Parda   \n3  190001237805      22.0       F        Solteiro      Branca   \n4  190001237806      23.0       F        Solteiro     Amarela   \n\n  TP_NACIONALIDADE  TP_ST_CONCLUSAO  TP_ANO_CONCLUIU TP_ESCOLA  TP_ENSINO  \\\n0       Brasileira                1                4         ?        1.0   \n1       Brasileira                2                0   Publica        2.0   \n2     Naturalizado                1                2         ?        NaN   \n3       Brasileira                1                5         ?        1.0   \n4       Brasileira                1                5         ?        1.0   \n\n   ...  Q020  Q021  Q022  Q023  Q024  Q025  ATENDIMENTOS_ESPECIALIZADOS  \\\n0  ...     A     A     C     B     B     B                          Nao   \n1  ...     A     A     B     A     A     A                          Nao   \n2  ...     A     B     C     A     A     A                          Nao   \n3  ...     B     A     E     A     B     B                          Nao   \n4  ...     B     A     C     A     B     B                          Nao   \n\n   QTD_RECURSOS  ESCOLARIDADE_PAI  ESCOLARIDADE_MAE  \n0             0  Não completou ES  Não completou ES  \n1             0  Não completou ES  Não completou ES  \n2             0          Não sabe          Não sabe  \n3             0  Não completou ES      Completou EF  \n4             0  Não completou EF  Não completou EF  \n\n[5 rows x 78 columns]",
      "text/html": "<div>\n<style scoped>\n    .dataframe tbody tr th:only-of-type {\n        vertical-align: middle;\n    }\n\n    .dataframe tbody tr th {\n        vertical-align: top;\n    }\n\n    .dataframe thead th {\n        text-align: right;\n    }\n</style>\n<table border=\"1\" class=\"dataframe\">\n  <thead>\n    <tr style=\"text-align: right;\">\n      <th></th>\n      <th>NU_INSCRICAO</th>\n      <th>NU_IDADE</th>\n      <th>TP_SEXO</th>\n      <th>TP_ESTADO_CIVIL</th>\n      <th>TP_COR_RACA</th>\n      <th>TP_NACIONALIDADE</th>\n      <th>TP_ST_CONCLUSAO</th>\n      <th>TP_ANO_CONCLUIU</th>\n      <th>TP_ESCOLA</th>\n      <th>TP_ENSINO</th>\n      <th>...</th>\n      <th>Q020</th>\n      <th>Q021</th>\n      <th>Q022</th>\n      <th>Q023</th>\n      <th>Q024</th>\n      <th>Q025</th>\n      <th>ATENDIMENTOS_ESPECIALIZADOS</th>\n      <th>QTD_RECURSOS</th>\n      <th>ESCOLARIDADE_PAI</th>\n      <th>ESCOLARIDADE_MAE</th>\n    </tr>\n  </thead>\n  <tbody>\n    <tr>\n      <th>0</th>\n      <td>190001237802</td>\n      <td>22.0</td>\n      <td>F</td>\n      <td>Solteiro</td>\n      <td>Branca</td>\n      <td>Brasileira</td>\n      <td>1</td>\n      <td>4</td>\n      <td>?</td>\n      <td>1.0</td>\n      <td>...</td>\n      <td>A</td>\n      <td>A</td>\n      <td>C</td>\n      <td>B</td>\n      <td>B</td>\n      <td>B</td>\n      <td>Nao</td>\n      <td>0</td>\n      <td>Não completou ES</td>\n      <td>Não completou ES</td>\n    </tr>\n    <tr>\n      <th>1</th>\n      <td>190001237803</td>\n      <td>30.0</td>\n      <td>F</td>\n      <td>Solteiro</td>\n      <td>Preta</td>\n      <td>Brasileira</td>\n      <td>2</td>\n      <td>0</td>\n      <td>Publica</td>\n      <td>2.0</td>\n      <td>...</td>\n      <td>A</td>\n      <td>A</td>\n      <td>B</td>\n      <td>A</td>\n      <td>A</td>\n      <td>A</td>\n      <td>Nao</td>\n      <td>0</td>\n      <td>Não completou ES</td>\n      <td>Não completou ES</td>\n    </tr>\n    <tr>\n      <th>2</th>\n      <td>190001237804</td>\n      <td>27.0</td>\n      <td>M</td>\n      <td>Solteiro</td>\n      <td>Parda</td>\n      <td>Naturalizado</td>\n      <td>1</td>\n      <td>2</td>\n      <td>?</td>\n      <td>NaN</td>\n      <td>...</td>\n      <td>A</td>\n      <td>B</td>\n      <td>C</td>\n      <td>A</td>\n      <td>A</td>\n      <td>A</td>\n      <td>Nao</td>\n      <td>0</td>\n      <td>Não sabe</td>\n      <td>Não sabe</td>\n    </tr>\n    <tr>\n      <th>3</th>\n      <td>190001237805</td>\n      <td>22.0</td>\n      <td>F</td>\n      <td>Solteiro</td>\n      <td>Branca</td>\n      <td>Brasileira</td>\n      <td>1</td>\n      <td>5</td>\n      <td>?</td>\n      <td>1.0</td>\n      <td>...</td>\n      <td>B</td>\n      <td>A</td>\n      <td>E</td>\n      <td>A</td>\n      <td>B</td>\n      <td>B</td>\n      <td>Nao</td>\n      <td>0</td>\n      <td>Não completou ES</td>\n      <td>Completou EF</td>\n    </tr>\n    <tr>\n      <th>4</th>\n      <td>190001237806</td>\n      <td>23.0</td>\n      <td>F</td>\n      <td>Solteiro</td>\n      <td>Amarela</td>\n      <td>Brasileira</td>\n      <td>1</td>\n      <td>5</td>\n      <td>?</td>\n      <td>1.0</td>\n      <td>...</td>\n      <td>B</td>\n      <td>A</td>\n      <td>C</td>\n      <td>A</td>\n      <td>B</td>\n      <td>B</td>\n      <td>Nao</td>\n      <td>0</td>\n      <td>Não completou EF</td>\n      <td>Não completou EF</td>\n    </tr>\n  </tbody>\n</table>\n<p>5 rows × 78 columns</p>\n</div>"
     },
     "execution_count": 32,
     "metadata": {},
     "output_type": "execute_result"
    }
   ],
   "source": [
    "# Ajustar escolaridade do pai e mae simplificando por completude de ensino fundamental, medio, graduacao, pos, nao sabe\n",
    "# 'A':'Nunca estudou'\n",
    "# 'B':'Não completou EF' -> EF = Ensino Fundamental\n",
    "# 'C':'Não completou EF' -> EF = Ensino Fundamental\n",
    "# 'D':'Não completou EM' -> EM = Ensino Medio\n",
    "# 'E':'Não completou ES' -> ES = Ensino Superior\n",
    "# 'F':'raduacao'\n",
    "# 'G':'Pós-graduacao'\n",
    "# 'H':'Não sabe'\n",
    "df_enem['ESCOLARIDADE_PAI'] = df_enem['Q001'].map({'A':'Nunca estudou', 'B':'Não completou EF', 'C':'Completou EF','D':'Não completou EM', 'E':'Não completou ES', 'F':'Graduacao','G':'Pós-graduacao','H':'Não sabe'})\n",
    "df_enem['ESCOLARIDADE_MAE'] = df_enem['Q002'].map({'A':'Nunca estudou', 'B':'Não completou EF', 'C':'Completou EF','D':'Não completou EM', 'E':'Não completou ES', 'F':'Graduacao','G':'Pós-graduacao','H':'Não sabe'})\n",
    "df_enem.head()"
   ],
   "metadata": {
    "collapsed": false,
    "ExecuteTime": {
     "end_time": "2023-08-16T00:17:27.682470165Z",
     "start_time": "2023-08-16T00:17:27.438173911Z"
    }
   },
   "id": "29ddbaf185e0b34d"
  },
  {
   "cell_type": "code",
   "execution_count": 33,
   "outputs": [
    {
     "data": {
      "text/plain": "   NU_INSCRICAO  NU_IDADE TP_SEXO TP_ESTADO_CIVIL TP_COR_RACA  \\\n0  190001237802      22.0       F        Solteiro      Branca   \n1  190001237803      30.0       F        Solteiro       Preta   \n2  190001237804      27.0       M        Solteiro       Parda   \n3  190001237805      22.0       F        Solteiro      Branca   \n4  190001237806      23.0       F        Solteiro     Amarela   \n\n  TP_NACIONALIDADE  TP_ST_CONCLUSAO  TP_ANO_CONCLUIU TP_ESCOLA  TP_ENSINO  \\\n0       Brasileira                1                4         ?        1.0   \n1       Brasileira                2                0   Publica        2.0   \n2     Naturalizado                1                2         ?        NaN   \n3       Brasileira                1                5         ?        1.0   \n4       Brasileira                1                5         ?        1.0   \n\n   ...  Q021  Q022  Q023  Q024  Q025  ATENDIMENTOS_ESPECIALIZADOS  \\\n0  ...     A     C     B     B     B                          Nao   \n1  ...     A     B     A     A     A                          Nao   \n2  ...     B     C     A     A     A                          Nao   \n3  ...     A     E     A     B     B                          Nao   \n4  ...     A     C     A     B     B                          Nao   \n\n   QTD_RECURSOS  ESCOLARIDADE_PAI  ESCOLARIDADE_MAE  RENDA_CLASSE  \n0             0  Não completou ES  Não completou ES             C  \n1             0  Não completou ES  Não completou ES             E  \n2             0          Não sabe          Não sabe             E  \n3             0  Não completou ES      Completou EF             C  \n4             0  Não completou EF  Não completou EF             D  \n\n[5 rows x 79 columns]",
      "text/html": "<div>\n<style scoped>\n    .dataframe tbody tr th:only-of-type {\n        vertical-align: middle;\n    }\n\n    .dataframe tbody tr th {\n        vertical-align: top;\n    }\n\n    .dataframe thead th {\n        text-align: right;\n    }\n</style>\n<table border=\"1\" class=\"dataframe\">\n  <thead>\n    <tr style=\"text-align: right;\">\n      <th></th>\n      <th>NU_INSCRICAO</th>\n      <th>NU_IDADE</th>\n      <th>TP_SEXO</th>\n      <th>TP_ESTADO_CIVIL</th>\n      <th>TP_COR_RACA</th>\n      <th>TP_NACIONALIDADE</th>\n      <th>TP_ST_CONCLUSAO</th>\n      <th>TP_ANO_CONCLUIU</th>\n      <th>TP_ESCOLA</th>\n      <th>TP_ENSINO</th>\n      <th>...</th>\n      <th>Q021</th>\n      <th>Q022</th>\n      <th>Q023</th>\n      <th>Q024</th>\n      <th>Q025</th>\n      <th>ATENDIMENTOS_ESPECIALIZADOS</th>\n      <th>QTD_RECURSOS</th>\n      <th>ESCOLARIDADE_PAI</th>\n      <th>ESCOLARIDADE_MAE</th>\n      <th>RENDA_CLASSE</th>\n    </tr>\n  </thead>\n  <tbody>\n    <tr>\n      <th>0</th>\n      <td>190001237802</td>\n      <td>22.0</td>\n      <td>F</td>\n      <td>Solteiro</td>\n      <td>Branca</td>\n      <td>Brasileira</td>\n      <td>1</td>\n      <td>4</td>\n      <td>?</td>\n      <td>1.0</td>\n      <td>...</td>\n      <td>A</td>\n      <td>C</td>\n      <td>B</td>\n      <td>B</td>\n      <td>B</td>\n      <td>Nao</td>\n      <td>0</td>\n      <td>Não completou ES</td>\n      <td>Não completou ES</td>\n      <td>C</td>\n    </tr>\n    <tr>\n      <th>1</th>\n      <td>190001237803</td>\n      <td>30.0</td>\n      <td>F</td>\n      <td>Solteiro</td>\n      <td>Preta</td>\n      <td>Brasileira</td>\n      <td>2</td>\n      <td>0</td>\n      <td>Publica</td>\n      <td>2.0</td>\n      <td>...</td>\n      <td>A</td>\n      <td>B</td>\n      <td>A</td>\n      <td>A</td>\n      <td>A</td>\n      <td>Nao</td>\n      <td>0</td>\n      <td>Não completou ES</td>\n      <td>Não completou ES</td>\n      <td>E</td>\n    </tr>\n    <tr>\n      <th>2</th>\n      <td>190001237804</td>\n      <td>27.0</td>\n      <td>M</td>\n      <td>Solteiro</td>\n      <td>Parda</td>\n      <td>Naturalizado</td>\n      <td>1</td>\n      <td>2</td>\n      <td>?</td>\n      <td>NaN</td>\n      <td>...</td>\n      <td>B</td>\n      <td>C</td>\n      <td>A</td>\n      <td>A</td>\n      <td>A</td>\n      <td>Nao</td>\n      <td>0</td>\n      <td>Não sabe</td>\n      <td>Não sabe</td>\n      <td>E</td>\n    </tr>\n    <tr>\n      <th>3</th>\n      <td>190001237805</td>\n      <td>22.0</td>\n      <td>F</td>\n      <td>Solteiro</td>\n      <td>Branca</td>\n      <td>Brasileira</td>\n      <td>1</td>\n      <td>5</td>\n      <td>?</td>\n      <td>1.0</td>\n      <td>...</td>\n      <td>A</td>\n      <td>E</td>\n      <td>A</td>\n      <td>B</td>\n      <td>B</td>\n      <td>Nao</td>\n      <td>0</td>\n      <td>Não completou ES</td>\n      <td>Completou EF</td>\n      <td>C</td>\n    </tr>\n    <tr>\n      <th>4</th>\n      <td>190001237806</td>\n      <td>23.0</td>\n      <td>F</td>\n      <td>Solteiro</td>\n      <td>Amarela</td>\n      <td>Brasileira</td>\n      <td>1</td>\n      <td>5</td>\n      <td>?</td>\n      <td>1.0</td>\n      <td>...</td>\n      <td>A</td>\n      <td>C</td>\n      <td>A</td>\n      <td>B</td>\n      <td>B</td>\n      <td>Nao</td>\n      <td>0</td>\n      <td>Não completou EF</td>\n      <td>Não completou EF</td>\n      <td>D</td>\n    </tr>\n  </tbody>\n</table>\n<p>5 rows × 79 columns</p>\n</div>"
     },
     "execution_count": 33,
     "metadata": {},
     "output_type": "execute_result"
    }
   ],
   "source": [
    "# Criaremos mais uma coluna de faixa de renda se baseando no FGV por valores mais proximos\n",
    "# Utilizaremos 6 faixas de renda adaptando pelos valores do questionario\n",
    "# CLASSES ECONÔMICAS*     LIMITE INFERIOR     LIMITE SUPERIOR\n",
    "# Classe E                                          0                             R$ 1.254\n",
    "# Classe D                                      R$ 1.255                    R$ 2.004\n",
    "# Classe C                                      R$ 2.005                    R$ 8.640\n",
    "# Classe B                                      R$ 8.641                    R$ 11.261\n",
    "# Classe A                                      R$11.262                           - \n",
    "df_enem['RENDA_CLASSE'] = df_enem['Q006'].map({'A':'E', 'B':'E', 'C':'D', 'D':'D', 'E':'C', 'F':'C', 'G':'C', 'H':'C','I':'C', 'J':'C','K':'C', 'L':'C','M':'B','N':'B', 'O':'A','P':'A','Q':'A'})\n",
    "df_enem.head()"
   ],
   "metadata": {
    "collapsed": false,
    "ExecuteTime": {
     "end_time": "2023-08-16T00:17:34.936321017Z",
     "start_time": "2023-08-16T00:17:34.784122482Z"
    }
   },
   "id": "feaeee2cfc3d72fd"
  },
  {
   "cell_type": "code",
   "execution_count": 34,
   "outputs": [
    {
     "data": {
      "text/plain": "   NU_INSCRICAO  NU_IDADE TP_SEXO TP_ESTADO_CIVIL TP_COR_RACA  \\\n0  190001237802      22.0       F        Solteiro      Branca   \n1  190001237803      30.0       F        Solteiro       Preta   \n2  190001237804      27.0       M        Solteiro       Parda   \n3  190001237805      22.0       F        Solteiro      Branca   \n4  190001237806      23.0       F        Solteiro     Amarela   \n\n  TP_NACIONALIDADE  TP_ST_CONCLUSAO  TP_ANO_CONCLUIU TP_ESCOLA  TP_ENSINO  \\\n0       Brasileira                1                4         ?        1.0   \n1       Brasileira                2                0   Publica        2.0   \n2     Naturalizado                1                2         ?        NaN   \n3       Brasileira                1                5         ?        1.0   \n4       Brasileira                1                5         ?        1.0   \n\n   ...  Q022  Q023  Q024  Q025  ATENDIMENTOS_ESPECIALIZADOS  QTD_RECURSOS  \\\n0  ...     C     B     B     B                          Nao             0   \n1  ...     B     A     A     A                          Nao             0   \n2  ...     C     A     A     A                          Nao             0   \n3  ...     E     A     B     B                          Nao             0   \n4  ...     C     A     B     B                          Nao             0   \n\n   ESCOLARIDADE_PAI  ESCOLARIDADE_MAE  RENDA_CLASSE  RENDA_ARBITRARIA  \n0  Não completou ES  Não completou ES             C         Até 3.992  \n1  Não completou ES  Não completou ES             E         Até 1.497  \n2          Não sabe          Não sabe             E         Até 1.497  \n3  Não completou ES      Completou EF             C         Até 3.992  \n4  Não completou EF  Não completou EF             D         Até 1.497  \n\n[5 rows x 80 columns]",
      "text/html": "<div>\n<style scoped>\n    .dataframe tbody tr th:only-of-type {\n        vertical-align: middle;\n    }\n\n    .dataframe tbody tr th {\n        vertical-align: top;\n    }\n\n    .dataframe thead th {\n        text-align: right;\n    }\n</style>\n<table border=\"1\" class=\"dataframe\">\n  <thead>\n    <tr style=\"text-align: right;\">\n      <th></th>\n      <th>NU_INSCRICAO</th>\n      <th>NU_IDADE</th>\n      <th>TP_SEXO</th>\n      <th>TP_ESTADO_CIVIL</th>\n      <th>TP_COR_RACA</th>\n      <th>TP_NACIONALIDADE</th>\n      <th>TP_ST_CONCLUSAO</th>\n      <th>TP_ANO_CONCLUIU</th>\n      <th>TP_ESCOLA</th>\n      <th>TP_ENSINO</th>\n      <th>...</th>\n      <th>Q022</th>\n      <th>Q023</th>\n      <th>Q024</th>\n      <th>Q025</th>\n      <th>ATENDIMENTOS_ESPECIALIZADOS</th>\n      <th>QTD_RECURSOS</th>\n      <th>ESCOLARIDADE_PAI</th>\n      <th>ESCOLARIDADE_MAE</th>\n      <th>RENDA_CLASSE</th>\n      <th>RENDA_ARBITRARIA</th>\n    </tr>\n  </thead>\n  <tbody>\n    <tr>\n      <th>0</th>\n      <td>190001237802</td>\n      <td>22.0</td>\n      <td>F</td>\n      <td>Solteiro</td>\n      <td>Branca</td>\n      <td>Brasileira</td>\n      <td>1</td>\n      <td>4</td>\n      <td>?</td>\n      <td>1.0</td>\n      <td>...</td>\n      <td>C</td>\n      <td>B</td>\n      <td>B</td>\n      <td>B</td>\n      <td>Nao</td>\n      <td>0</td>\n      <td>Não completou ES</td>\n      <td>Não completou ES</td>\n      <td>C</td>\n      <td>Até 3.992</td>\n    </tr>\n    <tr>\n      <th>1</th>\n      <td>190001237803</td>\n      <td>30.0</td>\n      <td>F</td>\n      <td>Solteiro</td>\n      <td>Preta</td>\n      <td>Brasileira</td>\n      <td>2</td>\n      <td>0</td>\n      <td>Publica</td>\n      <td>2.0</td>\n      <td>...</td>\n      <td>B</td>\n      <td>A</td>\n      <td>A</td>\n      <td>A</td>\n      <td>Nao</td>\n      <td>0</td>\n      <td>Não completou ES</td>\n      <td>Não completou ES</td>\n      <td>E</td>\n      <td>Até 1.497</td>\n    </tr>\n    <tr>\n      <th>2</th>\n      <td>190001237804</td>\n      <td>27.0</td>\n      <td>M</td>\n      <td>Solteiro</td>\n      <td>Parda</td>\n      <td>Naturalizado</td>\n      <td>1</td>\n      <td>2</td>\n      <td>?</td>\n      <td>NaN</td>\n      <td>...</td>\n      <td>C</td>\n      <td>A</td>\n      <td>A</td>\n      <td>A</td>\n      <td>Nao</td>\n      <td>0</td>\n      <td>Não sabe</td>\n      <td>Não sabe</td>\n      <td>E</td>\n      <td>Até 1.497</td>\n    </tr>\n    <tr>\n      <th>3</th>\n      <td>190001237805</td>\n      <td>22.0</td>\n      <td>F</td>\n      <td>Solteiro</td>\n      <td>Branca</td>\n      <td>Brasileira</td>\n      <td>1</td>\n      <td>5</td>\n      <td>?</td>\n      <td>1.0</td>\n      <td>...</td>\n      <td>E</td>\n      <td>A</td>\n      <td>B</td>\n      <td>B</td>\n      <td>Nao</td>\n      <td>0</td>\n      <td>Não completou ES</td>\n      <td>Completou EF</td>\n      <td>C</td>\n      <td>Até 3.992</td>\n    </tr>\n    <tr>\n      <th>4</th>\n      <td>190001237806</td>\n      <td>23.0</td>\n      <td>F</td>\n      <td>Solteiro</td>\n      <td>Amarela</td>\n      <td>Brasileira</td>\n      <td>1</td>\n      <td>5</td>\n      <td>?</td>\n      <td>1.0</td>\n      <td>...</td>\n      <td>C</td>\n      <td>A</td>\n      <td>B</td>\n      <td>B</td>\n      <td>Nao</td>\n      <td>0</td>\n      <td>Não completou EF</td>\n      <td>Não completou EF</td>\n      <td>D</td>\n      <td>Até 1.497</td>\n    </tr>\n  </tbody>\n</table>\n<p>5 rows × 80 columns</p>\n</div>"
     },
     "execution_count": 34,
     "metadata": {},
     "output_type": "execute_result"
    }
   ],
   "source": [
    "# Ajustar o questionario de renda\n",
    "# Utilizaremos 7 faixas de renda adaptando pelos valores do questionario\n",
    "\n",
    "df_enem['RENDA_ARBITRARIA'] = df_enem['Q006'].map({'A':'Nenhuma renda', 'B':'Até 1.497', 'C':'Até 1.497', 'D':'Até 3.992', 'E':'Até 3.992', 'F':'Até 3.992', 'G':'Até 3.992', 'H':'Até 5.988','I':'Até 5.988', 'J':'Até 7.984','K':'Até 7.984', 'L':'Até 11.976','M':'Até 11.976','N':'Até 11.976', 'O':'Mais de 11.976','P':'Mais de 11.976','Q':'Mais de 11.976'})\n",
    "df_enem.head()"
   ],
   "metadata": {
    "collapsed": false,
    "ExecuteTime": {
     "end_time": "2023-08-16T00:18:07.259841323Z",
     "start_time": "2023-08-16T00:18:07.021270121Z"
    }
   },
   "id": "e57788ddbb8097f8"
  },
  {
   "cell_type": "code",
   "execution_count": 35,
   "outputs": [
    {
     "data": {
      "text/plain": "143772"
     },
     "execution_count": 35,
     "metadata": {},
     "output_type": "execute_result"
    }
   ],
   "source": [
    "#Criar uma coluna contendo a media ponderada do resultado do exame\n",
    "#Antes disso devemos verificar a situacao das colunas que compoe o calculo da media ponderada\n",
    "#Verificar a quantidade de valores ausentes na prova de ciencias da natureza\n",
    "df_enem['NU_NOTA_CN'].isna().sum()"
   ],
   "metadata": {
    "collapsed": false,
    "ExecuteTime": {
     "end_time": "2023-08-16T00:18:22.849946707Z",
     "start_time": "2023-08-16T00:18:22.747047854Z"
    }
   },
   "id": "e86f2757a5fbc334"
  },
  {
   "cell_type": "code",
   "execution_count": 36,
   "outputs": [
    {
     "data": {
      "text/plain": "1    390855\n0    143569\n2       203\nName: TP_PRESENCA_CN, dtype: int64"
     },
     "execution_count": 36,
     "metadata": {},
     "output_type": "execute_result"
    }
   ],
   "source": [
    "# Sao 143772 registros sem valor\n",
    "# Verificar quantas pessoas nao realizaram a prova\n",
    "df_enem['TP_PRESENCA_CN'].value_counts()"
   ],
   "metadata": {
    "collapsed": false,
    "ExecuteTime": {
     "end_time": "2023-08-16T00:18:23.870569300Z",
     "start_time": "2023-08-16T00:18:23.791656933Z"
    }
   },
   "id": "1301681c7de5757a"
  },
  {
   "cell_type": "code",
   "execution_count": 37,
   "outputs": [
    {
     "name": "stdout",
     "output_type": "stream",
     "text": [
      "Valores: [nan] \n",
      "Quantidade: 143772\n"
     ]
    }
   ],
   "source": [
    "# Tivemos 143569 pessoas que faltaram  e 203 que foram eliminados, total = 143772\n",
    "#Iremos inserir o valor zero caso os registros sem valor sejam iguais aos que nao realizaram ou foram eliminados da prova\n",
    "ciencias_natureza = df_enem[df_enem['TP_PRESENCA_CN']!=1]['NU_NOTA_CN']\n",
    "print(\"Valores:\",ciencias_natureza.unique(),\"\\nQuantidade:\",len(ciencias_natureza))"
   ],
   "metadata": {
    "collapsed": false,
    "ExecuteTime": {
     "end_time": "2023-08-16T00:18:27.181255683Z",
     "start_time": "2023-08-16T00:18:26.472934841Z"
    }
   },
   "id": "f4303344a490eee"
  },
  {
   "cell_type": "code",
   "execution_count": 38,
   "outputs": [],
   "source": [
    "#todos registros NaN sao respectivos a pessoas que nao realizaram ou foram eliminados da prova de ciencias da natureza, inserindo o valor 0 para esses casos\n",
    "df_enem['NU_NOTA_CN'] = np.where(df_enem['TP_PRESENCA_CN']!=1,0,df_enem['NU_NOTA_CN'])"
   ],
   "metadata": {
    "collapsed": false,
    "ExecuteTime": {
     "end_time": "2023-08-16T00:18:27.659370248Z",
     "start_time": "2023-08-16T00:18:27.603044355Z"
    }
   },
   "id": "d1a29e83134de4f"
  },
  {
   "cell_type": "code",
   "execution_count": 39,
   "outputs": [],
   "source": [
    "#realizar o mesmo processo utilizando a variavel NU_NOTA_CH em relacao a variavel TP_PRESENCA_CH"
   ],
   "metadata": {
    "collapsed": false,
    "ExecuteTime": {
     "end_time": "2023-08-16T00:18:28.455779002Z",
     "start_time": "2023-08-16T00:18:28.387209329Z"
    }
   },
   "id": "9c147816596ee8d2"
  },
  {
   "cell_type": "code",
   "execution_count": 40,
   "outputs": [
    {
     "data": {
      "text/plain": "123452"
     },
     "execution_count": 40,
     "metadata": {},
     "output_type": "execute_result"
    }
   ],
   "source": [
    "df_enem['NU_NOTA_CH'].isna().sum()"
   ],
   "metadata": {
    "collapsed": false,
    "ExecuteTime": {
     "end_time": "2023-08-16T00:18:29.038534093Z",
     "start_time": "2023-08-16T00:18:28.948744628Z"
    }
   },
   "id": "906ec946683bbc14"
  },
  {
   "cell_type": "code",
   "execution_count": 41,
   "outputs": [
    {
     "data": {
      "text/plain": "1    411175\n0    122985\n2       467\nName: TP_PRESENCA_CH, dtype: int64"
     },
     "execution_count": 41,
     "metadata": {},
     "output_type": "execute_result"
    }
   ],
   "source": [
    "df_enem['TP_PRESENCA_CH'].value_counts()"
   ],
   "metadata": {
    "collapsed": false,
    "ExecuteTime": {
     "end_time": "2023-08-16T00:18:29.733668955Z",
     "start_time": "2023-08-16T00:18:29.625376693Z"
    }
   },
   "id": "6207575dcb42b17"
  },
  {
   "cell_type": "code",
   "execution_count": 42,
   "outputs": [
    {
     "name": "stdout",
     "output_type": "stream",
     "text": [
      "Valores: [nan] \n",
      "Quantidade: 123452\n"
     ]
    }
   ],
   "source": [
    "ciencias_humanas = df_enem[df_enem['TP_PRESENCA_CH']!=1]['NU_NOTA_CH']\n",
    "print(\"Valores:\",ciencias_humanas.unique(),\"\\nQuantidade:\",len(ciencias_humanas))"
   ],
   "metadata": {
    "collapsed": false,
    "ExecuteTime": {
     "end_time": "2023-08-16T00:18:30.864784698Z",
     "start_time": "2023-08-16T00:18:30.622951247Z"
    }
   },
   "id": "93ce6c0e6cd42cf4"
  },
  {
   "cell_type": "code",
   "execution_count": 43,
   "outputs": [],
   "source": [
    "df_enem['NU_NOTA_CH'] = np.where(df_enem['TP_PRESENCA_CH']!=1,0,df_enem['NU_NOTA_CH'])"
   ],
   "metadata": {
    "collapsed": false,
    "ExecuteTime": {
     "end_time": "2023-08-16T00:18:31.914273745Z",
     "start_time": "2023-08-16T00:18:31.787632896Z"
    }
   },
   "id": "dd4ddf56d683996e"
  },
  {
   "cell_type": "code",
   "execution_count": 44,
   "outputs": [],
   "source": [
    "#realizar o mesmo processo utilizando a variavel NU_NOTA_MT em relacao a variavel TP_PRESENCA_MT"
   ],
   "metadata": {
    "collapsed": false,
    "ExecuteTime": {
     "end_time": "2023-08-16T00:18:32.504967665Z",
     "start_time": "2023-08-16T00:18:32.443107511Z"
    }
   },
   "id": "63a075466832101b"
  },
  {
   "cell_type": "code",
   "execution_count": 45,
   "outputs": [
    {
     "data": {
      "text/plain": "143772"
     },
     "execution_count": 45,
     "metadata": {},
     "output_type": "execute_result"
    }
   ],
   "source": [
    "df_enem['NU_NOTA_MT'].isna().sum()"
   ],
   "metadata": {
    "collapsed": false,
    "ExecuteTime": {
     "end_time": "2023-08-16T00:18:33.105800515Z",
     "start_time": "2023-08-16T00:18:32.958786461Z"
    }
   },
   "id": "3f87d0d589ee5ed1"
  },
  {
   "cell_type": "code",
   "execution_count": 46,
   "outputs": [
    {
     "data": {
      "text/plain": "1    390855\n0    143569\n2       203\nName: TP_PRESENCA_MT, dtype: int64"
     },
     "execution_count": 46,
     "metadata": {},
     "output_type": "execute_result"
    }
   ],
   "source": [
    "df_enem['TP_PRESENCA_MT'].value_counts()"
   ],
   "metadata": {
    "collapsed": false,
    "ExecuteTime": {
     "end_time": "2023-08-16T00:18:33.973049488Z",
     "start_time": "2023-08-16T00:18:33.874119528Z"
    }
   },
   "id": "8cbcb1d5b62861a0"
  },
  {
   "cell_type": "code",
   "execution_count": 47,
   "outputs": [
    {
     "name": "stdout",
     "output_type": "stream",
     "text": [
      "Valores: [nan] \n",
      "Quantidade: 143772\n"
     ]
    }
   ],
   "source": [
    "matematica = df_enem[df_enem['TP_PRESENCA_MT']!=1]['NU_NOTA_MT']\n",
    "print(\"Valores:\",matematica.unique(),\"\\nQuantidade:\",len(matematica))"
   ],
   "metadata": {
    "collapsed": false,
    "ExecuteTime": {
     "end_time": "2023-08-16T00:18:35.021527673Z",
     "start_time": "2023-08-16T00:18:34.792703877Z"
    }
   },
   "id": "2c90187cbf459679"
  },
  {
   "cell_type": "code",
   "execution_count": 48,
   "outputs": [],
   "source": [
    "df_enem['NU_NOTA_MT'] = np.where(df_enem['TP_PRESENCA_MT']!=1,0,df_enem['NU_NOTA_MT'])"
   ],
   "metadata": {
    "collapsed": false,
    "ExecuteTime": {
     "end_time": "2023-08-16T00:18:35.675217830Z",
     "start_time": "2023-08-16T00:18:35.584296320Z"
    }
   },
   "id": "32fff25987e053b1"
  },
  {
   "cell_type": "code",
   "execution_count": 49,
   "outputs": [],
   "source": [
    "#realizar o mesmo processo utilizando a variavel NU_NOTA_LC em relacao a variavel TP_PRESENCA_LC"
   ],
   "metadata": {
    "collapsed": false,
    "ExecuteTime": {
     "end_time": "2023-08-16T00:18:36.479631913Z",
     "start_time": "2023-08-16T00:18:36.410517125Z"
    }
   },
   "id": "f1ab88f9892c21a8"
  },
  {
   "cell_type": "code",
   "execution_count": 50,
   "outputs": [
    {
     "data": {
      "text/plain": "123452"
     },
     "execution_count": 50,
     "metadata": {},
     "output_type": "execute_result"
    }
   ],
   "source": [
    "df_enem['NU_NOTA_LC'].isna().sum()"
   ],
   "metadata": {
    "collapsed": false,
    "ExecuteTime": {
     "end_time": "2023-08-16T00:18:37.102365110Z",
     "start_time": "2023-08-16T00:18:37.052542222Z"
    }
   },
   "id": "c0909e306ba97cd3"
  },
  {
   "cell_type": "code",
   "execution_count": 51,
   "outputs": [
    {
     "data": {
      "text/plain": "1    411175\n0    122985\n2       467\nName: TP_PRESENCA_LC, dtype: int64"
     },
     "execution_count": 51,
     "metadata": {},
     "output_type": "execute_result"
    }
   ],
   "source": [
    "df_enem['TP_PRESENCA_LC'].value_counts()"
   ],
   "metadata": {
    "collapsed": false,
    "ExecuteTime": {
     "end_time": "2023-08-16T00:18:37.977213834Z",
     "start_time": "2023-08-16T00:18:37.872512838Z"
    }
   },
   "id": "8f30024326fdda91"
  },
  {
   "cell_type": "code",
   "execution_count": 52,
   "outputs": [
    {
     "name": "stdout",
     "output_type": "stream",
     "text": [
      "Valores: [nan] \n",
      "Quantidade: 123452\n"
     ]
    }
   ],
   "source": [
    "linguagens_codigos = df_enem[df_enem['TP_PRESENCA_LC']!=1]['NU_NOTA_LC']\n",
    "print(\"Valores:\",linguagens_codigos.unique(),\"\\nQuantidade:\",len(linguagens_codigos))"
   ],
   "metadata": {
    "collapsed": false,
    "ExecuteTime": {
     "end_time": "2023-08-16T00:18:40.110511239Z",
     "start_time": "2023-08-16T00:18:39.935858172Z"
    }
   },
   "id": "cb249c6be5e5c02d"
  },
  {
   "cell_type": "code",
   "execution_count": 53,
   "outputs": [],
   "source": [
    "df_enem['NU_NOTA_LC'] = np.where(df_enem['TP_PRESENCA_LC']!=1,0,df_enem['NU_NOTA_LC'])"
   ],
   "metadata": {
    "collapsed": false,
    "ExecuteTime": {
     "end_time": "2023-08-16T00:18:41.105030793Z",
     "start_time": "2023-08-16T00:18:41.014908288Z"
    }
   },
   "id": "d374fd7406da3fd8"
  },
  {
   "cell_type": "code",
   "execution_count": 54,
   "outputs": [
    {
     "data": {
      "text/plain": "123452"
     },
     "execution_count": 54,
     "metadata": {},
     "output_type": "execute_result"
    }
   ],
   "source": [
    "# Realizar a verificacao com a redacao. A redacao possui uma estrutura diferente mas comecaremos com a verificacao de valores ausentes\n",
    "df_enem['NU_NOTA_REDACAO'].isna().sum()"
   ],
   "metadata": {
    "collapsed": false,
    "ExecuteTime": {
     "end_time": "2023-08-16T00:18:41.620726911Z",
     "start_time": "2023-08-16T00:18:41.524360136Z"
    }
   },
   "id": "57ea5e7b450c3949"
  },
  {
   "cell_type": "code",
   "execution_count": 55,
   "outputs": [
    {
     "data": {
      "text/plain": "123452"
     },
     "execution_count": 55,
     "metadata": {},
     "output_type": "execute_result"
    }
   ],
   "source": [
    "#Verificando se ha status de redacao sem valor\n",
    "df_enem['TP_STATUS_REDACAO'].isna().sum()"
   ],
   "metadata": {
    "collapsed": false,
    "ExecuteTime": {
     "end_time": "2023-08-16T00:18:42.518529671Z",
     "start_time": "2023-08-16T00:18:42.442530836Z"
    }
   },
   "id": "c3f0e61ae6f99cb4"
  },
  {
   "cell_type": "code",
   "execution_count": 56,
   "outputs": [],
   "source": [
    "#Temos 123452 registros sem valor da nota e do status da redacao \n",
    "#Selecionar somente os registros sem nota de redacao e realizar a analise da nota das competencias\n",
    "df_na = df_enem[df_enem['TP_STATUS_REDACAO'].isna()]"
   ],
   "metadata": {
    "collapsed": false,
    "ExecuteTime": {
     "end_time": "2023-08-16T00:18:43.456924707Z",
     "start_time": "2023-08-16T00:18:43.310624664Z"
    }
   },
   "id": "e8c2e85941d8d8e1"
  },
  {
   "cell_type": "code",
   "execution_count": 57,
   "outputs": [
    {
     "data": {
      "text/plain": "        NU_NOTA_COMP1  NU_NOTA_COMP2  NU_NOTA_COMP3  NU_NOTA_COMP4  \\\n1                 NaN            NaN            NaN            NaN   \n5                 NaN            NaN            NaN            NaN   \n6                 NaN            NaN            NaN            NaN   \n8                 NaN            NaN            NaN            NaN   \n12                NaN            NaN            NaN            NaN   \n...               ...            ...            ...            ...   \n534615            NaN            NaN            NaN            NaN   \n534616            NaN            NaN            NaN            NaN   \n534617            NaN            NaN            NaN            NaN   \n534623            NaN            NaN            NaN            NaN   \n534625            NaN            NaN            NaN            NaN   \n\n        NU_NOTA_COMP5  \n1                 NaN  \n5                 NaN  \n6                 NaN  \n8                 NaN  \n12                NaN  \n...               ...  \n534615            NaN  \n534616            NaN  \n534617            NaN  \n534623            NaN  \n534625            NaN  \n\n[123452 rows x 5 columns]",
      "text/html": "<div>\n<style scoped>\n    .dataframe tbody tr th:only-of-type {\n        vertical-align: middle;\n    }\n\n    .dataframe tbody tr th {\n        vertical-align: top;\n    }\n\n    .dataframe thead th {\n        text-align: right;\n    }\n</style>\n<table border=\"1\" class=\"dataframe\">\n  <thead>\n    <tr style=\"text-align: right;\">\n      <th></th>\n      <th>NU_NOTA_COMP1</th>\n      <th>NU_NOTA_COMP2</th>\n      <th>NU_NOTA_COMP3</th>\n      <th>NU_NOTA_COMP4</th>\n      <th>NU_NOTA_COMP5</th>\n    </tr>\n  </thead>\n  <tbody>\n    <tr>\n      <th>1</th>\n      <td>NaN</td>\n      <td>NaN</td>\n      <td>NaN</td>\n      <td>NaN</td>\n      <td>NaN</td>\n    </tr>\n    <tr>\n      <th>5</th>\n      <td>NaN</td>\n      <td>NaN</td>\n      <td>NaN</td>\n      <td>NaN</td>\n      <td>NaN</td>\n    </tr>\n    <tr>\n      <th>6</th>\n      <td>NaN</td>\n      <td>NaN</td>\n      <td>NaN</td>\n      <td>NaN</td>\n      <td>NaN</td>\n    </tr>\n    <tr>\n      <th>8</th>\n      <td>NaN</td>\n      <td>NaN</td>\n      <td>NaN</td>\n      <td>NaN</td>\n      <td>NaN</td>\n    </tr>\n    <tr>\n      <th>12</th>\n      <td>NaN</td>\n      <td>NaN</td>\n      <td>NaN</td>\n      <td>NaN</td>\n      <td>NaN</td>\n    </tr>\n    <tr>\n      <th>...</th>\n      <td>...</td>\n      <td>...</td>\n      <td>...</td>\n      <td>...</td>\n      <td>...</td>\n    </tr>\n    <tr>\n      <th>534615</th>\n      <td>NaN</td>\n      <td>NaN</td>\n      <td>NaN</td>\n      <td>NaN</td>\n      <td>NaN</td>\n    </tr>\n    <tr>\n      <th>534616</th>\n      <td>NaN</td>\n      <td>NaN</td>\n      <td>NaN</td>\n      <td>NaN</td>\n      <td>NaN</td>\n    </tr>\n    <tr>\n      <th>534617</th>\n      <td>NaN</td>\n      <td>NaN</td>\n      <td>NaN</td>\n      <td>NaN</td>\n      <td>NaN</td>\n    </tr>\n    <tr>\n      <th>534623</th>\n      <td>NaN</td>\n      <td>NaN</td>\n      <td>NaN</td>\n      <td>NaN</td>\n      <td>NaN</td>\n    </tr>\n    <tr>\n      <th>534625</th>\n      <td>NaN</td>\n      <td>NaN</td>\n      <td>NaN</td>\n      <td>NaN</td>\n      <td>NaN</td>\n    </tr>\n  </tbody>\n</table>\n<p>123452 rows × 5 columns</p>\n</div>"
     },
     "execution_count": 57,
     "metadata": {},
     "output_type": "execute_result"
    }
   ],
   "source": [
    "#Verificar se as colunas de notas da redacao possuem valor\n",
    "df_na[['NU_NOTA_COMP1','NU_NOTA_COMP2','NU_NOTA_COMP3',\n",
    "'NU_NOTA_COMP4','NU_NOTA_COMP5']]"
   ],
   "metadata": {
    "collapsed": false,
    "ExecuteTime": {
     "end_time": "2023-08-16T00:18:44.638063800Z",
     "start_time": "2023-08-16T00:18:44.485998068Z"
    }
   },
   "id": "324cd329c770254a"
  },
  {
   "cell_type": "code",
   "execution_count": 58,
   "outputs": [
    {
     "name": "stdout",
     "output_type": "stream",
     "text": [
      "Total sem valor criterio 1: 123452 \n",
      "Total sem valor criterio 2: 123452 \n",
      "Total sem valor criterio 3: 123452 \n",
      "Total sem valor criterio 4: 123452 \n",
      "Total sem valor criterio 5: 123452\n"
     ]
    }
   ],
   "source": [
    "print(\"Total sem valor criterio 1:\",df_na['NU_NOTA_COMP1'].isna().sum(),\n",
    "      \"\\nTotal sem valor criterio 2:\",df_na['NU_NOTA_COMP2'].isna().sum(),\n",
    "      \"\\nTotal sem valor criterio 3:\",df_na['NU_NOTA_COMP3'].isna().sum(),\n",
    "      \"\\nTotal sem valor criterio 4:\",df_na['NU_NOTA_COMP4'].isna().sum(),\n",
    "      \"\\nTotal sem valor criterio 5:\",df_na['NU_NOTA_COMP5'].isna().sum())"
   ],
   "metadata": {
    "collapsed": false,
    "ExecuteTime": {
     "end_time": "2023-08-16T00:18:46.628620787Z",
     "start_time": "2023-08-16T00:18:46.583394001Z"
    }
   },
   "id": "5becaa4caad39d7"
  },
  {
   "cell_type": "code",
   "execution_count": 59,
   "outputs": [
    {
     "data": {
      "text/plain": "(411175, 80)"
     },
     "execution_count": 59,
     "metadata": {},
     "output_type": "execute_result"
    }
   ],
   "source": [
    "# Removeremos as linhas sem valor de redacao\n",
    "df_enem.drop(df_enem[df_enem['TP_STATUS_REDACAO'].isna()].index, inplace=True)\n",
    "df_enem.shape"
   ],
   "metadata": {
    "collapsed": false,
    "ExecuteTime": {
     "end_time": "2023-08-16T00:18:48.845549377Z",
     "start_time": "2023-08-16T00:18:48.361860854Z"
    }
   },
   "id": "e9c93a61d23c995a"
  },
  {
   "cell_type": "code",
   "execution_count": 60,
   "outputs": [],
   "source": [
    "#Criar uma coluna contendo a media ponderada do resultado do exame\n",
    "df_enem[\"RESULTADO\"] = (df_enem['NU_NOTA_CN']*3+df_enem['NU_NOTA_CH']+df_enem['NU_NOTA_MT']*3+df_enem['NU_NOTA_REDACAO']*3+df_enem['NU_NOTA_LC']*2)/12"
   ],
   "metadata": {
    "collapsed": false,
    "ExecuteTime": {
     "end_time": "2023-08-16T00:18:50.105363086Z",
     "start_time": "2023-08-16T00:18:49.978526359Z"
    }
   },
   "id": "9fdffe8d322bfdbb"
  },
  {
   "cell_type": "code",
   "execution_count": 61,
   "outputs": [
    {
     "data": {
      "text/plain": "0"
     },
     "execution_count": 61,
     "metadata": {},
     "output_type": "execute_result"
    }
   ],
   "source": [
    "#Verificar se ha valores ausentes\n",
    "df_enem[\"RESULTADO\"].isna().sum()"
   ],
   "metadata": {
    "collapsed": false,
    "ExecuteTime": {
     "end_time": "2023-08-16T00:18:51.183262242Z",
     "start_time": "2023-08-16T00:18:51.032896113Z"
    }
   },
   "id": "a34a1a17cce33b95"
  },
  {
   "cell_type": "markdown",
   "source": [
    "### Salvar o dataset"
   ],
   "metadata": {
    "collapsed": false
   },
   "id": "15cae01eafcc7892"
  },
  {
   "cell_type": "code",
   "execution_count": 62,
   "outputs": [],
   "source": [
    "df_enem.to_csv(\"./DADOS/enem_eng.csv\",sep=\";\", index=False)"
   ],
   "metadata": {
    "collapsed": false,
    "ExecuteTime": {
     "end_time": "2023-08-16T00:19:25.818153151Z",
     "start_time": "2023-08-16T00:18:53.558214501Z"
    }
   },
   "id": "e3b0e258130038f2"
  }
 ],
 "metadata": {
  "kernelspec": {
   "display_name": "Python 3",
   "language": "python",
   "name": "python3"
  },
  "language_info": {
   "codemirror_mode": {
    "name": "ipython",
    "version": 2
   },
   "file_extension": ".py",
   "mimetype": "text/x-python",
   "name": "python",
   "nbconvert_exporter": "python",
   "pygments_lexer": "ipython2",
   "version": "2.7.6"
  }
 },
 "nbformat": 4,
 "nbformat_minor": 5
}
