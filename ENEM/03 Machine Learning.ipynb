{
 "cells": [
  {
   "cell_type": "markdown",
   "source": [
    "# Prevendo dempenho de alunos no ENEM uitlizando modelos de Regressao Linear"
   ],
   "metadata": {
    "collapsed": false
   },
   "id": "5659b386e54cdda3"
  },
  {
   "cell_type": "markdown",
   "source": [
    "### Carregando as bibliotecas necessarias"
   ],
   "metadata": {
    "collapsed": false
   },
   "id": "a7e99f774fa836f2"
  },
  {
   "cell_type": "code",
   "execution_count": 19,
   "outputs": [],
   "source": [
    "import numpy as np\n",
    "import pandas as pd\n",
    "import matplotlib.pyplot as plt\n",
    "import seaborn as sns\n",
    "import sklearn\n",
    "from sklearn.model_selection import train_test_split\n",
    "from sklearn.preprocessing import StandardScaler,MinMaxScaler\n",
    "from sklearn.linear_model import LinearRegression\n",
    "from sklearn.metrics import mean_absolute_error, mean_squared_error, r2_score\n",
    "from sklearn.ensemble import RandomForestRegressor"
   ],
   "metadata": {
    "collapsed": false,
    "ExecuteTime": {
     "end_time": "2023-08-16T15:42:32.884391046Z",
     "start_time": "2023-08-16T15:42:32.825607842Z"
    }
   },
   "id": "574eaedab6bd801c"
  },
  {
   "cell_type": "markdown",
   "source": [
    "### Carregando os dados"
   ],
   "metadata": {
    "collapsed": false
   },
   "id": "35a72ab6f399681d"
  },
  {
   "cell_type": "code",
   "execution_count": 2,
   "outputs": [],
   "source": [
    "df_enem = pd.read_csv(\"./DADOS/enem_eng.csv\", sep=\";\")"
   ],
   "metadata": {
    "collapsed": false,
    "ExecuteTime": {
     "end_time": "2023-08-16T14:55:10.066562926Z",
     "start_time": "2023-08-16T14:54:59.673794204Z"
    }
   },
   "id": "795c122d9c7b7cd2"
  },
  {
   "cell_type": "code",
   "execution_count": 3,
   "outputs": [
    {
     "data": {
      "text/plain": "(411175, 81)"
     },
     "execution_count": 3,
     "metadata": {},
     "output_type": "execute_result"
    }
   ],
   "source": [
    "df_enem.shape"
   ],
   "metadata": {
    "collapsed": false,
    "ExecuteTime": {
     "end_time": "2023-08-16T14:55:10.114455556Z",
     "start_time": "2023-08-16T14:55:10.067326374Z"
    }
   },
   "id": "6cdc3931835316c7"
  },
  {
   "cell_type": "code",
   "execution_count": 4,
   "outputs": [
    {
     "data": {
      "text/plain": "   NU_INSCRICAO  NU_IDADE TP_SEXO TP_ESTADO_CIVIL TP_COR_RACA  \\\n0  190001237802      22.0       F        Solteiro      Branca   \n1  190001237804      27.0       M        Solteiro       Parda   \n2  190001237805      22.0       F        Solteiro      Branca   \n3  190001237806      23.0       F        Solteiro     Amarela   \n4  190001237809      20.0       M        Solteiro       Parda   \n\n  TP_NACIONALIDADE  TP_ST_CONCLUSAO  TP_ANO_CONCLUIU TP_ESCOLA  TP_ENSINO  \\\n0       Brasileira                1                4         ?        1.0   \n1     Naturalizado                1                2         ?        NaN   \n2       Brasileira                1                5         ?        1.0   \n3       Brasileira                1                5         ?        1.0   \n4       Brasileira                1                2         ?        1.0   \n\n   ...  Q023  Q024  Q025  ATENDIMENTOS_ESPECIALIZADOS  QTD_RECURSOS  \\\n0  ...     B     B     B                          Nao             0   \n1  ...     A     A     A                          Nao             0   \n2  ...     A     B     B                          Nao             0   \n3  ...     A     B     B                          Nao             0   \n4  ...     A     B     B                          Nao             0   \n\n   ESCOLARIDADE_PAI  ESCOLARIDADE_MAE  RENDA_CLASSE  RENDA_ARBITRARIA  \\\n0  Não completou ES  Não completou ES             C         Até 3.992   \n1          Não sabe          Não sabe             E         Até 1.497   \n2  Não completou ES      Completou EF             C         Até 3.992   \n3  Não completou EF  Não completou EF             D         Até 1.497   \n4     Nunca estudou  Não completou ES             D         Até 1.497   \n\n    RESULTADO  \n0  655.725000  \n1  469.041667  \n2  596.625000  \n3  519.483333  \n4  681.975000  \n\n[5 rows x 81 columns]",
      "text/html": "<div>\n<style scoped>\n    .dataframe tbody tr th:only-of-type {\n        vertical-align: middle;\n    }\n\n    .dataframe tbody tr th {\n        vertical-align: top;\n    }\n\n    .dataframe thead th {\n        text-align: right;\n    }\n</style>\n<table border=\"1\" class=\"dataframe\">\n  <thead>\n    <tr style=\"text-align: right;\">\n      <th></th>\n      <th>NU_INSCRICAO</th>\n      <th>NU_IDADE</th>\n      <th>TP_SEXO</th>\n      <th>TP_ESTADO_CIVIL</th>\n      <th>TP_COR_RACA</th>\n      <th>TP_NACIONALIDADE</th>\n      <th>TP_ST_CONCLUSAO</th>\n      <th>TP_ANO_CONCLUIU</th>\n      <th>TP_ESCOLA</th>\n      <th>TP_ENSINO</th>\n      <th>...</th>\n      <th>Q023</th>\n      <th>Q024</th>\n      <th>Q025</th>\n      <th>ATENDIMENTOS_ESPECIALIZADOS</th>\n      <th>QTD_RECURSOS</th>\n      <th>ESCOLARIDADE_PAI</th>\n      <th>ESCOLARIDADE_MAE</th>\n      <th>RENDA_CLASSE</th>\n      <th>RENDA_ARBITRARIA</th>\n      <th>RESULTADO</th>\n    </tr>\n  </thead>\n  <tbody>\n    <tr>\n      <th>0</th>\n      <td>190001237802</td>\n      <td>22.0</td>\n      <td>F</td>\n      <td>Solteiro</td>\n      <td>Branca</td>\n      <td>Brasileira</td>\n      <td>1</td>\n      <td>4</td>\n      <td>?</td>\n      <td>1.0</td>\n      <td>...</td>\n      <td>B</td>\n      <td>B</td>\n      <td>B</td>\n      <td>Nao</td>\n      <td>0</td>\n      <td>Não completou ES</td>\n      <td>Não completou ES</td>\n      <td>C</td>\n      <td>Até 3.992</td>\n      <td>655.725000</td>\n    </tr>\n    <tr>\n      <th>1</th>\n      <td>190001237804</td>\n      <td>27.0</td>\n      <td>M</td>\n      <td>Solteiro</td>\n      <td>Parda</td>\n      <td>Naturalizado</td>\n      <td>1</td>\n      <td>2</td>\n      <td>?</td>\n      <td>NaN</td>\n      <td>...</td>\n      <td>A</td>\n      <td>A</td>\n      <td>A</td>\n      <td>Nao</td>\n      <td>0</td>\n      <td>Não sabe</td>\n      <td>Não sabe</td>\n      <td>E</td>\n      <td>Até 1.497</td>\n      <td>469.041667</td>\n    </tr>\n    <tr>\n      <th>2</th>\n      <td>190001237805</td>\n      <td>22.0</td>\n      <td>F</td>\n      <td>Solteiro</td>\n      <td>Branca</td>\n      <td>Brasileira</td>\n      <td>1</td>\n      <td>5</td>\n      <td>?</td>\n      <td>1.0</td>\n      <td>...</td>\n      <td>A</td>\n      <td>B</td>\n      <td>B</td>\n      <td>Nao</td>\n      <td>0</td>\n      <td>Não completou ES</td>\n      <td>Completou EF</td>\n      <td>C</td>\n      <td>Até 3.992</td>\n      <td>596.625000</td>\n    </tr>\n    <tr>\n      <th>3</th>\n      <td>190001237806</td>\n      <td>23.0</td>\n      <td>F</td>\n      <td>Solteiro</td>\n      <td>Amarela</td>\n      <td>Brasileira</td>\n      <td>1</td>\n      <td>5</td>\n      <td>?</td>\n      <td>1.0</td>\n      <td>...</td>\n      <td>A</td>\n      <td>B</td>\n      <td>B</td>\n      <td>Nao</td>\n      <td>0</td>\n      <td>Não completou EF</td>\n      <td>Não completou EF</td>\n      <td>D</td>\n      <td>Até 1.497</td>\n      <td>519.483333</td>\n    </tr>\n    <tr>\n      <th>4</th>\n      <td>190001237809</td>\n      <td>20.0</td>\n      <td>M</td>\n      <td>Solteiro</td>\n      <td>Parda</td>\n      <td>Brasileira</td>\n      <td>1</td>\n      <td>2</td>\n      <td>?</td>\n      <td>1.0</td>\n      <td>...</td>\n      <td>A</td>\n      <td>B</td>\n      <td>B</td>\n      <td>Nao</td>\n      <td>0</td>\n      <td>Nunca estudou</td>\n      <td>Não completou ES</td>\n      <td>D</td>\n      <td>Até 1.497</td>\n      <td>681.975000</td>\n    </tr>\n  </tbody>\n</table>\n<p>5 rows × 81 columns</p>\n</div>"
     },
     "execution_count": 4,
     "metadata": {},
     "output_type": "execute_result"
    }
   ],
   "source": [
    "df_enem.head()"
   ],
   "metadata": {
    "collapsed": false,
    "ExecuteTime": {
     "end_time": "2023-08-16T14:55:12.873828608Z",
     "start_time": "2023-08-16T14:55:12.788393922Z"
    }
   },
   "id": "15c74e3bf6fe846c"
  },
  {
   "cell_type": "code",
   "execution_count": 5,
   "outputs": [
    {
     "data": {
      "text/plain": "       NU_INSCRICAO       NU_IDADE  TP_ST_CONCLUSAO  TP_ANO_CONCLUIU  \\\ncount  4.111750e+05  411169.000000    411175.000000    411175.000000   \nmean   1.900035e+11      21.167143         1.623790         2.466638   \nstd    1.486087e+06       6.994727         0.751033         3.772849   \nmin    1.900010e+11      10.000000         1.000000         0.000000   \n25%    1.900022e+11      17.000000         1.000000         0.000000   \n50%    1.900035e+11      19.000000         1.000000         1.000000   \n75%    1.900046e+11      22.000000         2.000000         3.000000   \nmax    1.900061e+11      83.000000         4.000000        13.000000   \n\n           TP_ENSINO   IN_TREINEIRO     CO_ESCOLA  TP_DEPENDENCIA_ADM_ESC  \\\ncount  222307.000000  411175.000000  9.530200e+04            95302.000000   \nmean        1.005447       0.155654  3.114589e+07                2.244528   \nstd         0.073606       0.362527  4.968740e+05                0.768415   \nmin         1.000000       0.000000  1.102298e+07                1.000000   \n25%         1.000000       0.000000  3.103239e+07                2.000000   \n50%         1.000000       0.000000  3.110900e+07                2.000000   \n75%         1.000000       0.000000  3.119080e+07                2.000000   \nmax         2.000000       1.000000  5.300994e+07                4.000000   \n\n       TP_LOCALIZACAO_ESC  TP_SIT_FUNC_ESC  ...  TP_STATUS_REDACAO  \\\ncount        95302.000000     95302.000000  ...      411175.000000   \nmean             1.029737         1.004480  ...           1.104877   \nstd              0.169862         0.111042  ...           0.677591   \nmin              1.000000         1.000000  ...           1.000000   \n25%              1.000000         1.000000  ...           1.000000   \n50%              1.000000         1.000000  ...           1.000000   \n75%              1.000000         1.000000  ...           1.000000   \nmax              2.000000         4.000000  ...           9.000000   \n\n       NU_NOTA_COMP1  NU_NOTA_COMP2  NU_NOTA_COMP3  NU_NOTA_COMP4  \\\ncount  411175.000000  411175.000000  411175.000000  411175.000000   \nmean      124.688758     127.733933     119.337508     126.207868   \nstd        32.364600      43.910908      40.954206      38.796806   \nmin         0.000000       0.000000       0.000000       0.000000   \n25%       120.000000     120.000000     100.000000     100.000000   \n50%       120.000000     120.000000     120.000000     120.000000   \n75%       140.000000     160.000000     140.000000     140.000000   \nmax       200.000000     200.000000     200.000000     200.000000   \n\n       NU_NOTA_COMP5  NU_NOTA_REDACAO           Q005   QTD_RECURSOS  \\\ncount  411175.000000    411175.000000  411175.000000  411175.000000   \nmean       99.245869       597.213936       3.783557       0.012586   \nstd        60.659416       192.931916       1.315436       0.163383   \nmin         0.000000         0.000000       1.000000       0.000000   \n25%        60.000000       500.000000       3.000000       0.000000   \n50%       100.000000       600.000000       4.000000       0.000000   \n75%       140.000000       720.000000       4.000000       0.000000   \nmax       200.000000      1000.000000      20.000000       8.000000   \n\n           RESULTADO  \ncount  411175.000000  \nmean      527.856018  \nstd       115.375276  \nmin         0.000000  \n25%       467.475000  \n50%       529.308333  \n75%       602.391667  \nmax       878.016667  \n\n[8 rows x 38 columns]",
      "text/html": "<div>\n<style scoped>\n    .dataframe tbody tr th:only-of-type {\n        vertical-align: middle;\n    }\n\n    .dataframe tbody tr th {\n        vertical-align: top;\n    }\n\n    .dataframe thead th {\n        text-align: right;\n    }\n</style>\n<table border=\"1\" class=\"dataframe\">\n  <thead>\n    <tr style=\"text-align: right;\">\n      <th></th>\n      <th>NU_INSCRICAO</th>\n      <th>NU_IDADE</th>\n      <th>TP_ST_CONCLUSAO</th>\n      <th>TP_ANO_CONCLUIU</th>\n      <th>TP_ENSINO</th>\n      <th>IN_TREINEIRO</th>\n      <th>CO_ESCOLA</th>\n      <th>TP_DEPENDENCIA_ADM_ESC</th>\n      <th>TP_LOCALIZACAO_ESC</th>\n      <th>TP_SIT_FUNC_ESC</th>\n      <th>...</th>\n      <th>TP_STATUS_REDACAO</th>\n      <th>NU_NOTA_COMP1</th>\n      <th>NU_NOTA_COMP2</th>\n      <th>NU_NOTA_COMP3</th>\n      <th>NU_NOTA_COMP4</th>\n      <th>NU_NOTA_COMP5</th>\n      <th>NU_NOTA_REDACAO</th>\n      <th>Q005</th>\n      <th>QTD_RECURSOS</th>\n      <th>RESULTADO</th>\n    </tr>\n  </thead>\n  <tbody>\n    <tr>\n      <th>count</th>\n      <td>4.111750e+05</td>\n      <td>411169.000000</td>\n      <td>411175.000000</td>\n      <td>411175.000000</td>\n      <td>222307.000000</td>\n      <td>411175.000000</td>\n      <td>9.530200e+04</td>\n      <td>95302.000000</td>\n      <td>95302.000000</td>\n      <td>95302.000000</td>\n      <td>...</td>\n      <td>411175.000000</td>\n      <td>411175.000000</td>\n      <td>411175.000000</td>\n      <td>411175.000000</td>\n      <td>411175.000000</td>\n      <td>411175.000000</td>\n      <td>411175.000000</td>\n      <td>411175.000000</td>\n      <td>411175.000000</td>\n      <td>411175.000000</td>\n    </tr>\n    <tr>\n      <th>mean</th>\n      <td>1.900035e+11</td>\n      <td>21.167143</td>\n      <td>1.623790</td>\n      <td>2.466638</td>\n      <td>1.005447</td>\n      <td>0.155654</td>\n      <td>3.114589e+07</td>\n      <td>2.244528</td>\n      <td>1.029737</td>\n      <td>1.004480</td>\n      <td>...</td>\n      <td>1.104877</td>\n      <td>124.688758</td>\n      <td>127.733933</td>\n      <td>119.337508</td>\n      <td>126.207868</td>\n      <td>99.245869</td>\n      <td>597.213936</td>\n      <td>3.783557</td>\n      <td>0.012586</td>\n      <td>527.856018</td>\n    </tr>\n    <tr>\n      <th>std</th>\n      <td>1.486087e+06</td>\n      <td>6.994727</td>\n      <td>0.751033</td>\n      <td>3.772849</td>\n      <td>0.073606</td>\n      <td>0.362527</td>\n      <td>4.968740e+05</td>\n      <td>0.768415</td>\n      <td>0.169862</td>\n      <td>0.111042</td>\n      <td>...</td>\n      <td>0.677591</td>\n      <td>32.364600</td>\n      <td>43.910908</td>\n      <td>40.954206</td>\n      <td>38.796806</td>\n      <td>60.659416</td>\n      <td>192.931916</td>\n      <td>1.315436</td>\n      <td>0.163383</td>\n      <td>115.375276</td>\n    </tr>\n    <tr>\n      <th>min</th>\n      <td>1.900010e+11</td>\n      <td>10.000000</td>\n      <td>1.000000</td>\n      <td>0.000000</td>\n      <td>1.000000</td>\n      <td>0.000000</td>\n      <td>1.102298e+07</td>\n      <td>1.000000</td>\n      <td>1.000000</td>\n      <td>1.000000</td>\n      <td>...</td>\n      <td>1.000000</td>\n      <td>0.000000</td>\n      <td>0.000000</td>\n      <td>0.000000</td>\n      <td>0.000000</td>\n      <td>0.000000</td>\n      <td>0.000000</td>\n      <td>1.000000</td>\n      <td>0.000000</td>\n      <td>0.000000</td>\n    </tr>\n    <tr>\n      <th>25%</th>\n      <td>1.900022e+11</td>\n      <td>17.000000</td>\n      <td>1.000000</td>\n      <td>0.000000</td>\n      <td>1.000000</td>\n      <td>0.000000</td>\n      <td>3.103239e+07</td>\n      <td>2.000000</td>\n      <td>1.000000</td>\n      <td>1.000000</td>\n      <td>...</td>\n      <td>1.000000</td>\n      <td>120.000000</td>\n      <td>120.000000</td>\n      <td>100.000000</td>\n      <td>100.000000</td>\n      <td>60.000000</td>\n      <td>500.000000</td>\n      <td>3.000000</td>\n      <td>0.000000</td>\n      <td>467.475000</td>\n    </tr>\n    <tr>\n      <th>50%</th>\n      <td>1.900035e+11</td>\n      <td>19.000000</td>\n      <td>1.000000</td>\n      <td>1.000000</td>\n      <td>1.000000</td>\n      <td>0.000000</td>\n      <td>3.110900e+07</td>\n      <td>2.000000</td>\n      <td>1.000000</td>\n      <td>1.000000</td>\n      <td>...</td>\n      <td>1.000000</td>\n      <td>120.000000</td>\n      <td>120.000000</td>\n      <td>120.000000</td>\n      <td>120.000000</td>\n      <td>100.000000</td>\n      <td>600.000000</td>\n      <td>4.000000</td>\n      <td>0.000000</td>\n      <td>529.308333</td>\n    </tr>\n    <tr>\n      <th>75%</th>\n      <td>1.900046e+11</td>\n      <td>22.000000</td>\n      <td>2.000000</td>\n      <td>3.000000</td>\n      <td>1.000000</td>\n      <td>0.000000</td>\n      <td>3.119080e+07</td>\n      <td>2.000000</td>\n      <td>1.000000</td>\n      <td>1.000000</td>\n      <td>...</td>\n      <td>1.000000</td>\n      <td>140.000000</td>\n      <td>160.000000</td>\n      <td>140.000000</td>\n      <td>140.000000</td>\n      <td>140.000000</td>\n      <td>720.000000</td>\n      <td>4.000000</td>\n      <td>0.000000</td>\n      <td>602.391667</td>\n    </tr>\n    <tr>\n      <th>max</th>\n      <td>1.900061e+11</td>\n      <td>83.000000</td>\n      <td>4.000000</td>\n      <td>13.000000</td>\n      <td>2.000000</td>\n      <td>1.000000</td>\n      <td>5.300994e+07</td>\n      <td>4.000000</td>\n      <td>2.000000</td>\n      <td>4.000000</td>\n      <td>...</td>\n      <td>9.000000</td>\n      <td>200.000000</td>\n      <td>200.000000</td>\n      <td>200.000000</td>\n      <td>200.000000</td>\n      <td>200.000000</td>\n      <td>1000.000000</td>\n      <td>20.000000</td>\n      <td>8.000000</td>\n      <td>878.016667</td>\n    </tr>\n  </tbody>\n</table>\n<p>8 rows × 38 columns</p>\n</div>"
     },
     "execution_count": 5,
     "metadata": {},
     "output_type": "execute_result"
    }
   ],
   "source": [
    "df_enem.describe()"
   ],
   "metadata": {
    "collapsed": false,
    "ExecuteTime": {
     "end_time": "2023-08-16T14:55:14.137370805Z",
     "start_time": "2023-08-16T14:55:13.512092752Z"
    }
   },
   "id": "3b7b6409c4d29f0e"
  },
  {
   "cell_type": "markdown",
   "source": [
    "### Escolhendo as variaveis mais importantes"
   ],
   "metadata": {
    "collapsed": false
   },
   "id": "cf3d08e962323ba9"
  },
  {
   "cell_type": "code",
   "execution_count": 6,
   "outputs": [
    {
     "data": {
      "text/plain": "['NU_INSCRICAO',\n 'NU_IDADE',\n 'TP_ST_CONCLUSAO',\n 'TP_ANO_CONCLUIU',\n 'TP_ENSINO',\n 'IN_TREINEIRO',\n 'CO_ESCOLA',\n 'TP_DEPENDENCIA_ADM_ESC',\n 'TP_LOCALIZACAO_ESC',\n 'TP_SIT_FUNC_ESC',\n 'IN_GESTANTE',\n 'IN_LACTANTE',\n 'IN_IDOSO',\n 'IN_ESTUDA_CLASSE_HOSPITALAR',\n 'IN_SEM_RECURSO',\n 'TP_PRESENCA_CN',\n 'TP_PRESENCA_CH',\n 'TP_PRESENCA_LC',\n 'TP_PRESENCA_MT',\n 'CO_PROVA_CN',\n 'CO_PROVA_CH',\n 'CO_PROVA_LC',\n 'CO_PROVA_MT',\n 'NU_NOTA_CN',\n 'NU_NOTA_CH',\n 'NU_NOTA_LC',\n 'NU_NOTA_MT',\n 'TP_LINGUA',\n 'TP_STATUS_REDACAO',\n 'NU_NOTA_COMP1',\n 'NU_NOTA_COMP2',\n 'NU_NOTA_COMP3',\n 'NU_NOTA_COMP4',\n 'NU_NOTA_COMP5',\n 'NU_NOTA_REDACAO',\n 'Q005',\n 'QTD_RECURSOS',\n 'RESULTADO']"
     },
     "execution_count": 6,
     "metadata": {},
     "output_type": "execute_result"
    }
   ],
   "source": [
    "#selecionando o dataframe somente com colunas numericas\n",
    "colunas_numericas = df_enem.select_dtypes(include=['number']).columns.tolist()\n",
    "colunas_numericas"
   ],
   "metadata": {
    "collapsed": false,
    "ExecuteTime": {
     "end_time": "2023-08-16T14:55:15.465881998Z",
     "start_time": "2023-08-16T14:55:15.415475746Z"
    }
   },
   "id": "62aeee285ce23e2d"
  },
  {
   "cell_type": "code",
   "execution_count": 7,
   "outputs": [
    {
     "data": {
      "text/plain": "'NU_INSCRICAO'"
     },
     "execution_count": 7,
     "metadata": {},
     "output_type": "execute_result"
    }
   ],
   "source": [
    "#excluindo o numero de inscricao\n",
    "colunas_numericas.pop(0)"
   ],
   "metadata": {
    "collapsed": false,
    "ExecuteTime": {
     "end_time": "2023-08-16T14:55:16.283467391Z",
     "start_time": "2023-08-16T14:55:16.248099855Z"
    }
   },
   "id": "3b365c0bd0de5376"
  },
  {
   "cell_type": "code",
   "execution_count": 8,
   "outputs": [
    {
     "data": {
      "text/plain": "                          tipos  missing\nNU_IDADE                float64        6\nTP_ENSINO               float64   188868\nCO_ESCOLA               float64   315873\nTP_DEPENDENCIA_ADM_ESC  float64   315873\nTP_LOCALIZACAO_ESC      float64   315873\nTP_SIT_FUNC_ESC         float64   315873\nCO_PROVA_CN             float64    21090\nCO_PROVA_MT             float64    21090",
      "text/html": "<div>\n<style scoped>\n    .dataframe tbody tr th:only-of-type {\n        vertical-align: middle;\n    }\n\n    .dataframe tbody tr th {\n        vertical-align: top;\n    }\n\n    .dataframe thead th {\n        text-align: right;\n    }\n</style>\n<table border=\"1\" class=\"dataframe\">\n  <thead>\n    <tr style=\"text-align: right;\">\n      <th></th>\n      <th>tipos</th>\n      <th>missing</th>\n    </tr>\n  </thead>\n  <tbody>\n    <tr>\n      <th>NU_IDADE</th>\n      <td>float64</td>\n      <td>6</td>\n    </tr>\n    <tr>\n      <th>TP_ENSINO</th>\n      <td>float64</td>\n      <td>188868</td>\n    </tr>\n    <tr>\n      <th>CO_ESCOLA</th>\n      <td>float64</td>\n      <td>315873</td>\n    </tr>\n    <tr>\n      <th>TP_DEPENDENCIA_ADM_ESC</th>\n      <td>float64</td>\n      <td>315873</td>\n    </tr>\n    <tr>\n      <th>TP_LOCALIZACAO_ESC</th>\n      <td>float64</td>\n      <td>315873</td>\n    </tr>\n    <tr>\n      <th>TP_SIT_FUNC_ESC</th>\n      <td>float64</td>\n      <td>315873</td>\n    </tr>\n    <tr>\n      <th>CO_PROVA_CN</th>\n      <td>float64</td>\n      <td>21090</td>\n    </tr>\n    <tr>\n      <th>CO_PROVA_MT</th>\n      <td>float64</td>\n      <td>21090</td>\n    </tr>\n  </tbody>\n</table>\n</div>"
     },
     "execution_count": 8,
     "metadata": {},
     "output_type": "execute_result"
    }
   ],
   "source": [
    "#Verificando as colunas com NaN\n",
    "df_nan = pd.DataFrame({'tipos':df_enem[colunas_numericas].dtypes, 'missing':df_enem[colunas_numericas].isna().sum()})\n",
    "df_nan = df_nan[df_nan['missing']>0]\n",
    "df_nan"
   ],
   "metadata": {
    "collapsed": false,
    "ExecuteTime": {
     "end_time": "2023-08-16T14:55:17.427780913Z",
     "start_time": "2023-08-16T14:55:17.306292109Z"
    }
   },
   "id": "162ec376351cb8bf"
  },
  {
   "cell_type": "code",
   "execution_count": 9,
   "outputs": [
    {
     "data": {
      "text/plain": "['TP_ST_CONCLUSAO',\n 'TP_ANO_CONCLUIU',\n 'IN_TREINEIRO',\n 'IN_GESTANTE',\n 'IN_LACTANTE',\n 'IN_IDOSO',\n 'IN_ESTUDA_CLASSE_HOSPITALAR',\n 'IN_SEM_RECURSO',\n 'TP_PRESENCA_CN',\n 'TP_PRESENCA_CH',\n 'TP_PRESENCA_LC',\n 'TP_PRESENCA_MT',\n 'CO_PROVA_CH',\n 'CO_PROVA_LC',\n 'NU_NOTA_CN',\n 'NU_NOTA_CH',\n 'NU_NOTA_LC',\n 'NU_NOTA_MT',\n 'TP_LINGUA',\n 'TP_STATUS_REDACAO',\n 'NU_NOTA_COMP1',\n 'NU_NOTA_COMP2',\n 'NU_NOTA_COMP3',\n 'NU_NOTA_COMP4',\n 'NU_NOTA_COMP5',\n 'NU_NOTA_REDACAO',\n 'Q005',\n 'QTD_RECURSOS',\n 'RESULTADO']"
     },
     "execution_count": 9,
     "metadata": {},
     "output_type": "execute_result"
    }
   ],
   "source": [
    "#Remover colunas com valores ausentes\n",
    "remover = df_nan.index.tolist()\n",
    "for coluna in remover:\n",
    "    colunas_numericas.remove(coluna)\n",
    "colunas_numericas"
   ],
   "metadata": {
    "collapsed": false,
    "ExecuteTime": {
     "end_time": "2023-08-16T14:55:19.314675636Z",
     "start_time": "2023-08-16T14:55:19.290064968Z"
    }
   },
   "id": "268c313d91a43c48"
  },
  {
   "cell_type": "code",
   "execution_count": 10,
   "outputs": [],
   "source": [
    "#pegar todas as colunas com excessao da media final e chamar de X\n",
    "colunas_numericas.remove('RESULTADO')\n",
    "X = df_enem[colunas_numericas]\n",
    "#pegar a media final e chamar de Y\n",
    "Y = df_enem['RESULTADO']"
   ],
   "metadata": {
    "collapsed": false,
    "ExecuteTime": {
     "end_time": "2023-08-16T14:55:20.869314999Z",
     "start_time": "2023-08-16T14:55:20.790509266Z"
    }
   },
   "id": "dba146cf634c5e10"
  },
  {
   "cell_type": "code",
   "execution_count": 11,
   "outputs": [
    {
     "data": {
      "text/plain": "RandomForestRegressor(random_state=42)",
      "text/html": "<style>#sk-container-id-1 {color: black;background-color: white;}#sk-container-id-1 pre{padding: 0;}#sk-container-id-1 div.sk-toggleable {background-color: white;}#sk-container-id-1 label.sk-toggleable__label {cursor: pointer;display: block;width: 100%;margin-bottom: 0;padding: 0.3em;box-sizing: border-box;text-align: center;}#sk-container-id-1 label.sk-toggleable__label-arrow:before {content: \"▸\";float: left;margin-right: 0.25em;color: #696969;}#sk-container-id-1 label.sk-toggleable__label-arrow:hover:before {color: black;}#sk-container-id-1 div.sk-estimator:hover label.sk-toggleable__label-arrow:before {color: black;}#sk-container-id-1 div.sk-toggleable__content {max-height: 0;max-width: 0;overflow: hidden;text-align: left;background-color: #f0f8ff;}#sk-container-id-1 div.sk-toggleable__content pre {margin: 0.2em;color: black;border-radius: 0.25em;background-color: #f0f8ff;}#sk-container-id-1 input.sk-toggleable__control:checked~div.sk-toggleable__content {max-height: 200px;max-width: 100%;overflow: auto;}#sk-container-id-1 input.sk-toggleable__control:checked~label.sk-toggleable__label-arrow:before {content: \"▾\";}#sk-container-id-1 div.sk-estimator input.sk-toggleable__control:checked~label.sk-toggleable__label {background-color: #d4ebff;}#sk-container-id-1 div.sk-label input.sk-toggleable__control:checked~label.sk-toggleable__label {background-color: #d4ebff;}#sk-container-id-1 input.sk-hidden--visually {border: 0;clip: rect(1px 1px 1px 1px);clip: rect(1px, 1px, 1px, 1px);height: 1px;margin: -1px;overflow: hidden;padding: 0;position: absolute;width: 1px;}#sk-container-id-1 div.sk-estimator {font-family: monospace;background-color: #f0f8ff;border: 1px dotted black;border-radius: 0.25em;box-sizing: border-box;margin-bottom: 0.5em;}#sk-container-id-1 div.sk-estimator:hover {background-color: #d4ebff;}#sk-container-id-1 div.sk-parallel-item::after {content: \"\";width: 100%;border-bottom: 1px solid gray;flex-grow: 1;}#sk-container-id-1 div.sk-label:hover label.sk-toggleable__label {background-color: #d4ebff;}#sk-container-id-1 div.sk-serial::before {content: \"\";position: absolute;border-left: 1px solid gray;box-sizing: border-box;top: 0;bottom: 0;left: 50%;z-index: 0;}#sk-container-id-1 div.sk-serial {display: flex;flex-direction: column;align-items: center;background-color: white;padding-right: 0.2em;padding-left: 0.2em;position: relative;}#sk-container-id-1 div.sk-item {position: relative;z-index: 1;}#sk-container-id-1 div.sk-parallel {display: flex;align-items: stretch;justify-content: center;background-color: white;position: relative;}#sk-container-id-1 div.sk-item::before, #sk-container-id-1 div.sk-parallel-item::before {content: \"\";position: absolute;border-left: 1px solid gray;box-sizing: border-box;top: 0;bottom: 0;left: 50%;z-index: -1;}#sk-container-id-1 div.sk-parallel-item {display: flex;flex-direction: column;z-index: 1;position: relative;background-color: white;}#sk-container-id-1 div.sk-parallel-item:first-child::after {align-self: flex-end;width: 50%;}#sk-container-id-1 div.sk-parallel-item:last-child::after {align-self: flex-start;width: 50%;}#sk-container-id-1 div.sk-parallel-item:only-child::after {width: 0;}#sk-container-id-1 div.sk-dashed-wrapped {border: 1px dashed gray;margin: 0 0.4em 0.5em 0.4em;box-sizing: border-box;padding-bottom: 0.4em;background-color: white;}#sk-container-id-1 div.sk-label label {font-family: monospace;font-weight: bold;display: inline-block;line-height: 1.2em;}#sk-container-id-1 div.sk-label-container {text-align: center;}#sk-container-id-1 div.sk-container {/* jupyter's `normalize.less` sets `[hidden] { display: none; }` but bootstrap.min.css set `[hidden] { display: none !important; }` so we also need the `!important` here to be able to override the default hidden behavior on the sphinx rendered scikit-learn.org. See: https://github.com/scikit-learn/scikit-learn/issues/21755 */display: inline-block !important;position: relative;}#sk-container-id-1 div.sk-text-repr-fallback {display: none;}</style><div id=\"sk-container-id-1\" class=\"sk-top-container\"><div class=\"sk-text-repr-fallback\"><pre>RandomForestRegressor(random_state=42)</pre><b>In a Jupyter environment, please rerun this cell to show the HTML representation or trust the notebook. <br />On GitHub, the HTML representation is unable to render, please try loading this page with nbviewer.org.</b></div><div class=\"sk-container\" hidden><div class=\"sk-item\"><div class=\"sk-estimator sk-toggleable\"><input class=\"sk-toggleable__control sk-hidden--visually\" id=\"sk-estimator-id-1\" type=\"checkbox\" checked><label for=\"sk-estimator-id-1\" class=\"sk-toggleable__label sk-toggleable__label-arrow\">RandomForestRegressor</label><div class=\"sk-toggleable__content\"><pre>RandomForestRegressor(random_state=42)</pre></div></div></div></div></div>"
     },
     "execution_count": 11,
     "metadata": {},
     "output_type": "execute_result"
    }
   ],
   "source": [
    "#Cria o modelo de Random Forest\n",
    "rf_modelo = RandomForestRegressor(n_estimators=100, random_state=42)\n",
    "rf_modelo.fit(X, Y)"
   ],
   "metadata": {
    "collapsed": false,
    "ExecuteTime": {
     "end_time": "2023-08-16T15:03:24.322560082Z",
     "start_time": "2023-08-16T14:55:24.399612286Z"
    }
   },
   "id": "15bb33e363be4dfd"
  },
  {
   "cell_type": "code",
   "execution_count": 12,
   "outputs": [
    {
     "data": {
      "text/plain": "                       Variavel   Importancia\n17                   NU_NOTA_MT  5.586315e-01\n25              NU_NOTA_REDACAO  2.571176e-01\n14                   NU_NOTA_CN  1.721772e-01\n16                   NU_NOTA_LC  9.479876e-03\n15                   NU_NOTA_CH  2.226039e-03\n20                NU_NOTA_COMP1  9.151499e-05\n26                         Q005  3.658863e-05\n1               TP_ANO_CONCLUIU  3.486395e-05\n22                NU_NOTA_COMP3  3.145846e-05\n24                NU_NOTA_COMP5  2.984280e-05\n23                NU_NOTA_COMP4  2.781294e-05\n21                NU_NOTA_COMP2  2.486386e-05\n12                  CO_PROVA_CH  2.213514e-05\n13                  CO_PROVA_LC  2.186663e-05\n0               TP_ST_CONCLUSAO  1.339393e-05\n19            TP_STATUS_REDACAO  1.310445e-05\n18                    TP_LINGUA  1.245191e-05\n2                  IN_TREINEIRO  5.436943e-06\n27                 QTD_RECURSOS  1.145597e-06\n11               TP_PRESENCA_MT  6.433205e-07\n8                TP_PRESENCA_CN  5.461499e-07\n7                IN_SEM_RECURSO  7.803241e-08\n4                   IN_LACTANTE  1.803000e-08\n3                   IN_GESTANTE  4.273007e-09\n5                      IN_IDOSO  1.595526e-09\n10               TP_PRESENCA_LC  0.000000e+00\n9                TP_PRESENCA_CH  0.000000e+00\n6   IN_ESTUDA_CLASSE_HOSPITALAR  0.000000e+00",
      "text/html": "<div>\n<style scoped>\n    .dataframe tbody tr th:only-of-type {\n        vertical-align: middle;\n    }\n\n    .dataframe tbody tr th {\n        vertical-align: top;\n    }\n\n    .dataframe thead th {\n        text-align: right;\n    }\n</style>\n<table border=\"1\" class=\"dataframe\">\n  <thead>\n    <tr style=\"text-align: right;\">\n      <th></th>\n      <th>Variavel</th>\n      <th>Importancia</th>\n    </tr>\n  </thead>\n  <tbody>\n    <tr>\n      <th>17</th>\n      <td>NU_NOTA_MT</td>\n      <td>5.586315e-01</td>\n    </tr>\n    <tr>\n      <th>25</th>\n      <td>NU_NOTA_REDACAO</td>\n      <td>2.571176e-01</td>\n    </tr>\n    <tr>\n      <th>14</th>\n      <td>NU_NOTA_CN</td>\n      <td>1.721772e-01</td>\n    </tr>\n    <tr>\n      <th>16</th>\n      <td>NU_NOTA_LC</td>\n      <td>9.479876e-03</td>\n    </tr>\n    <tr>\n      <th>15</th>\n      <td>NU_NOTA_CH</td>\n      <td>2.226039e-03</td>\n    </tr>\n    <tr>\n      <th>20</th>\n      <td>NU_NOTA_COMP1</td>\n      <td>9.151499e-05</td>\n    </tr>\n    <tr>\n      <th>26</th>\n      <td>Q005</td>\n      <td>3.658863e-05</td>\n    </tr>\n    <tr>\n      <th>1</th>\n      <td>TP_ANO_CONCLUIU</td>\n      <td>3.486395e-05</td>\n    </tr>\n    <tr>\n      <th>22</th>\n      <td>NU_NOTA_COMP3</td>\n      <td>3.145846e-05</td>\n    </tr>\n    <tr>\n      <th>24</th>\n      <td>NU_NOTA_COMP5</td>\n      <td>2.984280e-05</td>\n    </tr>\n    <tr>\n      <th>23</th>\n      <td>NU_NOTA_COMP4</td>\n      <td>2.781294e-05</td>\n    </tr>\n    <tr>\n      <th>21</th>\n      <td>NU_NOTA_COMP2</td>\n      <td>2.486386e-05</td>\n    </tr>\n    <tr>\n      <th>12</th>\n      <td>CO_PROVA_CH</td>\n      <td>2.213514e-05</td>\n    </tr>\n    <tr>\n      <th>13</th>\n      <td>CO_PROVA_LC</td>\n      <td>2.186663e-05</td>\n    </tr>\n    <tr>\n      <th>0</th>\n      <td>TP_ST_CONCLUSAO</td>\n      <td>1.339393e-05</td>\n    </tr>\n    <tr>\n      <th>19</th>\n      <td>TP_STATUS_REDACAO</td>\n      <td>1.310445e-05</td>\n    </tr>\n    <tr>\n      <th>18</th>\n      <td>TP_LINGUA</td>\n      <td>1.245191e-05</td>\n    </tr>\n    <tr>\n      <th>2</th>\n      <td>IN_TREINEIRO</td>\n      <td>5.436943e-06</td>\n    </tr>\n    <tr>\n      <th>27</th>\n      <td>QTD_RECURSOS</td>\n      <td>1.145597e-06</td>\n    </tr>\n    <tr>\n      <th>11</th>\n      <td>TP_PRESENCA_MT</td>\n      <td>6.433205e-07</td>\n    </tr>\n    <tr>\n      <th>8</th>\n      <td>TP_PRESENCA_CN</td>\n      <td>5.461499e-07</td>\n    </tr>\n    <tr>\n      <th>7</th>\n      <td>IN_SEM_RECURSO</td>\n      <td>7.803241e-08</td>\n    </tr>\n    <tr>\n      <th>4</th>\n      <td>IN_LACTANTE</td>\n      <td>1.803000e-08</td>\n    </tr>\n    <tr>\n      <th>3</th>\n      <td>IN_GESTANTE</td>\n      <td>4.273007e-09</td>\n    </tr>\n    <tr>\n      <th>5</th>\n      <td>IN_IDOSO</td>\n      <td>1.595526e-09</td>\n    </tr>\n    <tr>\n      <th>10</th>\n      <td>TP_PRESENCA_LC</td>\n      <td>0.000000e+00</td>\n    </tr>\n    <tr>\n      <th>9</th>\n      <td>TP_PRESENCA_CH</td>\n      <td>0.000000e+00</td>\n    </tr>\n    <tr>\n      <th>6</th>\n      <td>IN_ESTUDA_CLASSE_HOSPITALAR</td>\n      <td>0.000000e+00</td>\n    </tr>\n  </tbody>\n</table>\n</div>"
     },
     "execution_count": 12,
     "metadata": {},
     "output_type": "execute_result"
    }
   ],
   "source": [
    "#Obter as variaveis mais importantes\n",
    "importancias = rf_modelo.feature_importances_\n",
    "# Criar um DataFrame para facilitar a exibição\n",
    "importancias_df = pd.DataFrame({'Variavel': X.columns, 'Importancia': importancias})\n",
    "# Ordenar o DataFrame por importância em ordem decrescente\n",
    "importancias_df = importancias_df.sort_values(by='Importancia', ascending=False)\n",
    "importancias_df"
   ],
   "metadata": {
    "collapsed": false,
    "ExecuteTime": {
     "end_time": "2023-08-16T15:10:08.558193210Z",
     "start_time": "2023-08-16T15:10:07.972456593Z"
    }
   },
   "id": "24517d39f1c13baa"
  },
  {
   "cell_type": "code",
   "execution_count": 13,
   "outputs": [],
   "source": [
    "#Segundo a random forest, as melhores variaveis sao as notas da matematica, redacao e ciencias naturais\n",
    "# utilizaremos variaveis com importancia maior que 0.001"
   ],
   "metadata": {
    "collapsed": false,
    "ExecuteTime": {
     "end_time": "2023-08-16T15:33:25.076338933Z",
     "start_time": "2023-08-16T15:33:24.830820969Z"
    }
   },
   "id": "77057569347c79b1"
  },
  {
   "cell_type": "code",
   "execution_count": 15,
   "outputs": [
    {
     "data": {
      "text/plain": "   NU_NOTA_MT  NU_NOTA_REDACAO  NU_NOTA_CN  NU_NOTA_LC  NU_NOTA_CH\n0       677.0            860.0       513.6       570.7       575.5\n1       397.5            600.0       394.3       479.5       494.1\n2       695.1            540.0       560.0       591.1       592.0\n3       462.4            580.0       504.2       519.7       554.6\n4       729.8            840.0       601.6       557.0       555.5",
      "text/html": "<div>\n<style scoped>\n    .dataframe tbody tr th:only-of-type {\n        vertical-align: middle;\n    }\n\n    .dataframe tbody tr th {\n        vertical-align: top;\n    }\n\n    .dataframe thead th {\n        text-align: right;\n    }\n</style>\n<table border=\"1\" class=\"dataframe\">\n  <thead>\n    <tr style=\"text-align: right;\">\n      <th></th>\n      <th>NU_NOTA_MT</th>\n      <th>NU_NOTA_REDACAO</th>\n      <th>NU_NOTA_CN</th>\n      <th>NU_NOTA_LC</th>\n      <th>NU_NOTA_CH</th>\n    </tr>\n  </thead>\n  <tbody>\n    <tr>\n      <th>0</th>\n      <td>677.0</td>\n      <td>860.0</td>\n      <td>513.6</td>\n      <td>570.7</td>\n      <td>575.5</td>\n    </tr>\n    <tr>\n      <th>1</th>\n      <td>397.5</td>\n      <td>600.0</td>\n      <td>394.3</td>\n      <td>479.5</td>\n      <td>494.1</td>\n    </tr>\n    <tr>\n      <th>2</th>\n      <td>695.1</td>\n      <td>540.0</td>\n      <td>560.0</td>\n      <td>591.1</td>\n      <td>592.0</td>\n    </tr>\n    <tr>\n      <th>3</th>\n      <td>462.4</td>\n      <td>580.0</td>\n      <td>504.2</td>\n      <td>519.7</td>\n      <td>554.6</td>\n    </tr>\n    <tr>\n      <th>4</th>\n      <td>729.8</td>\n      <td>840.0</td>\n      <td>601.6</td>\n      <td>557.0</td>\n      <td>555.5</td>\n    </tr>\n  </tbody>\n</table>\n</div>"
     },
     "execution_count": 15,
     "metadata": {},
     "output_type": "execute_result"
    }
   ],
   "source": [
    "X=X[['NU_NOTA_MT','NU_NOTA_REDACAO','NU_NOTA_CN','NU_NOTA_LC','NU_NOTA_CH']]\n",
    "X.head()"
   ],
   "metadata": {
    "collapsed": false,
    "ExecuteTime": {
     "end_time": "2023-08-16T15:35:20.889645683Z",
     "start_time": "2023-08-16T15:35:20.831839758Z"
    }
   },
   "id": "2e172687619378cf"
  },
  {
   "cell_type": "markdown",
   "source": [
    "### Divisao em variaveis de treino e teste para avaliacao do modelo"
   ],
   "metadata": {
    "collapsed": false
   },
   "id": "a9636254829755a3"
  },
  {
   "cell_type": "code",
   "execution_count": 16,
   "outputs": [],
   "source": [
    "# Divisão em dados de treino e teste aleatoriamente com 80% dos dados para treino e os demais para teste\n",
    "X_treino, X_teste, y_treino, y_teste = train_test_split(X, Y, test_size = 0.2, random_state = 101)"
   ],
   "metadata": {
    "collapsed": false,
    "ExecuteTime": {
     "end_time": "2023-08-16T15:37:09.805273078Z",
     "start_time": "2023-08-16T15:37:09.721343076Z"
    }
   },
   "id": "da60f2ac99966314"
  },
  {
   "cell_type": "code",
   "execution_count": 17,
   "outputs": [
    {
     "name": "stdout",
     "output_type": "stream",
     "text": [
      "Treino: 328940 | teste: 82235\n"
     ]
    }
   ],
   "source": [
    "#Quantidade de registros para trino e teste\n",
    "print(\"Treino:\", len(X_treino), \"| teste:\",len(X_teste))"
   ],
   "metadata": {
    "collapsed": false,
    "ExecuteTime": {
     "end_time": "2023-08-16T15:38:11.081403691Z",
     "start_time": "2023-08-16T15:38:10.998912697Z"
    }
   },
   "id": "ec18585d684bc082"
  },
  {
   "cell_type": "markdown",
   "source": [
    "### Gerar mais 2 conjuntos de dados para treinamento, um padronizado e um com escala de atributos entre 0 e 1"
   ],
   "metadata": {
    "collapsed": false
   },
   "id": "709a1ac69d008fab"
  },
  {
   "cell_type": "code",
   "execution_count": 18,
   "outputs": [],
   "source": [
    "# Padronizacao\n",
    "scaler = StandardScaler()\n",
    "#Criar a padronizacao somente com os dados de treino\n",
    "scaler.fit(X_treino)\n",
    "#Gerar o dataset padronizado de treino e de teste\n",
    "X_treino_padronizado = scaler.transform(X_treino)\n",
    "X_teste_padronizado = scaler.transform(X_teste)"
   ],
   "metadata": {
    "collapsed": false,
    "ExecuteTime": {
     "end_time": "2023-08-16T15:41:25.239348325Z",
     "start_time": "2023-08-16T15:41:25.165678923Z"
    }
   },
   "id": "2fa1b3203702f3ee"
  },
  {
   "cell_type": "code",
   "execution_count": 20,
   "outputs": [],
   "source": [
    "# Usar o min max scaller\n",
    "min_max = MinMaxScaler()\n",
    "#Criar o min max somente com os dados de treino\n",
    "min_max.fit(X_treino)\n",
    "#Gerar o dataset escalado de treino e de teste\n",
    "X_treino_min_max = min_max.transform(X_treino)\n",
    "X_teste_min_max = min_max.transform(X_teste)"
   ],
   "metadata": {
    "collapsed": false,
    "ExecuteTime": {
     "end_time": "2023-08-16T15:44:52.408422119Z",
     "start_time": "2023-08-16T15:44:52.306326341Z"
    }
   },
   "id": "fe58f1d6c0d3ac9c"
  },
  {
   "cell_type": "markdown",
   "source": [
    "### Treinar e avaliar o modelo de Regressao Linear nos 3 datasets"
   ],
   "metadata": {
    "collapsed": false
   },
   "id": "fd6816b772fa425e"
  },
  {
   "cell_type": "markdown",
   "source": [
    "### Dataset sem tranformacao"
   ],
   "metadata": {
    "collapsed": false
   },
   "id": "ccad307c8a97bff4"
  },
  {
   "cell_type": "code",
   "execution_count": 21,
   "outputs": [],
   "source": [
    "# Cria o modelo\n",
    "modelo_v1 = LinearRegression()"
   ],
   "metadata": {
    "collapsed": false,
    "ExecuteTime": {
     "end_time": "2023-08-16T15:46:16.900843404Z",
     "start_time": "2023-08-16T15:46:16.791612271Z"
    }
   },
   "id": "b76349126d6957cb"
  },
  {
   "cell_type": "code",
   "execution_count": 22,
   "outputs": [
    {
     "name": "stdout",
     "output_type": "stream",
     "text": [
      "Coeficientes: \n",
      " [0.25       0.25       0.25       0.16666667 0.08333333]\n",
      "                 Coeficiente\n",
      "NU_NOTA_MT          0.250000\n",
      "NU_NOTA_REDACAO     0.250000\n",
      "NU_NOTA_CN          0.250000\n",
      "NU_NOTA_LC          0.166667\n",
      "NU_NOTA_CH          0.083333\n"
     ]
    }
   ],
   "source": [
    "# Treinamento do dataset original\n",
    "modelo_v1.fit(X_treino, y_treino)\n",
    "print('Coeficientes: \\n', modelo_v1.coef_)\n",
    "# Coeficientes das variáveis preditoras\n",
    "df_coef = pd.DataFrame(modelo_v1.coef_, X.columns, columns = ['Coeficiente'])\n",
    "print(df_coef)"
   ],
   "metadata": {
    "collapsed": false,
    "ExecuteTime": {
     "end_time": "2023-08-16T15:47:23.806772412Z",
     "start_time": "2023-08-16T15:47:23.635011451Z"
    }
   },
   "id": "fb941ba61aa56fc"
  },
  {
   "cell_type": "code",
   "execution_count": 23,
   "outputs": [],
   "source": [
    "# Avaliacao do modelo do primeiro dataset\n",
    "# Previsões com dados de teste\n",
    "pred_v1 = modelo_v1.predict(X_teste)"
   ],
   "metadata": {
    "collapsed": false,
    "ExecuteTime": {
     "end_time": "2023-08-16T15:48:37.385819888Z",
     "start_time": "2023-08-16T15:48:37.238025654Z"
    }
   },
   "id": "b7d1b7753a029097"
  },
  {
   "cell_type": "code",
   "execution_count": 24,
   "outputs": [
    {
     "data": {
      "text/plain": "<Figure size 1000x800 with 1 Axes>",
      "image/png": "[encoded data removed]"
     },
     "metadata": {},
     "output_type": "display_data"
    }
   ],
   "source": [
    "# Plot\n",
    "plt.figure(figsize = (10,8))\n",
    "plt.scatter(x = y_teste, y = pred_v1, color = 'skyblue', edgecolors = 'black')\n",
    "plt.xlabel('Valor Real de Y')\n",
    "plt.ylabel('Valor Previsto de Y');"
   ],
   "metadata": {
    "collapsed": false,
    "ExecuteTime": {
     "end_time": "2023-08-16T15:48:40.201851573Z",
     "start_time": "2023-08-16T15:48:39.490011684Z"
    }
   },
   "id": "2659a53dc9509839"
  },
  {
   "cell_type": "code",
   "execution_count": 25,
   "outputs": [
    {
     "data": {
      "text/plain": "3.412553540317708e-13"
     },
     "execution_count": 25,
     "metadata": {},
     "output_type": "execute_result"
    }
   ],
   "source": [
    "# MAE - Erro Médio Absoluto\n",
    "mean_absolute_error(y_teste, pred_v1)\n",
    "#O MAE prevê que, em média, as previsões do nosso modelo (de valores gastos) estão erradas em aproximadamente 0.0000000000003, o que é um valor muito pequeno."
   ],
   "metadata": {
    "collapsed": false,
    "ExecuteTime": {
     "end_time": "2023-08-16T15:49:12.774226470Z",
     "start_time": "2023-08-16T15:49:12.660518339Z"
    }
   },
   "id": "ee414f5a279a3db1"
  },
  {
   "cell_type": "code",
   "execution_count": 26,
   "outputs": [
    {
     "data": {
      "text/plain": "1.9711887889106893e-25"
     },
     "execution_count": 26,
     "metadata": {},
     "output_type": "execute_result"
    }
   ],
   "source": [
    "# MSE - Erro quadrático médio\n",
    "mean_squared_error(y_teste, pred_v1)"
   ],
   "metadata": {
    "collapsed": false,
    "ExecuteTime": {
     "end_time": "2023-08-16T15:51:19.617320662Z",
     "start_time": "2023-08-16T15:51:19.483539901Z"
    }
   },
   "id": "80a4fa681f59cd46"
  },
  {
   "cell_type": "code",
   "execution_count": 27,
   "outputs": [
    {
     "data": {
      "text/plain": "4.4398071905328155e-13"
     },
     "execution_count": 27,
     "metadata": {},
     "output_type": "execute_result"
    }
   ],
   "source": [
    "# RMSE - Raiz quadrada do erro quadrático médio\n",
    "np.sqrt(mean_squared_error(y_teste, pred_v1))"
   ],
   "metadata": {
    "collapsed": false,
    "ExecuteTime": {
     "end_time": "2023-08-16T15:51:47.700402333Z",
     "start_time": "2023-08-16T15:51:47.580734646Z"
    }
   },
   "id": "62806149acca7e52"
  },
  {
   "cell_type": "code",
   "execution_count": 28,
   "outputs": [
    {
     "data": {
      "text/plain": "1.0"
     },
     "execution_count": 28,
     "metadata": {},
     "output_type": "execute_result"
    }
   ],
   "source": [
    "# Coeficiente R2\n",
    "r2_score(y_teste, pred_v1)\n",
    "# Nosso modelo é caapz de explicar 100% da variância dos dados, o que é excelente."
   ],
   "metadata": {
    "collapsed": false,
    "ExecuteTime": {
     "end_time": "2023-08-16T15:52:44.661788566Z",
     "start_time": "2023-08-16T15:52:44.542651939Z"
    }
   },
   "id": "b653b87cbdfa384b"
  },
  {
   "cell_type": "markdown",
   "source": [
    "### Dataset padronizado"
   ],
   "metadata": {
    "collapsed": false
   },
   "id": "ca85b26b0a7490b7"
  },
  {
   "cell_type": "code",
   "execution_count": 29,
   "outputs": [],
   "source": [
    "# Cria o modelo\n",
    "modelo_v2 = LinearRegression()"
   ],
   "metadata": {
    "collapsed": false,
    "ExecuteTime": {
     "end_time": "2023-08-16T15:56:20.556049299Z",
     "start_time": "2023-08-16T15:56:20.429019126Z"
    }
   },
   "id": "aa134e60bf6d6f87"
  },
  {
   "cell_type": "code",
   "execution_count": 30,
   "outputs": [
    {
     "name": "stdout",
     "output_type": "stream",
     "text": [
      "Coeficientes: \n",
      " [41.16420629 48.19386586 33.13518835 10.21027935  6.93002962]\n",
      "                 Coeficiente\n",
      "NU_NOTA_MT         41.164206\n",
      "NU_NOTA_REDACAO    48.193866\n",
      "NU_NOTA_CN         33.135188\n",
      "NU_NOTA_LC         10.210279\n",
      "NU_NOTA_CH          6.930030\n"
     ]
    }
   ],
   "source": [
    "# Treinamento do dataset original\n",
    "modelo_v2.fit(X_treino_padronizado, y_treino)\n",
    "print('Coeficientes: \\n', modelo_v2.coef_)\n",
    "# Coeficientes das variáveis preditoras\n",
    "df_coef = pd.DataFrame(modelo_v2.coef_, X.columns, columns = ['Coeficiente'])\n",
    "print(df_coef)"
   ],
   "metadata": {
    "collapsed": false,
    "ExecuteTime": {
     "end_time": "2023-08-16T15:57:03.710551871Z",
     "start_time": "2023-08-16T15:57:03.518141598Z"
    }
   },
   "id": "6fb558d85fca4af2"
  },
  {
   "cell_type": "code",
   "execution_count": 31,
   "outputs": [],
   "source": [
    "# Avaliacao do modelo do segundo dataset\n",
    "# Previsões com dados de teste\n",
    "pred_v2 = modelo_v2.predict(X_teste_padronizado)"
   ],
   "metadata": {
    "collapsed": false,
    "ExecuteTime": {
     "end_time": "2023-08-16T15:58:12.170298767Z",
     "start_time": "2023-08-16T15:58:12.033193361Z"
    }
   },
   "id": "e435fdcc19134ed4"
  },
  {
   "cell_type": "code",
   "execution_count": 32,
   "outputs": [
    {
     "data": {
      "text/plain": "<Figure size 1000x800 with 1 Axes>",
      "image/png": "[encoded data removed]"
     },
     "metadata": {},
     "output_type": "display_data"
    }
   ],
   "source": [
    "# Plot\n",
    "plt.figure(figsize = (10,8))\n",
    "plt.scatter(x = y_teste, y = pred_v2, color = 'skyblue', edgecolors = 'black')\n",
    "plt.xlabel('Valor Real de Y')\n",
    "plt.ylabel('Valor Previsto de Y');"
   ],
   "metadata": {
    "collapsed": false,
    "ExecuteTime": {
     "end_time": "2023-08-16T15:58:36.504475358Z",
     "start_time": "2023-08-16T15:58:35.942706502Z"
    }
   },
   "id": "a198e9332d938f60"
  },
  {
   "cell_type": "code",
   "execution_count": 33,
   "outputs": [
    {
     "data": {
      "text/plain": "5.199565712626566e-13"
     },
     "execution_count": 33,
     "metadata": {},
     "output_type": "execute_result"
    }
   ],
   "source": [
    "# MAE - Erro Médio Absoluto\n",
    "mean_absolute_error(y_teste, pred_v2)\n",
    "#O MAE prevê que, em média, as previsões do nosso modelo (de valores gastos) estão erradas em aproximadamente 0.0000000000005, o que é um valor muito pequeno, por'em maior que do modelo anterior."
   ],
   "metadata": {
    "collapsed": false,
    "ExecuteTime": {
     "end_time": "2023-08-16T15:58:57.645235942Z",
     "start_time": "2023-08-16T15:58:57.511308380Z"
    }
   },
   "id": "494c39c2ad97aa67"
  },
  {
   "cell_type": "code",
   "execution_count": 34,
   "outputs": [
    {
     "data": {
      "text/plain": "4.182460105264059e-25"
     },
     "execution_count": 34,
     "metadata": {},
     "output_type": "execute_result"
    }
   ],
   "source": [
    "# MSE - Erro quadrático médio\n",
    "mean_squared_error(y_teste, pred_v2)"
   ],
   "metadata": {
    "collapsed": false,
    "ExecuteTime": {
     "end_time": "2023-08-16T15:59:38.988801431Z",
     "start_time": "2023-08-16T15:59:38.848060264Z"
    }
   },
   "id": "14f8b577861261d3"
  },
  {
   "cell_type": "code",
   "execution_count": 35,
   "outputs": [
    {
     "data": {
      "text/plain": "6.467194217946496e-13"
     },
     "execution_count": 35,
     "metadata": {},
     "output_type": "execute_result"
    }
   ],
   "source": [
    "# RMSE - Raiz quadrada do erro quadrático médio\n",
    "np.sqrt(mean_squared_error(y_teste, pred_v2))"
   ],
   "metadata": {
    "collapsed": false,
    "ExecuteTime": {
     "end_time": "2023-08-16T16:00:20.148499722Z",
     "start_time": "2023-08-16T16:00:20.009732979Z"
    }
   },
   "id": "297425da80556276"
  },
  {
   "cell_type": "code",
   "execution_count": 36,
   "outputs": [
    {
     "data": {
      "text/plain": "1.0"
     },
     "execution_count": 36,
     "metadata": {},
     "output_type": "execute_result"
    }
   ],
   "source": [
    "# Coeficiente R2\n",
    "r2_score(y_teste, pred_v2)\n",
    "# Nosso modelo é caapz de explicar 100% da variância dos dados, o que é excelente, praticamente tao efetivo quanto o anterior."
   ],
   "metadata": {
    "collapsed": false,
    "ExecuteTime": {
     "end_time": "2023-08-16T16:01:01.975838191Z",
     "start_time": "2023-08-16T16:01:01.830033945Z"
    }
   },
   "id": "d0eef72418e86019"
  },
  {
   "cell_type": "markdown",
   "source": [
    "### Dataset na escala entre 0 e 1 para as variaveis preditoras"
   ],
   "metadata": {
    "collapsed": false
   },
   "id": "dddb30c427b656c6"
  },
  {
   "cell_type": "code",
   "execution_count": 37,
   "outputs": [],
   "source": [
    "# Cria o modelo\n",
    "modelo_v3 = LinearRegression()"
   ],
   "metadata": {
    "collapsed": false,
    "ExecuteTime": {
     "end_time": "2023-08-16T16:02:31.097423375Z",
     "start_time": "2023-08-16T16:02:30.959315069Z"
    }
   },
   "id": "f40ef66e06b3de35"
  },
  {
   "cell_type": "code",
   "execution_count": 38,
   "outputs": [
    {
     "name": "stdout",
     "output_type": "stream",
     "text": [
      "Coeficientes: \n",
      " [246.375      250.         210.7        128.41666667  69.59166667]\n",
      "                 Coeficiente\n",
      "NU_NOTA_MT        246.375000\n",
      "NU_NOTA_REDACAO   250.000000\n",
      "NU_NOTA_CN        210.700000\n",
      "NU_NOTA_LC        128.416667\n",
      "NU_NOTA_CH         69.591667\n"
     ]
    }
   ],
   "source": [
    "# Treinamento do dataset original\n",
    "modelo_v3.fit(X_treino_min_max, y_treino)\n",
    "print('Coeficientes: \\n', modelo_v3.coef_)\n",
    "# Coeficientes das variáveis preditoras\n",
    "df_coef = pd.DataFrame(modelo_v3.coef_, X.columns, columns = ['Coeficiente'])\n",
    "print(df_coef)"
   ],
   "metadata": {
    "collapsed": false,
    "ExecuteTime": {
     "end_time": "2023-08-16T16:03:09.532705192Z",
     "start_time": "2023-08-16T16:03:09.245105139Z"
    }
   },
   "id": "65710e01211db292"
  },
  {
   "cell_type": "code",
   "execution_count": 39,
   "outputs": [],
   "source": [
    "# Avaliacao do modelo do terceiro dataset\n",
    "# Previsões com dados de teste\n",
    "pred_v3 = modelo_v3.predict(X_teste_min_max)"
   ],
   "metadata": {
    "collapsed": false,
    "ExecuteTime": {
     "end_time": "2023-08-16T16:04:11.223728724Z",
     "start_time": "2023-08-16T16:04:11.013548249Z"
    }
   },
   "id": "7263b72a95a7d49a"
  },
  {
   "cell_type": "code",
   "execution_count": 40,
   "outputs": [
    {
     "data": {
      "text/plain": "<Figure size 1000x800 with 1 Axes>",
      "image/png": "[encoded data removed]"
     },
     "metadata": {},
     "output_type": "display_data"
    }
   ],
   "source": [
    "# Plot\n",
    "plt.figure(figsize = (10,8))\n",
    "plt.scatter(x = y_teste, y = pred_v3, color = 'skyblue', edgecolors = 'black')\n",
    "plt.xlabel('Valor Real de Y')\n",
    "plt.ylabel('Valor Previsto de Y');"
   ],
   "metadata": {
    "collapsed": false,
    "ExecuteTime": {
     "end_time": "2023-08-16T16:04:37.775990145Z",
     "start_time": "2023-08-16T16:04:37.151588246Z"
    }
   },
   "id": "8f277406f13362fd"
  },
  {
   "cell_type": "code",
   "execution_count": 41,
   "outputs": [
    {
     "data": {
      "text/plain": "1.1381278009306905e-12"
     },
     "execution_count": 41,
     "metadata": {},
     "output_type": "execute_result"
    }
   ],
   "source": [
    "# MAE - Erro Médio Absoluto\n",
    "mean_absolute_error(y_teste, pred_v3)\n",
    "#O MAE prevê que, em média, as previsões do nosso modelo (de valores gastos) estão erradas em aproximadamente 0.000000000001, o que é um valor muito pequeno, porem maior que os dois modelos anteriores."
   ],
   "metadata": {
    "collapsed": false,
    "ExecuteTime": {
     "end_time": "2023-08-16T16:05:10.521355477Z",
     "start_time": "2023-08-16T16:05:10.366627138Z"
    }
   },
   "id": "106bfe90398293ee"
  },
  {
   "cell_type": "code",
   "execution_count": 42,
   "outputs": [
    {
     "data": {
      "text/plain": "2.3332306109254544e-24"
     },
     "execution_count": 42,
     "metadata": {},
     "output_type": "execute_result"
    }
   ],
   "source": [
    "# MSE - Erro quadrático médio\n",
    "mean_squared_error(y_teste, pred_v3)"
   ],
   "metadata": {
    "collapsed": false,
    "ExecuteTime": {
     "end_time": "2023-08-16T16:05:55.548294543Z",
     "start_time": "2023-08-16T16:05:55.389630145Z"
    }
   },
   "id": "80c4c3826ac9d4ca"
  },
  {
   "cell_type": "code",
   "execution_count": 43,
   "outputs": [
    {
     "data": {
      "text/plain": "1.527491607481185e-12"
     },
     "execution_count": 43,
     "metadata": {},
     "output_type": "execute_result"
    }
   ],
   "source": [
    "# RMSE - Raiz quadrada do erro quadrático médio\n",
    "np.sqrt(mean_squared_error(y_teste, pred_v3))"
   ],
   "metadata": {
    "collapsed": false,
    "ExecuteTime": {
     "end_time": "2023-08-16T16:06:32.675751483Z",
     "start_time": "2023-08-16T16:06:32.517030284Z"
    }
   },
   "id": "d82a6ea1ef02ef85"
  },
  {
   "cell_type": "code",
   "execution_count": 44,
   "outputs": [
    {
     "data": {
      "text/plain": "1.0"
     },
     "execution_count": 44,
     "metadata": {},
     "output_type": "execute_result"
    }
   ],
   "source": [
    "# Coeficiente R2\n",
    "r2_score(y_teste, pred_v3)\n",
    "# Nosso modelo é caapz de explicar 100% da variância dos dados, o que é excelente, praticamente tao efetivo quanto os dois anteriores."
   ],
   "metadata": {
    "collapsed": false,
    "ExecuteTime": {
     "end_time": "2023-08-16T16:06:58.918686719Z",
     "start_time": "2023-08-16T16:06:58.742905952Z"
    }
   },
   "id": "95500daadcccb3e"
  },
  {
   "cell_type": "code",
   "execution_count": null,
   "outputs": [],
   "source": [
    "# Os 3 modelos obtiveram desempenho muito similar, sendo o promeiro sem transformacao nos dados o que obteve menor erro"
   ],
   "metadata": {
    "collapsed": false
   },
   "id": "86d3863994d90a3c"
  }
 ],
 "metadata": {
  "kernelspec": {
   "display_name": "Python 3",
   "language": "python",
   "name": "python3"
  },
  "language_info": {
   "codemirror_mode": {
    "name": "ipython",
    "version": 2
   },
   "file_extension": ".py",
   "mimetype": "text/x-python",
   "name": "python",
   "nbconvert_exporter": "python",
   "pygments_lexer": "ipython2",
   "version": "2.7.6"
  }
 },
 "nbformat": 4,
 "nbformat_minor": 5
}
